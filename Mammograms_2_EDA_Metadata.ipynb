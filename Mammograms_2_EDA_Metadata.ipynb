{
 "cells": [
  {
   "cell_type": "code",
   "execution_count": 58,
   "metadata": {
    "id": "u1XB65y-yCeh"
   },
   "outputs": [],
   "source": [
    "# Import the libraries we'll use below.\n",
    "import os\n",
    "import time\n",
    "import numpy as np\n",
    "from matplotlib import pyplot as plt\n",
    "import pandas as pd\n",
    "import seaborn as sns  # for nicer plots\n",
    "sns.set(style=\"darkgrid\")  # default style\n",
    "\n",
    "import tensorflow as tf\n",
    "from tensorflow import keras\n",
    "from keras import metrics\n",
    "tf.get_logger().setLevel('INFO')\n",
    "\n",
    "import pydicom\n",
    "\n",
    "from pandasql import sqldf"
   ]
  },
  {
   "cell_type": "code",
   "execution_count": 5,
   "metadata": {
    "id": "X5DuhtgN1GW8"
   },
   "outputs": [],
   "source": [
    "# Load train.csv into a dataframe\n",
    "# This is metadata provided in addition to the dicom files\n",
    "df = pd.read_csv(r\"F:\\rsna-breast-cancer-detection\\train.csv\")"
   ]
  },
  {
   "cell_type": "code",
   "execution_count": 6,
   "metadata": {
    "colab": {
     "base_uri": "https://localhost:8080/",
     "height": 206
    },
    "id": "uYtylN5O3VfC",
    "outputId": "d52b3c24-a417-462d-b419-81d6046a4b8b"
   },
   "outputs": [
    {
     "data": {
      "text/html": [
       "<div>\n",
       "<style scoped>\n",
       "    .dataframe tbody tr th:only-of-type {\n",
       "        vertical-align: middle;\n",
       "    }\n",
       "\n",
       "    .dataframe tbody tr th {\n",
       "        vertical-align: top;\n",
       "    }\n",
       "\n",
       "    .dataframe thead th {\n",
       "        text-align: right;\n",
       "    }\n",
       "</style>\n",
       "<table border=\"1\" class=\"dataframe\">\n",
       "  <thead>\n",
       "    <tr style=\"text-align: right;\">\n",
       "      <th></th>\n",
       "      <th>site_id</th>\n",
       "      <th>patient_id</th>\n",
       "      <th>image_id</th>\n",
       "      <th>laterality</th>\n",
       "      <th>view</th>\n",
       "      <th>age</th>\n",
       "      <th>cancer</th>\n",
       "      <th>biopsy</th>\n",
       "      <th>invasive</th>\n",
       "      <th>BIRADS</th>\n",
       "      <th>implant</th>\n",
       "      <th>density</th>\n",
       "      <th>machine_id</th>\n",
       "      <th>difficult_negative_case</th>\n",
       "    </tr>\n",
       "  </thead>\n",
       "  <tbody>\n",
       "    <tr>\n",
       "      <th>0</th>\n",
       "      <td>2</td>\n",
       "      <td>10006</td>\n",
       "      <td>462822612</td>\n",
       "      <td>L</td>\n",
       "      <td>CC</td>\n",
       "      <td>61.0</td>\n",
       "      <td>0</td>\n",
       "      <td>0</td>\n",
       "      <td>0</td>\n",
       "      <td>NaN</td>\n",
       "      <td>0</td>\n",
       "      <td>NaN</td>\n",
       "      <td>29</td>\n",
       "      <td>False</td>\n",
       "    </tr>\n",
       "    <tr>\n",
       "      <th>1</th>\n",
       "      <td>2</td>\n",
       "      <td>10006</td>\n",
       "      <td>1459541791</td>\n",
       "      <td>L</td>\n",
       "      <td>MLO</td>\n",
       "      <td>61.0</td>\n",
       "      <td>0</td>\n",
       "      <td>0</td>\n",
       "      <td>0</td>\n",
       "      <td>NaN</td>\n",
       "      <td>0</td>\n",
       "      <td>NaN</td>\n",
       "      <td>29</td>\n",
       "      <td>False</td>\n",
       "    </tr>\n",
       "    <tr>\n",
       "      <th>2</th>\n",
       "      <td>2</td>\n",
       "      <td>10006</td>\n",
       "      <td>1864590858</td>\n",
       "      <td>R</td>\n",
       "      <td>MLO</td>\n",
       "      <td>61.0</td>\n",
       "      <td>0</td>\n",
       "      <td>0</td>\n",
       "      <td>0</td>\n",
       "      <td>NaN</td>\n",
       "      <td>0</td>\n",
       "      <td>NaN</td>\n",
       "      <td>29</td>\n",
       "      <td>False</td>\n",
       "    </tr>\n",
       "    <tr>\n",
       "      <th>3</th>\n",
       "      <td>2</td>\n",
       "      <td>10006</td>\n",
       "      <td>1874946579</td>\n",
       "      <td>R</td>\n",
       "      <td>CC</td>\n",
       "      <td>61.0</td>\n",
       "      <td>0</td>\n",
       "      <td>0</td>\n",
       "      <td>0</td>\n",
       "      <td>NaN</td>\n",
       "      <td>0</td>\n",
       "      <td>NaN</td>\n",
       "      <td>29</td>\n",
       "      <td>False</td>\n",
       "    </tr>\n",
       "    <tr>\n",
       "      <th>4</th>\n",
       "      <td>2</td>\n",
       "      <td>10011</td>\n",
       "      <td>220375232</td>\n",
       "      <td>L</td>\n",
       "      <td>CC</td>\n",
       "      <td>55.0</td>\n",
       "      <td>0</td>\n",
       "      <td>0</td>\n",
       "      <td>0</td>\n",
       "      <td>0.0</td>\n",
       "      <td>0</td>\n",
       "      <td>NaN</td>\n",
       "      <td>21</td>\n",
       "      <td>True</td>\n",
       "    </tr>\n",
       "  </tbody>\n",
       "</table>\n",
       "</div>"
      ],
      "text/plain": [
       "   site_id  patient_id    image_id laterality view   age  cancer  biopsy  \\\n",
       "0        2       10006   462822612          L   CC  61.0       0       0   \n",
       "1        2       10006  1459541791          L  MLO  61.0       0       0   \n",
       "2        2       10006  1864590858          R  MLO  61.0       0       0   \n",
       "3        2       10006  1874946579          R   CC  61.0       0       0   \n",
       "4        2       10011   220375232          L   CC  55.0       0       0   \n",
       "\n",
       "   invasive  BIRADS  implant density  machine_id  difficult_negative_case  \n",
       "0         0     NaN        0     NaN          29                    False  \n",
       "1         0     NaN        0     NaN          29                    False  \n",
       "2         0     NaN        0     NaN          29                    False  \n",
       "3         0     NaN        0     NaN          29                    False  \n",
       "4         0     0.0        0     NaN          21                     True  "
      ]
     },
     "execution_count": 6,
     "metadata": {},
     "output_type": "execute_result"
    }
   ],
   "source": [
    "df.head()"
   ]
  },
  {
   "cell_type": "code",
   "execution_count": 7,
   "metadata": {
    "colab": {
     "base_uri": "https://localhost:8080/"
    },
    "id": "jnK0474V3XRZ",
    "outputId": "8e3013f0-f3a4-41d3-ccd9-68f4887f9884"
   },
   "outputs": [
    {
     "data": {
      "text/plain": [
       "Index(['site_id', 'patient_id', 'image_id', 'laterality', 'view', 'age',\n",
       "       'cancer', 'biopsy', 'invasive', 'BIRADS', 'implant', 'density',\n",
       "       'machine_id', 'difficult_negative_case'],\n",
       "      dtype='object')"
      ]
     },
     "execution_count": 7,
     "metadata": {},
     "output_type": "execute_result"
    }
   ],
   "source": [
    "df.columns"
   ]
  },
  {
   "cell_type": "code",
   "execution_count": 11,
   "metadata": {
    "colab": {
     "base_uri": "https://localhost:8080/",
     "height": 301
    },
    "id": "emjx2BWP8ruz",
    "outputId": "313181c0-4c23-4303-e363-c30c5c56c9c1"
   },
   "outputs": [
    {
     "data": {
      "text/html": [
       "<div>\n",
       "<style scoped>\n",
       "    .dataframe tbody tr th:only-of-type {\n",
       "        vertical-align: middle;\n",
       "    }\n",
       "\n",
       "    .dataframe tbody tr th {\n",
       "        vertical-align: top;\n",
       "    }\n",
       "\n",
       "    .dataframe thead th {\n",
       "        text-align: right;\n",
       "    }\n",
       "</style>\n",
       "<table border=\"1\" class=\"dataframe\">\n",
       "  <thead>\n",
       "    <tr style=\"text-align: right;\">\n",
       "      <th></th>\n",
       "      <th>site_id</th>\n",
       "      <th>patient_id</th>\n",
       "      <th>image_id</th>\n",
       "      <th>age</th>\n",
       "      <th>cancer</th>\n",
       "      <th>biopsy</th>\n",
       "      <th>invasive</th>\n",
       "      <th>BIRADS</th>\n",
       "      <th>implant</th>\n",
       "      <th>machine_id</th>\n",
       "    </tr>\n",
       "  </thead>\n",
       "  <tbody>\n",
       "    <tr>\n",
       "      <th>count</th>\n",
       "      <td>54706.000000</td>\n",
       "      <td>54706.000000</td>\n",
       "      <td>5.470600e+04</td>\n",
       "      <td>54669.000000</td>\n",
       "      <td>54706.000000</td>\n",
       "      <td>54706.000000</td>\n",
       "      <td>54706.000000</td>\n",
       "      <td>26286.000000</td>\n",
       "      <td>54706.000000</td>\n",
       "      <td>54706.000000</td>\n",
       "    </tr>\n",
       "    <tr>\n",
       "      <th>mean</th>\n",
       "      <td>1.460407</td>\n",
       "      <td>32698.865262</td>\n",
       "      <td>1.079386e+09</td>\n",
       "      <td>58.543928</td>\n",
       "      <td>0.021168</td>\n",
       "      <td>0.054272</td>\n",
       "      <td>0.014953</td>\n",
       "      <td>0.772350</td>\n",
       "      <td>0.026999</td>\n",
       "      <td>54.618378</td>\n",
       "    </tr>\n",
       "    <tr>\n",
       "      <th>std</th>\n",
       "      <td>0.498434</td>\n",
       "      <td>18893.861534</td>\n",
       "      <td>6.183269e+08</td>\n",
       "      <td>10.050884</td>\n",
       "      <td>0.143944</td>\n",
       "      <td>0.226556</td>\n",
       "      <td>0.121365</td>\n",
       "      <td>0.590062</td>\n",
       "      <td>0.162081</td>\n",
       "      <td>44.784800</td>\n",
       "    </tr>\n",
       "    <tr>\n",
       "      <th>min</th>\n",
       "      <td>1.000000</td>\n",
       "      <td>5.000000</td>\n",
       "      <td>6.849100e+04</td>\n",
       "      <td>26.000000</td>\n",
       "      <td>0.000000</td>\n",
       "      <td>0.000000</td>\n",
       "      <td>0.000000</td>\n",
       "      <td>0.000000</td>\n",
       "      <td>0.000000</td>\n",
       "      <td>21.000000</td>\n",
       "    </tr>\n",
       "    <tr>\n",
       "      <th>25%</th>\n",
       "      <td>1.000000</td>\n",
       "      <td>16481.000000</td>\n",
       "      <td>5.458153e+08</td>\n",
       "      <td>51.000000</td>\n",
       "      <td>0.000000</td>\n",
       "      <td>0.000000</td>\n",
       "      <td>0.000000</td>\n",
       "      <td>0.000000</td>\n",
       "      <td>0.000000</td>\n",
       "      <td>29.000000</td>\n",
       "    </tr>\n",
       "    <tr>\n",
       "      <th>50%</th>\n",
       "      <td>1.000000</td>\n",
       "      <td>32432.000000</td>\n",
       "      <td>1.082689e+09</td>\n",
       "      <td>59.000000</td>\n",
       "      <td>0.000000</td>\n",
       "      <td>0.000000</td>\n",
       "      <td>0.000000</td>\n",
       "      <td>1.000000</td>\n",
       "      <td>0.000000</td>\n",
       "      <td>49.000000</td>\n",
       "    </tr>\n",
       "    <tr>\n",
       "      <th>75%</th>\n",
       "      <td>2.000000</td>\n",
       "      <td>48999.000000</td>\n",
       "      <td>1.613228e+09</td>\n",
       "      <td>66.000000</td>\n",
       "      <td>0.000000</td>\n",
       "      <td>0.000000</td>\n",
       "      <td>0.000000</td>\n",
       "      <td>1.000000</td>\n",
       "      <td>0.000000</td>\n",
       "      <td>49.000000</td>\n",
       "    </tr>\n",
       "    <tr>\n",
       "      <th>max</th>\n",
       "      <td>2.000000</td>\n",
       "      <td>65534.000000</td>\n",
       "      <td>2.147472e+09</td>\n",
       "      <td>89.000000</td>\n",
       "      <td>1.000000</td>\n",
       "      <td>1.000000</td>\n",
       "      <td>1.000000</td>\n",
       "      <td>2.000000</td>\n",
       "      <td>1.000000</td>\n",
       "      <td>216.000000</td>\n",
       "    </tr>\n",
       "  </tbody>\n",
       "</table>\n",
       "</div>"
      ],
      "text/plain": [
       "            site_id    patient_id      image_id           age        cancer  \\\n",
       "count  54706.000000  54706.000000  5.470600e+04  54669.000000  54706.000000   \n",
       "mean       1.460407  32698.865262  1.079386e+09     58.543928      0.021168   \n",
       "std        0.498434  18893.861534  6.183269e+08     10.050884      0.143944   \n",
       "min        1.000000      5.000000  6.849100e+04     26.000000      0.000000   \n",
       "25%        1.000000  16481.000000  5.458153e+08     51.000000      0.000000   \n",
       "50%        1.000000  32432.000000  1.082689e+09     59.000000      0.000000   \n",
       "75%        2.000000  48999.000000  1.613228e+09     66.000000      0.000000   \n",
       "max        2.000000  65534.000000  2.147472e+09     89.000000      1.000000   \n",
       "\n",
       "             biopsy      invasive        BIRADS       implant    machine_id  \n",
       "count  54706.000000  54706.000000  26286.000000  54706.000000  54706.000000  \n",
       "mean       0.054272      0.014953      0.772350      0.026999     54.618378  \n",
       "std        0.226556      0.121365      0.590062      0.162081     44.784800  \n",
       "min        0.000000      0.000000      0.000000      0.000000     21.000000  \n",
       "25%        0.000000      0.000000      0.000000      0.000000     29.000000  \n",
       "50%        0.000000      0.000000      1.000000      0.000000     49.000000  \n",
       "75%        0.000000      0.000000      1.000000      0.000000     49.000000  \n",
       "max        1.000000      1.000000      2.000000      1.000000    216.000000  "
      ]
     },
     "execution_count": 11,
     "metadata": {},
     "output_type": "execute_result"
    }
   ],
   "source": [
    "df.describe()"
   ]
  },
  {
   "cell_type": "markdown",
   "metadata": {},
   "source": [
    "## Conclusions so far\n",
    "- Count of image_ids matches number of files found traversing the file structure: 54,706 images\n",
    "- Next, we'll look into why there are missing age and BIRADS data\n",
    "- Checking for uniqueness of image_id will be useful\n",
    "- Categorical bar plots / histograms / counts will be useful for most columns"
   ]
  },
  {
   "cell_type": "markdown",
   "metadata": {},
   "source": [
    "# Look at missing data"
   ]
  },
  {
   "cell_type": "code",
   "execution_count": 12,
   "metadata": {
    "colab": {
     "base_uri": "https://localhost:8080/"
    },
    "id": "E63g9pOn9TxE",
    "outputId": "c78c2f53-357c-475e-edf3-50b23fb8a9c4"
   },
   "outputs": [
    {
     "data": {
      "text/plain": [
       "(54706, 14)"
      ]
     },
     "execution_count": 12,
     "metadata": {},
     "output_type": "execute_result"
    }
   ],
   "source": [
    "df.shape"
   ]
  },
  {
   "cell_type": "code",
   "execution_count": 14,
   "metadata": {
    "colab": {
     "base_uri": "https://localhost:8080/"
    },
    "id": "4PfFXZ7S_Q7R",
    "outputId": "ea062948-eb56-424e-df07-95c1364693b7"
   },
   "outputs": [
    {
     "name": "stdout",
     "output_type": "stream",
     "text": [
      "site_id                        0\n",
      "patient_id                     0\n",
      "image_id                       0\n",
      "laterality                     0\n",
      "view                           0\n",
      "age                           37\n",
      "cancer                         0\n",
      "biopsy                         0\n",
      "invasive                       0\n",
      "BIRADS                     28420\n",
      "implant                        0\n",
      "density                    25236\n",
      "machine_id                     0\n",
      "difficult_negative_case        0\n",
      "dtype: int64\n"
     ]
    }
   ],
   "source": [
    "# Let's look at the missing datapoints\n",
    "# Age, BIRADS, and density have missing data points\n",
    "print(df.isna().sum())"
   ]
  },
  {
   "cell_type": "code",
   "execution_count": 16,
   "metadata": {
    "colab": {
     "base_uri": "https://localhost:8080/"
    },
    "id": "czAYcnX69c4R",
    "outputId": "6a359bcc-ca80-4d19-db54-a173ddb39c8f"
   },
   "outputs": [
    {
     "name": "stdout",
     "output_type": "stream",
     "text": [
      "       site_id  patient_id    image_id laterality view  age  cancer  biopsy  \\\n",
      "1850         1       11995  1129509810          L   CC  NaN       0       0   \n",
      "1851         1       11995  1732220752          L  MLO  NaN       0       0   \n",
      "1852         1       11995   776998051          R  MLO  NaN       0       0   \n",
      "1853         1       11995  2123005479          R   CC  NaN       0       0   \n",
      "12886        1       23752  1081106657          L   CC  NaN       0       0   \n",
      "12887        1       23752  1106722394          L  MLO  NaN       0       0   \n",
      "12888        1       23752   707585829          R  MLO  NaN       0       0   \n",
      "12889        1       23752  1982432589          R   CC  NaN       0       0   \n",
      "16230        1       27212   598973621          L  MLO  NaN       0       0   \n",
      "16231        1       27212   660603973          L   CC  NaN       0       0   \n",
      "16232        1       27212   727784450          R   CC  NaN       0       0   \n",
      "16233        1       27212   900539670          R  MLO  NaN       0       0   \n",
      "28826        1       40791   764475011          L   CC  NaN       0       0   \n",
      "28827        1       40791  1101107358          L  MLO  NaN       0       0   \n",
      "28828        1       40791  1771655552          L   CC  NaN       0       0   \n",
      "28829        1       40791   554095043          R   CC  NaN       0       0   \n",
      "28830        1       40791   568335050          R  MLO  NaN       0       0   \n",
      "33450        1       45891    80154231          L  MLO  NaN       0       0   \n",
      "33451        1       45891   455001902          L  MLO  NaN       0       0   \n",
      "33452        1       45891   776744820          L   CC  NaN       0       0   \n",
      "33453        1       45891  1079326337          R  MLO  NaN       0       0   \n",
      "33454        1       45891  1830737748          R   CC  NaN       0       0   \n",
      "33455        1       45891  2104208292          R  MLO  NaN       0       0   \n",
      "35195        1       47764   240900538          L  MLO  NaN       0       0   \n",
      "35196        1       47764   514059209          L   CC  NaN       0       0   \n",
      "35197        1       47764  1000923169          L  MLO  NaN       0       0   \n",
      "35198        1       47764   232534924          R   CC  NaN       0       0   \n",
      "35199        1       47764  1344437814          R  MLO  NaN       0       0   \n",
      "36350        1       49020  1309042956          L  MLO  NaN       0       0   \n",
      "36351        1       49020  1352114614          L  MLO  NaN       0       0   \n",
      "36352        1       49020  1404451163          L   CC  NaN       0       0   \n",
      "36353        1       49020   863721443          R   CC  NaN       0       0   \n",
      "36354        1       49020  1299851146          R  MLO  NaN       0       0   \n",
      "38567        1       51500   955012081          L  MLO  NaN       0       0   \n",
      "38568        1       51500  1155043753          L   CC  NaN       0       0   \n",
      "38569        1       51500   683986533          R   CC  NaN       0       0   \n",
      "38570        1       51500  1335870954          R  MLO  NaN       0       0   \n",
      "\n",
      "       invasive  BIRADS  implant density  machine_id  difficult_negative_case  \n",
      "1850          0     1.0        0       D          49                    False  \n",
      "1851          0     1.0        0       D          49                    False  \n",
      "1852          0     1.0        0       D          49                    False  \n",
      "1853          0     1.0        0       D          49                    False  \n",
      "12886         0     1.0        0       C          49                    False  \n",
      "12887         0     1.0        0       C          49                    False  \n",
      "12888         0     1.0        0       C          49                    False  \n",
      "12889         0     1.0        0       C          49                    False  \n",
      "16230         0     NaN        0       D          49                    False  \n",
      "16231         0     NaN        0       D          49                    False  \n",
      "16232         0     0.0        0       D          49                     True  \n",
      "16233         0     0.0        0       D          49                     True  \n",
      "28826         0     2.0        0       C          49                    False  \n",
      "28827         0     2.0        0       C          49                    False  \n",
      "28828         0     2.0        0       C          49                    False  \n",
      "28829         0     2.0        0       C          49                    False  \n",
      "28830         0     2.0        0       C          49                    False  \n",
      "33450         0     NaN        0       C          49                    False  \n",
      "33451         0     NaN        0       C          49                    False  \n",
      "33452         0     NaN        0       C          49                    False  \n",
      "33453         0     0.0        0       C          49                     True  \n",
      "33454         0     0.0        0       C          49                     True  \n",
      "33455         0     0.0        0       C          49                     True  \n",
      "35195         0     NaN        0       C          49                    False  \n",
      "35196         0     NaN        0       C          49                    False  \n",
      "35197         0     NaN        0       C          49                    False  \n",
      "35198         0     0.0        0       C          49                     True  \n",
      "35199         0     0.0        0       C          49                     True  \n",
      "36350         0     1.0        0       B          49                    False  \n",
      "36351         0     1.0        0       B          49                    False  \n",
      "36352         0     1.0        0       B          49                    False  \n",
      "36353         0     1.0        0       B          49                    False  \n",
      "36354         0     1.0        0       B          49                    False  \n",
      "38567         0     1.0        0       B          49                    False  \n",
      "38568         0     1.0        0       B          49                    False  \n",
      "38569         0     1.0        0       B          49                    False  \n",
      "38570         0     1.0        0       B          49                    False  \n"
     ]
    }
   ],
   "source": [
    "# Let's look at the rows with missing age\n",
    "missing_age_rows = df[df['age'].isna()]\n",
    "\n",
    "# display the selected rows\n",
    "print(missing_age_rows)\n",
    "\n",
    "# We notice the site_id is 1 in all cases\n",
    "# machine id is 49 in all cases\n",
    "# No cancer in all cases - which is by far the majority of the dataset\n",
    "# A few difficult negative cases\n",
    "# Not seeing a meaningful reason to keep nor delete this data. \n",
    "# Decide to keep it for now but if age becomes important, will either remove or set age to average from the rest of the dataset. "
   ]
  },
  {
   "cell_type": "code",
   "execution_count": 20,
   "metadata": {},
   "outputs": [
    {
     "name": "stdout",
     "output_type": "stream",
     "text": [
      "            site_id    patient_id      image_id           age        cancer  \\\n",
      "count  28420.000000  28420.000000  2.842000e+04  28412.000000  28420.000000   \n",
      "mean       1.795778  32589.740676  1.077739e+09     59.886738      0.017382   \n",
      "std        0.403139  18884.588586  6.174081e+08      8.868385      0.130693   \n",
      "min        1.000000      5.000000  1.934590e+05     26.000000      0.000000   \n",
      "25%        2.000000  16202.500000  5.459971e+08     54.000000      0.000000   \n",
      "50%        2.000000  32354.000000  1.077389e+09     60.000000      0.000000   \n",
      "75%        2.000000  48829.000000  1.612052e+09     66.000000      0.000000   \n",
      "max        2.000000  65530.000000  2.147416e+09     89.000000      1.000000   \n",
      "\n",
      "             biopsy      invasive  BIRADS       implant    machine_id  \n",
      "count  28420.000000  28420.000000     0.0  28420.000000  28420.000000  \n",
      "mean       0.021605      0.012949     NaN      0.008198     39.646129  \n",
      "std        0.145391      0.113055     NaN      0.090175     26.255477  \n",
      "min        0.000000      0.000000     NaN      0.000000     21.000000  \n",
      "25%        0.000000      0.000000     NaN      0.000000     21.000000  \n",
      "50%        0.000000      0.000000     NaN      0.000000     29.000000  \n",
      "75%        0.000000      0.000000     NaN      0.000000     48.000000  \n",
      "max        1.000000      1.000000     NaN      1.000000    216.000000  \n"
     ]
    }
   ],
   "source": [
    "# Let's take a quick look at the missing BIRADS\n",
    "# select the rows where column B has missing values\n",
    "missing_BIRADS_rows = df[df['BIRADS'].isna()]\n",
    "\n",
    "# display the selected rows\n",
    "print(missing_BIRADS_rows.describe())\n",
    "\n",
    "# This is a significant number of datapoints 28420/54706 -> 52%\n",
    "# Decide to not use BIRADS in algorithm"
   ]
  },
  {
   "cell_type": "markdown",
   "metadata": {},
   "source": [
    "## Conclusions so far\n",
    "- N/As in age column: Will not delete data from those images unless age becomes important part of algorithm\n",
    "- N/As in BIRADS: will not use the BIRADS information since this is a significant portion of the dataset (52%)\n",
    "- N/As in density: will not use the density information since this is a significant portion of the dataset (46%)"
   ]
  },
  {
   "cell_type": "markdown",
   "metadata": {},
   "source": [
    "# Check uniqueness of image_id"
   ]
  },
  {
   "cell_type": "code",
   "execution_count": 23,
   "metadata": {},
   "outputs": [
    {
     "name": "stdout",
     "output_type": "stream",
     "text": [
      "All values in column B are unique.\n"
     ]
    }
   ],
   "source": [
    "# check the uniqueness of values in column B\n",
    "num_unique = df['image_id'].nunique()\n",
    "num_total = df['image_id'].count()\n",
    "if num_unique == num_total:\n",
    "    print(\"All values in column B are unique.\")\n",
    "else:\n",
    "    print(\"Column B has non-unique values.\")"
   ]
  },
  {
   "cell_type": "markdown",
   "metadata": {},
   "source": [
    "# Look at each column, including counts and histograms"
   ]
  },
  {
   "cell_type": "markdown",
   "metadata": {},
   "source": [
    "## Conclusions\n",
    "- Sites: 2 sites, somewhat even distribution acorss them\n",
    "- Patients: 11,913 patients. Most patients have 4 images. \n",
    "- Cancer outcome is tied to breast not patient. A patient can have cancer in one breast and not the other. All images associated with a given breast have the same cancer outcome. \n",
    "- It's unclear why some patients have up to 14 images. It doesn't seem to be tied to presence of cancer. Since this is like counting the same data multiple times, I propose not using patient for whom there are more than 6 images. "
   ]
  },
  {
   "cell_type": "code",
   "execution_count": 30,
   "metadata": {},
   "outputs": [
    {
     "name": "stdout",
     "output_type": "stream",
     "text": [
      "Sites:\n",
      " 1    53.96\n",
      "2    46.04\n",
      "Name: site_id, dtype: float64\n"
     ]
    }
   ],
   "source": [
    "# Sites\n",
    "# How many sites are there? ->2\n",
    "# How is the data distributed across sites? -> 54% at site 1 and 46% at site 2\n",
    "# Pretty even distribution\n",
    "site_value_counts = df['site_id'].value_counts(normalize=True)*100\n",
    "print('Sites:\\n',site_value_counts.round(2))"
   ]
  },
  {
   "cell_type": "code",
   "execution_count": 56,
   "metadata": {},
   "outputs": [
    {
     "data": {
      "text/plain": [
       "0.6910937631159237"
      ]
     },
     "execution_count": 56,
     "metadata": {},
     "output_type": "execute_result"
    }
   ],
   "source": [
    "8233/11913"
   ]
  },
  {
   "cell_type": "code",
   "execution_count": 57,
   "metadata": {},
   "outputs": [
    {
     "name": "stdout",
     "output_type": "stream",
     "text": [
      "Patient count: 11913 \n",
      "\n",
      "Counts of number of images per patient:\n",
      " 4     8233\n",
      "5     1767\n",
      "6     1218\n",
      "7      276\n",
      "8      229\n",
      "9       99\n",
      "10      53\n",
      "11      19\n",
      "12      12\n",
      "13       5\n",
      "14       2\n",
      "Name: patient_id, dtype: int64\n"
     ]
    },
    {
     "data": {
      "text/plain": [
       "<AxesSubplot:>"
      ]
     },
     "execution_count": 57,
     "metadata": {},
     "output_type": "execute_result"
    },
    {
     "data": {
      "image/png": "[encoded data removed]",
      "text/plain": [
       "<Figure size 432x288 with 1 Axes>"
      ]
     },
     "metadata": {},
     "output_type": "display_data"
    }
   ],
   "source": [
    "# Patients\n",
    "# check number of patients\n",
    "patient_n_unique = df['patient_id'].nunique()\n",
    "print('Patient count:', patient_n_unique, '\\n')\n",
    "\n",
    "# table of number of images per patient\n",
    "patient_value_counts = df['patient_id'].value_counts()\n",
    "summary_patient_value_counts = patient_value_counts.value_counts()\n",
    "print('Counts of number of images per patient:\\n', summary_patient_value_counts)\n",
    "\n",
    "# visualize number of images per patient\n",
    "patient_value_counts.hist()\n",
    "\n",
    "# Most patients have 4 images (69%)\n",
    "# Other patients have up to 14 images\n",
    "# In the next cell, let's look into why some patients have more images"
   ]
  },
  {
   "cell_type": "code",
   "execution_count": 95,
   "metadata": {},
   "outputs": [
    {
     "name": "stdout",
     "output_type": "stream",
     "text": [
      "   site_id  patient_id    image_id laterality view   age  cancer  biopsy  \\\n",
      "0        2       10006   462822612          L   CC  61.0       0       0   \n",
      "1        2       10006  1459541791          L  MLO  61.0       0       0   \n",
      "2        2       10006  1864590858          R  MLO  61.0       0       0   \n",
      "3        2       10006  1874946579          R   CC  61.0       0       0   \n",
      "4        2       10011   220375232          L   CC  55.0       0       0   \n",
      "\n",
      "   invasive  BIRADS  implant density  machine_id  difficult_negative_case  \\\n",
      "0         0     NaN        0     NaN          29                    False   \n",
      "1         0     NaN        0     NaN          29                    False   \n",
      "2         0     NaN        0     NaN          29                    False   \n",
      "3         0     NaN        0     NaN          29                    False   \n",
      "4         0     0.0        0     NaN          21                     True   \n",
      "\n",
      "   num_images  \n",
      "0           4  \n",
      "1           4  \n",
      "2           4  \n",
      "3           4  \n",
      "4           4  \n"
     ]
    }
   ],
   "source": [
    "# compute count of image_ids for each patient_id\n",
    "image_counts = df.groupby('patient_id').size().reset_index(name='num_images')\n",
    "\n",
    "# merge counts back into original DataFrame\n",
    "df = df.merge(image_counts, on='patient_id')\n",
    "\n",
    "print(df.head())"
   ]
  },
  {
   "cell_type": "code",
   "execution_count": 107,
   "metadata": {},
   "outputs": [
    {
     "name": "stdout",
     "output_type": "stream",
     "text": [
      "    num_images  cancer      0\n",
      "0            4       0  32314\n",
      "1            4       1    618\n",
      "2            5       0   8609\n",
      "3            5       1    226\n",
      "4            6       0   7128\n",
      "5            6       1    180\n",
      "6            7       0   1868\n",
      "7            7       1     64\n",
      "8            8       0   1798\n",
      "9            8       1     34\n",
      "10           9       0    860\n",
      "11           9       1     31\n",
      "12          10       0    525\n",
      "13          10       1      5\n",
      "14          11       0    209\n",
      "15          12       0    144\n",
      "16          13       0     65\n",
      "17          14       0     28\n"
     ]
    }
   ],
   "source": [
    "grouped = df.groupby(['num_images', 'cancer']).size().reset_index()\n",
    "print(grouped)"
   ]
  },
  {
   "cell_type": "code",
   "execution_count": 120,
   "metadata": {},
   "outputs": [
    {
     "name": "stdout",
     "output_type": "stream",
     "text": [
      "Patients w/ 4 images. % with cancer: 0.02 %\n",
      "Patients w/ 5 images. % with cancer: 0.03 %\n",
      "Patients w/ 6 images. % with cancer: 0.03 %\n",
      "Patients w/ 7 images. % with cancer: 0.03 %\n",
      "Patients w/ 8 images. % with cancer: 0.02 %\n",
      "Patients w/ 9 images. % with cancer: 0.04 %\n",
      "Patients w/ 10 images. % with cancer: 0.01 %\n",
      "Patients w/ 11, 12, 13, or 14 images. % with cancer: 0%\n"
     ]
    }
   ],
   "source": [
    "print('Patients w/ 4 images. % with cancer:', round(618/32314,2), '%')\n",
    "print('Patients w/ 5 images. % with cancer:',round(226/8609,2),'%')\n",
    "print('Patients w/ 6 images. % with cancer:',round(180/7128,2), '%')\n",
    "print('Patients w/ 7 images. % with cancer:',round(64/1868,2), '%')\n",
    "print('Patients w/ 8 images. % with cancer:',round(34/1798,2), '%')\n",
    "print('Patients w/ 9 images. % with cancer:',round(31/860,2), '%')\n",
    "print('Patients w/ 10 images. % with cancer:',round(5/525,2), '%')\n",
    "print('Patients w/ 11, 12, 13, or 14 images. % with cancer: 0%')\n",
    "\n",
    "# Decision -> Let's get rid of the patients with 6+ images\n",
    "# This is like counting the same patient multiple times"
   ]
  },
  {
   "cell_type": "code",
   "execution_count": 121,
   "metadata": {},
   "outputs": [],
   "source": [
    "# What proportion of images are omitted if we don't use the patients with 6+ images?\n",
    "\n",
    "############# Fill this is"
   ]
  },
  {
   "cell_type": "code",
   "execution_count": 96,
   "metadata": {},
   "outputs": [
    {
     "data": {
      "text/plain": [
       "Index(['site_id', 'patient_id', 'image_id', 'laterality', 'view', 'age',\n",
       "       'cancer', 'biopsy', 'invasive', 'BIRADS', 'implant', 'density',\n",
       "       'machine_id', 'difficult_negative_case', 'num_images'],\n",
       "      dtype='object')"
      ]
     },
     "execution_count": 96,
     "metadata": {},
     "output_type": "execute_result"
    }
   ],
   "source": [
    "df.columns"
   ]
  },
  {
   "cell_type": "code",
   "execution_count": 62,
   "metadata": {},
   "outputs": [
    {
     "name": "stdout",
     "output_type": "stream",
     "text": [
      "      patient_id    image_id\n",
      "0          10130   388811999\n",
      "1          10130   613462606\n",
      "2          10130  1360338805\n",
      "3          10130  1672636630\n",
      "4          10226   461614796\n",
      "...          ...         ...\n",
      "1153        9707  1900919592\n",
      "1154        9840   111786935\n",
      "1155        9840  1559360810\n",
      "1156        9851  1409270544\n",
      "1157        9851  1434430689\n",
      "\n",
      "[1158 rows x 2 columns]\n"
     ]
    }
   ],
   "source": [
    "# Why do some patients have more images?\n",
    "# First let's look at number of cases with cancer - number of patients and number of images\n",
    "# A total of 1157 images have positive cancer case\n",
    "q = \"SELECT patient_id, image_id FROM df WHERE cancer = 1\"\n",
    "result = sqldf(q, globals())\n",
    "print(result)"
   ]
  },
  {
   "cell_type": "code",
   "execution_count": 73,
   "metadata": {},
   "outputs": [
    {
     "name": "stdout",
     "output_type": "stream",
     "text": [
      "     patient_id\n",
      "0           106\n",
      "1           236\n",
      "2           283\n",
      "3           500\n",
      "4           729\n",
      "..          ...\n",
      "475       65222\n",
      "476       65224\n",
      "477       65244\n",
      "478       65427\n",
      "479       65492\n",
      "\n",
      "[480 rows x 1 columns]\n"
     ]
    }
   ],
   "source": [
    "# Check if the outcome is the same for a given patient\n",
    "q = \"\"\"\n",
    "    SELECT patient_id\n",
    "    FROM (\n",
    "        SELECT patient_id, COUNT(DISTINCT cancer) AS unique_outcomes\n",
    "        FROM df\n",
    "        GROUP BY patient_id\n",
    "        ) \n",
    "    WHERE unique_outcomes > 1\n",
    "    group by patient_id\n",
    "\"\"\"\n",
    "\n",
    "# run SQL query using pandasql\n",
    "result = sqldf(q)\n",
    "print(result)"
   ]
  },
  {
   "cell_type": "code",
   "execution_count": 74,
   "metadata": {},
   "outputs": [
    {
     "name": "stdout",
     "output_type": "stream",
     "text": [
      "   patient_id    image_id laterality  cancer\n",
      "0         106    76321767          L       1\n",
      "1         106  2018825992          L       1\n",
      "2         106  1160585918          R       0\n",
      "3         106  1495797827          R       0\n"
     ]
    }
   ],
   "source": [
    "# Look at an example\n",
    "q2 = \"\"\"\n",
    "    SELECT patient_id, image_id, laterality, cancer\n",
    "    FROM df\n",
    "    WHERE patient_id = 106\n",
    "\"\"\"\n",
    "\n",
    "# run SQL query using pandasql\n",
    "result2 = sqldf(q2)\n",
    "print(result2)"
   ]
  },
  {
   "cell_type": "code",
   "execution_count": 76,
   "metadata": {},
   "outputs": [
    {
     "name": "stdout",
     "output_type": "stream",
     "text": [
      "Empty DataFrame\n",
      "Columns: [patient_id, laterality]\n",
      "Index: []\n"
     ]
    }
   ],
   "source": [
    "# check if outcome is the same for a given laterality for a given patient\n",
    "# answer is yes -> outcome of cancer or not is per breast\n",
    "q = \"\"\"\n",
    "    SELECT patient_id, laterality\n",
    "    FROM (\n",
    "        SELECT patient_id, laterality, COUNT(DISTINCT cancer) AS unique_outcomes\n",
    "        FROM df\n",
    "        GROUP BY patient_id, laterality\n",
    "        ) \n",
    "    WHERE unique_outcomes > 1\n",
    "    group by patient_id, laterality\n",
    "\"\"\"\n",
    "\n",
    "# run SQL query using pandasql\n",
    "result = sqldf(q)\n",
    "print(result)"
   ]
  },
  {
   "cell_type": "code",
   "execution_count": null,
   "metadata": {},
   "outputs": [],
   "source": []
  },
  {
   "cell_type": "code",
   "execution_count": 123,
   "metadata": {
    "colab": {
     "base_uri": "https://localhost:8080/",
     "height": 301
    },
    "id": "Y8X5hB8V99du",
    "outputId": "bd7f0fd0-0658-4898-e9b1-83bc1d8a802c"
   },
   "outputs": [
    {
     "data": {
      "text/plain": [
       "array([[<AxesSubplot:title={'center':'age'}>]], dtype=object)"
      ]
     },
     "execution_count": 123,
     "metadata": {},
     "output_type": "execute_result"
    },
    {
     "data": {
      "image/png": "[encoded data removed]",
      "text/plain": [
       "<Figure size 432x288 with 1 Axes>"
      ]
     },
     "metadata": {},
     "output_type": "display_data"
    }
   ],
   "source": [
    "df.hist('age')"
   ]
  },
  {
   "cell_type": "code",
   "execution_count": 124,
   "metadata": {
    "colab": {
     "base_uri": "https://localhost:8080/",
     "height": 301
    },
    "id": "8ftWgQcR-m3f",
    "outputId": "25991e2f-22d2-415d-edc3-39ac877f1a7e"
   },
   "outputs": [
    {
     "data": {
      "text/plain": [
       "array([[<AxesSubplot:title={'center':'cancer'}>]], dtype=object)"
      ]
     },
     "execution_count": 124,
     "metadata": {},
     "output_type": "execute_result"
    },
    {
     "data": {
      "image/png": "[encoded data removed]",
      "text/plain": [
       "<Figure size 432x288 with 1 Axes>"
      ]
     },
     "metadata": {},
     "output_type": "display_data"
    }
   ],
   "source": [
    "df.hist('cancer')\n",
    "#we should probably baseline to the most likely case: no cancer"
   ]
  },
  {
   "cell_type": "code",
   "execution_count": 125,
   "metadata": {
    "colab": {
     "base_uri": "https://localhost:8080/",
     "height": 301
    },
    "id": "BJ3DGtQH-rYy",
    "outputId": "9c08d449-8146-45f3-f67c-0369a9f562ad"
   },
   "outputs": [
    {
     "data": {
      "text/plain": [
       "array([[<AxesSubplot:title={'center':'biopsy'}>]], dtype=object)"
      ]
     },
     "execution_count": 125,
     "metadata": {},
     "output_type": "execute_result"
    },
    {
     "data": {
      "image/png": "[encoded data removed]",
      "text/plain": [
       "<Figure size 432x288 with 1 Axes>"
      ]
     },
     "metadata": {},
     "output_type": "display_data"
    }
   ],
   "source": [
    "df.hist('biopsy')"
   ]
  },
  {
   "cell_type": "code",
   "execution_count": 126,
   "metadata": {
    "colab": {
     "base_uri": "https://localhost:8080/",
     "height": 301
    },
    "id": "Q6Smjs3D_dP4",
    "outputId": "2ccff668-1648-4ffd-8bd9-6063192701e8"
   },
   "outputs": [
    {
     "data": {
      "text/plain": [
       "array([[<AxesSubplot:title={'center':'invasive'}>]], dtype=object)"
      ]
     },
     "execution_count": 126,
     "metadata": {},
     "output_type": "execute_result"
    },
    {
     "data": {
      "image/png": "[encoded data removed]",
      "text/plain": [
       "<Figure size 432x288 with 1 Axes>"
      ]
     },
     "metadata": {},
     "output_type": "display_data"
    }
   ],
   "source": [
    "df.hist('invasive')"
   ]
  },
  {
   "cell_type": "code",
   "execution_count": 127,
   "metadata": {
    "colab": {
     "base_uri": "https://localhost:8080/",
     "height": 301
    },
    "id": "NdJF8Kg8_her",
    "outputId": "b218a245-cf0a-4ff2-8ab5-5f08d95aa006"
   },
   "outputs": [
    {
     "data": {
      "text/plain": [
       "array([[<AxesSubplot:title={'center':'BIRADS'}>]], dtype=object)"
      ]
     },
     "execution_count": 127,
     "metadata": {},
     "output_type": "execute_result"
    },
    {
     "data": {
      "image/png": "[encoded data removed]",
      "text/plain": [
       "<Figure size 432x288 with 1 Axes>"
      ]
     },
     "metadata": {},
     "output_type": "display_data"
    }
   ],
   "source": [
    "df.hist('BIRADS')"
   ]
  },
  {
   "cell_type": "code",
   "execution_count": null,
   "metadata": {
    "id": "iKeWLTxcAVCD"
   },
   "outputs": [],
   "source": []
  },
  {
   "cell_type": "code",
   "execution_count": 122,
   "metadata": {
    "colab": {
     "base_uri": "https://localhost:8080/",
     "height": 406
    },
    "id": "GPXWHTDNA9Ss",
    "outputId": "e9343df4-a05d-438b-bd3a-5542594496f7"
   },
   "outputs": [
    {
     "data": {
      "text/plain": [
       "<AxesSubplot:>"
      ]
     },
     "execution_count": 122,
     "metadata": {},
     "output_type": "execute_result"
    },
    {
     "data": {
      "image/png": "[encoded data removed]",
      "text/plain": [
       "<Figure size 432x288 with 2 Axes>"
      ]
     },
     "metadata": {},
     "output_type": "display_data"
    }
   ],
   "source": [
    "corr_matrix = df.corr()\n",
    "rounded_corr_matrix = corr_matrix.round(2)\n",
    "sns.heatmap(rounded_corr_matrix, annot=True, cmap='coolwarm', annot_kws={\"fontsize\":8, \"fontweight\": \"bold\", \"ha\": 'center', \"va\": 'center'})"
   ]
  },
  {
   "cell_type": "code",
   "execution_count": 129,
   "metadata": {
    "colab": {
     "base_uri": "https://localhost:8080/"
    },
    "id": "zlQNsLEnDpEk",
    "outputId": "e03bd535-5f12-4940-8404-1aca934ed1c9"
   },
   "outputs": [
    {
     "name": "stdout",
     "output_type": "stream",
     "text": [
      "Portion of images with cancer: 2.16 %\n",
      "Portion of images with invasive cancer: 1.52 %\n",
      "Portion of images with biopsy: 5.74 %\n"
     ]
    }
   ],
   "source": [
    "pct_images_with_cancer = round(counts_cancer[1]/counts_cancer[0]*100,2)\n",
    "pct_images_with_invasive_cancer = round(counts_invasive[1]/counts_invasive[0]*100,2)\n",
    "pct_images_with_biopsy = round(counts_biopsy[1]/counts_biopsy[0]*100,2)\n",
    "print('Portion of images with cancer:',pct_images_with_cancer ,'%')\n",
    "print('Portion of images with invasive cancer:',pct_images_with_invasive_cancer ,'%')\n",
    "print('Portion of images with biopsy:',pct_images_with_biopsy ,'%')"
   ]
  },
  {
   "cell_type": "code",
   "execution_count": 130,
   "metadata": {
    "colab": {
     "base_uri": "https://localhost:8080/"
    },
    "id": "eVvIs0TvED9K",
    "outputId": "7da8a2e7-d1e3-402a-9e80-a40701e9ff73"
   },
   "outputs": [
    {
     "name": "stdout",
     "output_type": "stream",
     "text": [
      "(0, 15)\n"
     ]
    }
   ],
   "source": [
    "#sanity check - are there any images with no cancer but with invasive\n",
    "#passed check - All that are labeled as invasive are also labeled as cancer\n",
    "df_check1 = df[(df['cancer'] == 0) & (df['invasive'] == 1)]\n",
    "print(df_check1.shape)"
   ]
  },
  {
   "cell_type": "code",
   "execution_count": 131,
   "metadata": {
    "colab": {
     "base_uri": "https://localhost:8080/"
    },
    "id": "XmpYWKy-EUwx",
    "outputId": "a2acad7e-e364-490c-925c-2dc42bbacc8e"
   },
   "outputs": [
    {
     "name": "stdout",
     "output_type": "stream",
     "text": [
      "     site_id  patient_id    image_id laterality view   age  cancer  biopsy  \\\n",
      "87         1       10130   388811999          L  MLO  71.0       1       1   \n",
      "88         1       10130   613462606          L   CC  71.0       1       1   \n",
      "89         1       10130  1360338805          L   CC  71.0       1       1   \n",
      "90         1       10130  1672636630          L  MLO  71.0       1       1   \n",
      "190        1       10226   461614796          L  MLO  71.0       1       1   \n",
      "\n",
      "     invasive  BIRADS  implant density  machine_id  difficult_negative_case  \\\n",
      "87          1     0.0        0       B          49                    False   \n",
      "88          1     0.0        0       B          49                    False   \n",
      "89          1     0.0        0       B          49                    False   \n",
      "90          1     0.0        0       B          49                    False   \n",
      "190         1     0.0        0       C          49                    False   \n",
      "\n",
      "     num_images  \n",
      "87            7  \n",
      "88            7  \n",
      "89            7  \n",
      "90            7  \n",
      "190           6  \n",
      "Shape: (1158, 15)\n"
     ]
    },
    {
     "data": {
      "text/plain": [
       "388811999"
      ]
     },
     "execution_count": 131,
     "metadata": {},
     "output_type": "execute_result"
    }
   ],
   "source": [
    "#print an example image with cancer\n",
    "df_with_cancer = df[df['cancer'] == 1]\n",
    "print(df_with_cancer.head())\n",
    "print('Shape:',df_with_cancer.shape)\n",
    "inds_cancer = df_with_cancer.index.to_numpy\n",
    "\n",
    "df.loc[87,'image_id']\n",
    "\n"
   ]
  },
  {
   "cell_type": "code",
   "execution_count": 133,
   "metadata": {
    "id": "nkiIQO6wOt5Y"
   },
   "outputs": [],
   "source": [
    "# Ideas\n",
    "#look at the difficult cases\n",
    "#look at sample multiple views for same patient / breast\n",
    "\n",
    "#start putting in models - start simple\n",
    "\n",
    "#revisit precision/accuracy goals given default case is 'no cancer' - look back at old notebooks for how they handled that. "
   ]
  },
  {
   "cell_type": "code",
   "execution_count": null,
   "metadata": {},
   "outputs": [],
   "source": []
  }
 ],
 "metadata": {
  "colab": {
   "provenance": []
  },
  "kernelspec": {
   "display_name": "Python 3 (ipykernel)",
   "language": "python",
   "name": "python3"
  },
  "language_info": {
   "codemirror_mode": {
    "name": "ipython",
    "version": 3
   },
   "file_extension": ".py",
   "mimetype": "text/x-python",
   "name": "python",
   "nbconvert_exporter": "python",
   "pygments_lexer": "ipython3",
   "version": "3.8.11"
  }
 },
 "nbformat": 4,
 "nbformat_minor": 4
}
