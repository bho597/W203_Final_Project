{
 "cells": [
  {
   "cell_type": "markdown",
   "id": "854366bd",
   "metadata": {},
   "source": [
    "# CNN Model"
   ]
  },
  {
   "cell_type": "markdown",
   "id": "47eb3aad",
   "metadata": {},
   "source": [
    "## Import Libraries"
   ]
  },
  {
   "cell_type": "code",
   "execution_count": 1,
   "id": "a51afc0c",
   "metadata": {},
   "outputs": [],
   "source": [
    "from collections import Counter\n",
    "import matplotlib.pyplot as plt\n",
    "import pandas as pd\n",
    "from pandasql import sqldf\n",
    "import time\n",
    "import numpy as np\n",
    "import ssl\n",
    "ssl._create_default_https_context = ssl._create_unverified_context\n",
    "\n",
    "import os\n",
    "import seaborn as sns  # for nicer plots\n",
    "sns.set(style=\"darkgrid\")  # default style\n",
    "\n",
    "from sklearn.model_selection import train_test_split\n",
    "from sklearn.metrics import accuracy_score\n",
    "from skimage.transform import resize\n",
    "\n",
    "# tf and keras\n",
    "import tensorflow as tf\n",
    "from tensorflow.keras.preprocessing.image import ImageDataGenerator, array_to_img, img_to_array, load_img\n",
    "from keras import models\n",
    "from keras import layers\n",
    "\n",
    "\n",
    "import pydicom\n",
    "import csv"
   ]
  },
  {
   "cell_type": "markdown",
   "id": "06dc150a",
   "metadata": {},
   "source": [
    "## Useful functions"
   ]
  },
  {
   "cell_type": "code",
   "execution_count": 2,
   "id": "12e52eee",
   "metadata": {},
   "outputs": [],
   "source": [
    "#Function to go from numeric label to text label\n",
    "def n_to_t_label(n_label):\n",
    "    if n_label == 0:\n",
    "        t_label = 'noCancer'\n",
    "    elif n_label == 1:\n",
    "        t_label = 'withCancer'\n",
    "    else:\n",
    "        raise ValueError('Invalid numeric label. Expected 0 or 1, but got {}'.format(n_label))\n",
    "    return t_label"
   ]
  },
  {
   "cell_type": "code",
   "execution_count": 3,
   "id": "100c4224",
   "metadata": {},
   "outputs": [],
   "source": [
    "#ONLY use images that are 4096x3328 but resized\n",
    "#If this changes, change these variables\n",
    "im_px_1 = 1024#512\n",
    "im_px_2 = 832#416\n",
    "\n",
    "# Def function to plot a mammogram from a vector\n",
    "# Label will be 'withCancer' or 'noCancer'\n",
    "def show_mammogram(x_vec, n_label=0):\n",
    "    label = n_to_t_label(n_label)\n",
    "    x_mat = x_vec.reshape(im_px_1, im_px_2)\n",
    "    plt.imshow(x_mat, cmap=plt.cm.gray)\n",
    "    plt.title('Label of this mammogram is: ' + label)\n",
    "    plt.show()"
   ]
  },
  {
   "cell_type": "code",
   "execution_count": 4,
   "id": "7bd9b36c",
   "metadata": {},
   "outputs": [],
   "source": [
    "## Get matrix of pixels\n",
    "def v_to_m_image(x_vec, im_px_1=1024, im_px_2=832):\n",
    "    x_mat = x_vec.reshape(im_px_1, im_px_2,1)\n",
    "    return x_mat"
   ]
  },
  {
   "cell_type": "markdown",
   "id": "e28b00ec",
   "metadata": {},
   "source": [
    "## Assemble dataframe of images\n",
    "### Only include images that are 5355 x 4915, resize to 512x416\n",
    "### One image per patient to start - plan to increase this"
   ]
  },
  {
   "cell_type": "code",
   "execution_count": 5,
   "id": "c7eecbc8",
   "metadata": {},
   "outputs": [
    {
     "name": "stdout",
     "output_type": "stream",
     "text": [
      "(54706, 5) \n",
      "\n"
     ]
    },
    {
     "data": {
      "text/html": [
       "<div>\n",
       "<style scoped>\n",
       "    .dataframe tbody tr th:only-of-type {\n",
       "        vertical-align: middle;\n",
       "    }\n",
       "\n",
       "    .dataframe tbody tr th {\n",
       "        vertical-align: top;\n",
       "    }\n",
       "\n",
       "    .dataframe thead th {\n",
       "        text-align: right;\n",
       "    }\n",
       "</style>\n",
       "<table border=\"1\" class=\"dataframe\">\n",
       "  <thead>\n",
       "    <tr style=\"text-align: right;\">\n",
       "      <th></th>\n",
       "      <th>file_name</th>\n",
       "      <th>patient_id</th>\n",
       "      <th>cancer</th>\n",
       "      <th>n_rows_image</th>\n",
       "      <th>n_cols_image</th>\n",
       "    </tr>\n",
       "  </thead>\n",
       "  <tbody>\n",
       "    <tr>\n",
       "      <th>0</th>\n",
       "      <td>1459541791.dcm</td>\n",
       "      <td>10006</td>\n",
       "      <td>0</td>\n",
       "      <td>5355</td>\n",
       "      <td>4915</td>\n",
       "    </tr>\n",
       "    <tr>\n",
       "      <th>1</th>\n",
       "      <td>1864590858.dcm</td>\n",
       "      <td>10006</td>\n",
       "      <td>0</td>\n",
       "      <td>5355</td>\n",
       "      <td>4915</td>\n",
       "    </tr>\n",
       "    <tr>\n",
       "      <th>2</th>\n",
       "      <td>1874946579.dcm</td>\n",
       "      <td>10006</td>\n",
       "      <td>0</td>\n",
       "      <td>5355</td>\n",
       "      <td>4915</td>\n",
       "    </tr>\n",
       "    <tr>\n",
       "      <th>3</th>\n",
       "      <td>462822612.dcm</td>\n",
       "      <td>10006</td>\n",
       "      <td>0</td>\n",
       "      <td>5355</td>\n",
       "      <td>4915</td>\n",
       "    </tr>\n",
       "    <tr>\n",
       "      <th>4</th>\n",
       "      <td>1031443799.dcm</td>\n",
       "      <td>10011</td>\n",
       "      <td>0</td>\n",
       "      <td>2776</td>\n",
       "      <td>2082</td>\n",
       "    </tr>\n",
       "  </tbody>\n",
       "</table>\n",
       "</div>"
      ],
      "text/plain": [
       "        file_name  patient_id  cancer  n_rows_image  n_cols_image\n",
       "0  1459541791.dcm       10006       0          5355          4915\n",
       "1  1864590858.dcm       10006       0          5355          4915\n",
       "2  1874946579.dcm       10006       0          5355          4915\n",
       "3   462822612.dcm       10006       0          5355          4915\n",
       "4  1031443799.dcm       10011       0          2776          2082"
      ]
     },
     "execution_count": 5,
     "metadata": {},
     "output_type": "execute_result"
    }
   ],
   "source": [
    "# Get df_joined from the file saved in notebook 4\n",
    "# This data frame has the image file_names, patient_ids, outcomes (cancer or no cancer in 0/1 format and pixel information)\n",
    "df_joined = pd.read_csv(r\"C:\\Users\\mandy\\Documents\\MIDS\\W207\\W207MammogramProject\\JoinedData1.csv\")\n",
    "print(df_joined.shape,'\\n')\n",
    "df_joined.head()"
   ]
  },
  {
   "cell_type": "code",
   "execution_count": 6,
   "id": "147e5828",
   "metadata": {},
   "outputs": [
    {
     "name": "stdout",
     "output_type": "stream",
     "text": [
      "df_filtered shape: (24109, 5) \n",
      "\n",
      "df_filtered:\n",
      "         file_name  patient_id  cancer  n_rows_image  n_cols_image\n",
      "0  1007799858.dcm       10097       0          4096          3328\n",
      "1   166011602.dcm       10097       0          4096          3328\n",
      "2  1957744616.dcm       10097       0          4096          3328\n",
      "3   268368896.dcm       10097       0          4096          3328\n",
      "4   664674273.dcm       10097       0          4096          3328\n"
     ]
    }
   ],
   "source": [
    "# Filter to only keep images with 4096 x 3328 pixels\n",
    "df_filtered = df_joined.loc[(df_joined['n_rows_image'] == 4096) & (df_joined['n_cols_image'] == 3328)].reset_index(drop=True)\n",
    "print('df_filtered shape:', df_filtered.shape, '\\n')\n",
    "print('df_filtered:\\n',df_filtered.head())"
   ]
  },
  {
   "cell_type": "code",
   "execution_count": 7,
   "id": "fd2246a2",
   "metadata": {},
   "outputs": [
    {
     "data": {
      "text/plain": [
       "0    23509\n",
       "1      600\n",
       "Name: cancer, dtype: int64"
      ]
     },
     "execution_count": 7,
     "metadata": {},
     "output_type": "execute_result"
    }
   ],
   "source": [
    "# Check how many cancer vs no cancer cases we're left with after the filtering\n",
    "# 600 cancer cases. No cancer is now ~97% of images vs the pre-filter 98%\n",
    "# conclusion that this filter returns an ok data set, about half of the original and about the same % split outcomes\n",
    "df_filtered['cancer'].value_counts()"
   ]
  },
  {
   "cell_type": "code",
   "execution_count": 8,
   "id": "045cae44",
   "metadata": {},
   "outputs": [
    {
     "name": "stdout",
     "output_type": "stream",
     "text": [
      "                patient_id  cancer  n_rows_image  n_cols_image\n",
      "file_name                                                     \n",
      "1007799858.dcm       10097       0          4096          3328\n",
      "1181635673.dcm       10102       0          4096          3328\n",
      "394215927.dcm        10119       0          4096          3328\n",
      "1891054212.dcm       10124       0          4096          3328\n",
      "1035012441.dcm       10126       0          4096          3328\n",
      "...                    ...     ...           ...           ...\n",
      "1640274067.dcm        9953       0          4096          3328\n",
      "2043422318.dcm        9954       0          4096          3328\n",
      "1731793299.dcm        9955       0          4096          3328\n",
      "1245697729.dcm        9967       0          4096          3328\n",
      "2098937312.dcm        9968       0          4096          3328\n",
      "\n",
      "[5094 rows x 4 columns]\n",
      "df_filtered cancer value counts: 0    4974\n",
      "1     120\n",
      "Name: cancer, dtype: int64\n",
      "\n",
      "98% dataset is positive for cancer\n"
     ]
    }
   ],
   "source": [
    "#For the purpose of this exercise, I only want one image per patient\n",
    "# In practice should do 1 image per breast but simplified for this exercise\n",
    "df_filtered = df_filtered.drop_duplicates(subset=['patient_id'], keep='first').reset_index(drop=True)\n",
    "df_filtered = df_filtered.set_index('file_name')\n",
    "print(df_filtered)\n",
    "print('df_filtered cancer value counts:', df_filtered['cancer'].value_counts())\n",
    "print('\\n98% dataset is positive for cancer')"
   ]
  },
  {
   "cell_type": "code",
   "execution_count": 19,
   "id": "ff1cb4bf",
   "metadata": {},
   "outputs": [
    {
     "data": {
      "text/plain": [
       "patient_id      int64\n",
       "cancer          int64\n",
       "n_rows_image    int64\n",
       "n_cols_image    int64\n",
       "dtype: object"
      ]
     },
     "execution_count": 19,
     "metadata": {},
     "output_type": "execute_result"
    }
   ],
   "source": [
    "df_filtered.dtypes"
   ]
  },
  {
   "cell_type": "code",
   "execution_count": 9,
   "id": "5d8ac6bc",
   "metadata": {},
   "outputs": [
    {
     "name": "stdout",
     "output_type": "stream",
     "text": [
      "Index(['1007799858.dcm', '1181635673.dcm', '394215927.dcm', '1891054212.dcm',\n",
      "       '1035012441.dcm', '1013166704.dcm', '1646384157.dcm', '1520248094.dcm',\n",
      "       '1280087654.dcm', '1352374842.dcm',\n",
      "       ...\n",
      "       '1561108471.dcm', '1991772614.dcm', '1386484611.dcm', '1628036726.dcm',\n",
      "       '1462675731.dcm', '1640274067.dcm', '2043422318.dcm', '1731793299.dcm',\n",
      "       '1245697729.dcm', '2098937312.dcm'],\n",
      "      dtype='object', name='file_name', length=5094)\n"
     ]
    }
   ],
   "source": [
    "imageIds = df_filtered.index\n",
    "print(imageIds)"
   ]
  },
  {
   "cell_type": "code",
   "execution_count": 21,
   "id": "27f75b0e",
   "metadata": {},
   "outputs": [
    {
     "name": "stdout",
     "output_type": "stream",
     "text": [
      "Processed 100 DICOM files...\n"
     ]
    }
   ],
   "source": [
    "#Get Data\n",
    "#X is mammogram images\n",
    "#y is labels\n",
    "\n",
    "# Set the directory where your DICOM files are located\n",
    "dicom_directory = r\"D:\\W207\\rsna-breast-cancer-detection\\train_images\"\n",
    "\n",
    "# Initialize list of flattened training images and outcomes\n",
    "images = []\n",
    "labels = []\n",
    "\n",
    "# Set a counter for the number of DICOM files found\n",
    "count = 0\n",
    "\n",
    "# Start the timer\n",
    "start_time = time.time()\n",
    "\n",
    "# Recursively search for DICOM files in all subdirectories\n",
    "for root, dirs, files in os.walk(dicom_directory):\n",
    "    for filename in files:\n",
    "        # Check if the file is a DICOM file\n",
    "        if filename.endswith(\".dcm\"):\n",
    "            # Check if the file is in the training list\n",
    "            if (imageIds == filename).any().any():\n",
    "                #print(filename)\n",
    "                file_path = os.path.join(root, filename)\n",
    "                # Add the pixel data to X_train_list\n",
    "                ds = pydicom.dcmread(file_path)\n",
    "                pixel_array = ds.pixel_array\n",
    "                resized_pixel_array = resize(pixel_array, (256, 208), anti_aliasing=True)\n",
    "                images.append(resized_pixel_array.flatten())\n",
    "                # Add the label information\n",
    "                labels.append(df_filtered.loc[filename,'cancer'])\n",
    "            # Increment the counter\n",
    "            count += 1\n",
    "            if count % 100 == 0:\n",
    "                print(f\"Processed {count} DICOM files...\")\n",
    "        if count == 100:\n",
    "            break\n",
    "    if count >= 100:\n",
    "        break\n",
    "\n",
    "\n",
    "images = np.array(images)       "
   ]
  },
  {
   "cell_type": "code",
   "execution_count": 12,
   "id": "67735cdb",
   "metadata": {},
   "outputs": [],
   "source": [
    "import csv\n",
    "#Save images and labels so don't have to walk through data again\n",
    "#images\n",
    "#np.savez_compressed('CNN_Xs.npz', data=images)\n",
    "\n",
    "#labels\n",
    "#with open('CNN_labels.csv', 'w', newline='') as file:\n",
    "#    writer = csv.writer(file)\n",
    "#    writer.writerow(labels)"
   ]
  },
  {
   "cell_type": "code",
   "execution_count": 48,
   "id": "5c908b49",
   "metadata": {},
   "outputs": [],
   "source": [
    "#Future: Load the images and labels\n",
    "\n",
    "# Load the compressed array from disk\n",
    "images_mini = np.load('CNN_Xs.npz')['data']\n",
    "\n",
    "# load the labels from disk\n",
    "with open('CNN_labels.csv', 'r') as file:\n",
    "    reader = csv.reader(file)\n",
    "    labels_mini = list(reader)[0]\n",
    "    labels_mini = [int(x) for x in labels_mini]"
   ]
  },
  {
   "cell_type": "code",
   "execution_count": 61,
   "id": "0c1590ff",
   "metadata": {},
   "outputs": [
    {
     "name": "stdout",
     "output_type": "stream",
     "text": [
      "images_mini.shape: (945, 53248)\n",
      "\n",
      "number of labels: 945\n",
      "\n",
      "number of positive cancer cases: 22\n"
     ]
    }
   ],
   "source": [
    "y_mini= np.array(labels_mini)\n",
    "print('images_mini.shape:', images_mini.shape)\n",
    "print('\\nnumber of labels:', len(labels_mini))\n",
    "print('\\nnumber of positive cancer cases:', sum(labels_mini))"
   ]
  },
  {
   "cell_type": "markdown",
   "id": "1df40ffd",
   "metadata": {},
   "source": [
    "## Normalize pixel values to [0,1] range"
   ]
  },
  {
   "cell_type": "code",
   "execution_count": 50,
   "id": "a3dc8352",
   "metadata": {},
   "outputs": [
    {
     "data": {
      "text/plain": [
       "53248"
      ]
     },
     "execution_count": 50,
     "metadata": {},
     "output_type": "execute_result"
    }
   ],
   "source": [
    "256*208"
   ]
  },
  {
   "cell_type": "code",
   "execution_count": 51,
   "id": "3a27b195",
   "metadata": {},
   "outputs": [
    {
     "name": "stdout",
     "output_type": "stream",
     "text": [
      "Original max pixel value: 0.062455176623178454\n",
      "Confirm min pixel value is 0: 0.0\n"
     ]
    }
   ],
   "source": [
    "print('Original max pixel value:', images_mini.max())\n",
    "print('Confirm min pixel value is 0:', images_mini.min())"
   ]
  },
  {
   "cell_type": "code",
   "execution_count": 52,
   "id": "a6c53815",
   "metadata": {},
   "outputs": [],
   "source": [
    "#Normalize image pixel values\n",
    "images_mini_norm = images_mini / images_mini.max()"
   ]
  },
  {
   "cell_type": "code",
   "execution_count": 53,
   "id": "bc85c3b6",
   "metadata": {},
   "outputs": [
    {
     "name": "stdout",
     "output_type": "stream",
     "text": [
      "New max pixel value: 1.0\n",
      "Confirm min pixel value is 0: 0.0\n"
     ]
    }
   ],
   "source": [
    "print('New max pixel value:', images_mini_norm.max())\n",
    "print('Confirm min pixel value is 0:', images_mini_norm.min())"
   ]
  },
  {
   "cell_type": "markdown",
   "id": "d0d6fbf2",
   "metadata": {},
   "source": [
    "## Make all images 3D instead of 1D"
   ]
  },
  {
   "cell_type": "code",
   "execution_count": 94,
   "id": "7dd68cd5",
   "metadata": {},
   "outputs": [
    {
     "data": {
      "text/plain": [
       "(945, 256, 208, 1)"
      ]
     },
     "execution_count": 94,
     "metadata": {},
     "output_type": "execute_result"
    }
   ],
   "source": [
    "images_mini_norm.shape"
   ]
  },
  {
   "cell_type": "code",
   "execution_count": 93,
   "id": "f0b2b08f",
   "metadata": {},
   "outputs": [
    {
     "ename": "ValueError",
     "evalue": "too many values to unpack (expected 2)",
     "output_type": "error",
     "traceback": [
      "\u001b[1;31m---------------------------------------------------------------------------\u001b[0m",
      "\u001b[1;31mValueError\u001b[0m                                Traceback (most recent call last)",
      "\u001b[1;32m~\\AppData\\Local\\Temp/ipykernel_8788/2648441712.py\u001b[0m in \u001b[0;36m<module>\u001b[1;34m\u001b[0m\n\u001b[1;32m----> 1\u001b[1;33m \u001b[0mn_img\u001b[0m\u001b[1;33m,\u001b[0m\u001b[0mn_pix\u001b[0m \u001b[1;33m=\u001b[0m \u001b[0mimages_mini_norm\u001b[0m\u001b[1;33m.\u001b[0m\u001b[0mshape\u001b[0m\u001b[1;33m\u001b[0m\u001b[1;33m\u001b[0m\u001b[0m\n\u001b[0m\u001b[0;32m      2\u001b[0m \u001b[0mimages_mini_norm\u001b[0m \u001b[1;33m=\u001b[0m \u001b[0mimages_mini_norm\u001b[0m\u001b[1;33m.\u001b[0m\u001b[0mreshape\u001b[0m\u001b[1;33m(\u001b[0m\u001b[0mn_img\u001b[0m\u001b[1;33m,\u001b[0m\u001b[1;36m256\u001b[0m\u001b[1;33m,\u001b[0m\u001b[1;36m208\u001b[0m\u001b[1;33m,\u001b[0m\u001b[1;36m1\u001b[0m\u001b[1;33m)\u001b[0m\u001b[1;33m\u001b[0m\u001b[1;33m\u001b[0m\u001b[0m\n\u001b[0;32m      3\u001b[0m \u001b[0mimages_mini_norm\u001b[0m\u001b[1;33m.\u001b[0m\u001b[0mshape\u001b[0m\u001b[1;33m\u001b[0m\u001b[1;33m\u001b[0m\u001b[0m\n",
      "\u001b[1;31mValueError\u001b[0m: too many values to unpack (expected 2)"
     ]
    }
   ],
   "source": [
    "n_img,n_pix = images_mini_norm.shape\n",
    "images_mini_norm = images_mini_norm.reshape(n_img,256,208,1)\n",
    "images_mini_norm.shape"
   ]
  },
  {
   "cell_type": "markdown",
   "id": "841c8590",
   "metadata": {},
   "source": [
    "## Visualize image transformations"
   ]
  },
  {
   "cell_type": "code",
   "execution_count": 89,
   "id": "7ba99dff",
   "metadata": {},
   "outputs": [
    {
     "data": {
      "image/png": "[encoded data removed]",
      "text/plain": [
       "<Figure size 1008x864 with 4 Axes>"
      ]
     },
     "metadata": {},
     "output_type": "display_data"
    }
   ],
   "source": [
    "tf.random.set_seed(1234)\n",
    "\n",
    "fig = plt.figure(figsize=(14, 12))\n",
    "\n",
    "# pull first image from data\n",
    "image = images_mini_norm[0]\n",
    "\n",
    "# plot original\n",
    "ax = fig.add_subplot(1, 4, 1)\n",
    "ax.imshow(array_to_img(image))\n",
    "ax.set_title('Original', size=15);\n",
    "\n",
    "\n",
    "# adjust brightness\n",
    "ax = fig.add_subplot(1, 4, 2)\n",
    "img_bright = tf.image.adjust_brightness(image_m, -.8)\n",
    "ax.imshow(array_to_img(img_bright))\n",
    "ax.set_title('Step 2: Brightness', size=15);\n",
    "\n",
    "\n",
    "# adjust contrast\n",
    "ax = fig.add_subplot(1, 4, 3)\n",
    "img_contrast = tf.image.adjust_contrast(img_bright, contrast_factor=3)\n",
    "ax.imshow(array_to_img(img_contrast))\n",
    "ax.set_title('Step 3: Contrast', size=15);\n",
    "\n",
    "\n",
    "# flip left right\n",
    "ax = fig.add_subplot(1, 4, 4)\n",
    "img_flip = tf.image.flip_left_right(img_contrast)\n",
    "ax.imshow(array_to_img(img_flip))\n",
    "ax.set_title('Step 4: Flip left right', size=15);\n"
   ]
  },
  {
   "cell_type": "markdown",
   "id": "1de545ff",
   "metadata": {},
   "source": [
    "## Split data into train, validate, test"
   ]
  },
  {
   "cell_type": "code",
   "execution_count": 105,
   "id": "51df8d72",
   "metadata": {},
   "outputs": [],
   "source": [
    "def preprocess_data_part2(images, y, split=(0.6,0.2,0.2)):\n",
    "    \"\"\" Split data into train, validation and test sets; \n",
    "    \n",
    "    Params:\n",
    "    -------\n",
    "    images  (np.ndarray): Images of shape (N, 224, 224, 3)\n",
    "    y (np.ndarray): Labels of shape (N,)   \n",
    "    split (tuple): 3 values summing to 1 defining split of train, validation and test sets\n",
    "    \n",
    "    Returns:\n",
    "    --------\n",
    "    X_train (np.ndarray): Train images of shape (N_train, 224, 224, 1)\n",
    "    y_train (np.ndarray): Train labels of shape (N_train,)\n",
    "    X_val (np.ndarray): Val images of shape (N_val, 224, 224, 1)\n",
    "    y_val (np.ndarray): Val labels of shape (N_val,)\n",
    "    X_test (np.ndarray): Test images of shape (N_test, 224, 224, 1)\n",
    "    y_test (np.ndarray): Test labels of shape (N_test,)\n",
    "    \n",
    "    \"\"\"\n",
    "    ### create train/validation/test sets ###\n",
    "    #########################################\n",
    "    # NOTE: Each time you run this cell, you'll re-shuffle the data. The ordering will be the same due to the random seed generator \n",
    "    tf.random.set_seed(1234)\n",
    "    np.random.seed(1234)\n",
    "    shuffle = np.random.permutation(np.arange(images.shape[0]))\n",
    "    images = images[shuffle]\n",
    "    y = y[shuffle]\n",
    "    \n",
    "    splits = np.multiply(len(images_mini), split).astype(int)\n",
    "    X_train, X_val, X_test = np.split(images, [splits[0], splits[0]+splits[1]])\n",
    "    y_train, y_val, y_test = np.split(y, [splits[0], splits[0]+splits[1]])\n",
    "    \n",
    "    return X_train, y_train, X_val, y_val, X_test, y_test"
   ]
  },
  {
   "cell_type": "code",
   "execution_count": 106,
   "id": "6a48f1e9",
   "metadata": {},
   "outputs": [
    {
     "data": {
      "text/plain": [
       "(945,)"
      ]
     },
     "execution_count": 106,
     "metadata": {},
     "output_type": "execute_result"
    }
   ],
   "source": [
    "y_mini.shape"
   ]
  },
  {
   "cell_type": "code",
   "execution_count": 107,
   "id": "1dd716fc",
   "metadata": {},
   "outputs": [
    {
     "name": "stdout",
     "output_type": "stream",
     "text": [
      "X_train shape (567, 256, 208, 1)\n",
      "y_train shape (567,)\n",
      "y_train positive cases 13\n",
      "\n",
      "X_val shape (189, 256, 208, 1)\n",
      "y_val shape (189,)\n",
      "y_val positive cases 7\n",
      "\n",
      "X_test shape (189, 256, 208, 1)\n",
      "y_test shape (189,)\n",
      "y_test positive cases 2\n",
      "\n"
     ]
    }
   ],
   "source": [
    "X_train, y_train, X_val, y_val, X_test, y_test = preprocess_data_part2(\n",
    "    images_mini_norm,\n",
    "    y_mini,\n",
    "    split=(0.6,0.2,0.2)\n",
    ")\n",
    "\n",
    "print(f\"X_train shape {X_train.shape}\")\n",
    "print(f\"y_train shape {y_train.shape}\")\n",
    "print(f\"y_train positive cases {sum(y_train)}\\n\")\n",
    "\n",
    "print(f\"X_val shape {X_val.shape}\")\n",
    "print(f\"y_val shape {y_val.shape}\")\n",
    "print(f\"y_val positive cases {sum(y_val)}\\n\")\n",
    "\n",
    "print(f\"X_test shape {X_test.shape}\")\n",
    "print(f\"y_test shape {y_test.shape}\")\n",
    "print(f\"y_test positive cases {sum(y_test)}\\n\")"
   ]
  },
  {
   "cell_type": "code",
   "execution_count": 108,
   "id": "32711d44",
   "metadata": {},
   "outputs": [],
   "source": [
    "# Augmentation Parameters\n",
    "CONTRAST_FACTOR = 3\n",
    "DELTA = 0.3"
   ]
  },
  {
   "cell_type": "code",
   "execution_count": 111,
   "id": "726ca0f4",
   "metadata": {},
   "outputs": [],
   "source": [
    "def preprocess_data_part3(X_train, y_train, CONTRAST_FACTOR, DELTA):\n",
    "    \n",
    "    # Augment only cancer=1 data\n",
    "    X_train_w_cancer = X_train[y_train == 1, :, :, :]\n",
    "    print(X_train_w_cancer.shape)\n",
    "\n",
    "    y_train_w_cancer = y_train[y_train == 1]\n",
    "    print(y_train_w_cancer.shape)\n",
    "    \n",
    "    ### image augmentation on training data ###\n",
    "    ###########################################\n",
    "    # adjust brightness\n",
    "    X_train_augm = tf.image.adjust_brightness(X_train_w_cancer, delta=DELTA)\n",
    "    \n",
    "    # adjust contrast\n",
    "    X_train_augm = tf.image.adjust_contrast(X_train_augm, contrast_factor=CONTRAST_FACTOR)\n",
    "\n",
    "    # random flip\n",
    "    X_train_augm = tf.image.random_flip_left_right(X_train_augm)\n",
    "    \n",
    "    # concatenate original X_train and augmented X_train data\n",
    "    X_train = tf.concat([X_train, X_train_augm],axis=0)\n",
    "    \n",
    "    # concatenate y_train (note the label is preserved)\n",
    "    y_train_augm = y_train_w_cancer\n",
    "    y_train = tf.concat([y_train, y_train_augm],axis=0)\n",
    "    \n",
    "    # shuffle X_train and y_train, i.e., shuffle two tensors in the same order\n",
    "    shuffle = tf.random.shuffle(tf.range(tf.shape(X_train)[0], dtype=tf.int32))\n",
    "    X_train = tf.gather(X_train, shuffle)\n",
    "    y_train = tf.gather(y_train, shuffle).numpy() #also transforms y_train to numpy array\n",
    "    \n",
    "    return X_train, y_train"
   ]
  },
  {
   "cell_type": "code",
   "execution_count": 113,
   "id": "a6489f3a",
   "metadata": {},
   "outputs": [
    {
     "name": "stdout",
     "output_type": "stream",
     "text": [
      "(13, 256, 208, 1)\n",
      "(13,)\n",
      "X_train shape (580, 256, 208, 1)\n",
      "y_train shape (580,)\n",
      "X_val shape (189, 256, 208, 1)\n",
      "y_val shape (189,)\n",
      "X_test shape (189, 256, 208, 1)\n",
      "y_test shape (189,)\n"
     ]
    }
   ],
   "source": [
    "X_train, y_train = preprocess_data_part3(\n",
    "    X_train, y_train, CONTRAST_FACTOR, DELTA)\n",
    "\n",
    "print(f\"X_train shape {X_train.shape}\")\n",
    "print(f\"y_train shape {y_train.shape}\")\n",
    "print(f\"X_val shape {X_val.shape}\")\n",
    "print(f\"y_val shape {y_val.shape}\")\n",
    "print(f\"X_test shape {X_test.shape}\")\n",
    "print(f\"y_test shape {y_test.shape}\")"
   ]
  },
  {
   "cell_type": "markdown",
   "id": "68bbd116",
   "metadata": {},
   "source": [
    "## Build model"
   ]
  },
  {
   "cell_type": "code",
   "execution_count": 115,
   "id": "da92172e",
   "metadata": {},
   "outputs": [
    {
     "name": "stdout",
     "output_type": "stream",
     "text": [
      "Model: \"sequential\"\n",
      "_________________________________________________________________\n",
      "Layer (type)                 Output Shape              Param #   \n",
      "=================================================================\n",
      "conv_1 (Conv2D)              (None, 256, 208, 32)      832       \n",
      "_________________________________________________________________\n",
      "pool_1 (MaxPooling2D)        (None, 128, 104, 32)      0         \n",
      "_________________________________________________________________\n",
      "conv_2 (Conv2D)              (None, 128, 104, 64)      51264     \n",
      "_________________________________________________________________\n",
      "pool_2 (MaxPooling2D)        (None, 64, 52, 64)        0         \n",
      "_________________________________________________________________\n",
      "flatten (Flatten)            (None, 212992)            0         \n",
      "_________________________________________________________________\n",
      "fc_1 (Dense)                 (None, 1024)              218104832 \n",
      "_________________________________________________________________\n",
      "dropout (Dropout)            (None, 1024)              0         \n",
      "_________________________________________________________________\n",
      "fc_2 (Dense)                 (None, 1)                 1025      \n",
      "=================================================================\n",
      "Total params: 218,157,953\n",
      "Trainable params: 218,157,953\n",
      "Non-trainable params: 0\n",
      "_________________________________________________________________\n"
     ]
    }
   ],
   "source": [
    "model = tf.keras.Sequential()\n",
    "\n",
    "# add first convolution layer to the model\n",
    "model.add(tf.keras.layers.Conv2D(\n",
    "    filters=32,\n",
    "    kernel_size=(5, 5),\n",
    "    strides=(1, 1),\n",
    "    padding='same',\n",
    "    data_format='channels_last',\n",
    "    name='conv_1',\n",
    "    activation='relu'))\n",
    "\n",
    "\n",
    "# add a max pooling layer with pool size (2,2) and strides of 2\n",
    "# (this will reduce the spatial dimensions by half)\n",
    "model.add(tf.keras.layers.MaxPool2D(\n",
    "    pool_size=(2, 2),\n",
    "    name='pool_1'))\n",
    "\n",
    "\n",
    "# add second convolutional layer\n",
    "model.add(tf.keras.layers.Conv2D(\n",
    "    filters=64,\n",
    "    kernel_size=(5, 5),\n",
    "    strides=(1, 1),\n",
    "    padding='same',\n",
    "    name='conv_2',\n",
    "    activation='relu'))\n",
    "\n",
    "# add second max pooling layer with pool size (2,2) and strides of 2\n",
    "# (this will further reduce the spatial dimensions by half)\n",
    "model.add(tf.keras.layers.MaxPool2D(\n",
    "    pool_size=(2, 2), name='pool_2')\n",
    ")\n",
    "\n",
    "\n",
    "# add a fully connected layer (need to flatten the output of the previous layers first)\n",
    "model.add(tf.keras.layers.Flatten()) \n",
    "model.add(tf.keras.layers.Dense(\n",
    "    units=1024,\n",
    "    name='fc_1', \n",
    "    activation='relu'))\n",
    "\n",
    "# add dropout layer\n",
    "model.add(tf.keras.layers.Dropout(\n",
    "    rate=0.5))\n",
    "\n",
    "# add the last fully connected layer\n",
    "# this last layer sets the activation function to \"None\" in order to output the logits \n",
    "# note that passing activation = \"sigmoid\" will return class memembership probabilities but\n",
    "# in TensorFlow logits are prefered for numerical stability\n",
    "# set units=1 to get a single output unit (remember it's a binary classification problem)\n",
    "model.add(tf.keras.layers.Dense(\n",
    "    units=1,\n",
    "    name='fc_2',\n",
    "    activation=None))\n",
    "\n",
    "\n",
    "# build model and print summary\n",
    "tf.random.set_seed(1)\n",
    "model.build(input_shape=(None, 256, 208, 1))\n",
    "model.summary()"
   ]
  },
  {
   "cell_type": "code",
   "execution_count": 116,
   "id": "8022c7f2",
   "metadata": {},
   "outputs": [],
   "source": [
    "model.compile(optimizer=tf.keras.optimizers.Adam(),\n",
    "              loss=tf.keras.losses.BinaryCrossentropy(from_logits=True), #set from_ligits=True because our last layer does not apply sigmoid\n",
    "              metrics=['accuracy']) "
   ]
  },
  {
   "cell_type": "code",
   "execution_count": 117,
   "id": "43c07536",
   "metadata": {},
   "outputs": [
    {
     "name": "stdout",
     "output_type": "stream",
     "text": [
      "Epoch 1/3\n",
      "19/19 [==============================] - 50s 3s/step - loss: 0.7637 - accuracy: 0.9552 - val_loss: 0.1715 - val_accuracy: 0.9630\n",
      "Epoch 2/3\n",
      "19/19 [==============================] - 47s 2s/step - loss: 0.1955 - accuracy: 0.9552 - val_loss: 0.1990 - val_accuracy: 0.9630\n",
      "Epoch 3/3\n",
      "19/19 [==============================] - 47s 2s/step - loss: 0.1442 - accuracy: 0.9552 - val_loss: 0.1932 - val_accuracy: 0.9630\n"
     ]
    }
   ],
   "source": [
    "# set random seed to get reproductible results \n",
    "# neural network algorithms are stochastic (e.g., due to random weight initialization); setting a random seed helps to get more stable results after each run\n",
    "# however, best way to deal with randomness is to repeat your experiment many times (30+) and use statistics to summarize the performance of the model\n",
    "tf.random.set_seed(1234)\n",
    "np.random.seed(1234)\n",
    "history = model.fit(X_train, y_train,\n",
    "                    epochs=3, \n",
    "                    validation_data=(X_val, y_val)\n",
    ")"
   ]
  },
  {
   "cell_type": "code",
   "execution_count": 118,
   "id": "ff6978e4",
   "metadata": {},
   "outputs": [
    {
     "data": {
      "image/png": "[encoded data removed]",
      "text/plain": [
       "<Figure size 864x288 with 2 Axes>"
      ]
     },
     "metadata": {},
     "output_type": "display_data"
    }
   ],
   "source": [
    "hist = history.history\n",
    "x_arr = np.arange(len(hist['loss'])) + 1\n",
    "\n",
    "fig = plt.figure(figsize=(12, 4))\n",
    "ax = fig.add_subplot(1, 2, 1)\n",
    "ax.plot(x_arr, hist['loss'], '-o', label='Train loss')\n",
    "ax.plot(x_arr, hist['val_loss'], '--<', label='Validation loss')\n",
    "ax.legend(fontsize=15)\n",
    "ax.set_xlabel('Epoch', size=15)\n",
    "ax.set_ylabel('Loss', size=15)\n",
    "\n",
    "ax = fig.add_subplot(1, 2, 2)\n",
    "ax.plot(x_arr, hist['accuracy'], '-o', label='Train acc.')\n",
    "ax.plot(x_arr, hist['val_accuracy'], '--<', label='Validation acc.')\n",
    "ax.legend(fontsize=15)\n",
    "ax.set_xlabel('Epoch', size=15)\n",
    "ax.set_ylabel('Accuracy', size=15)\n",
    "plt.show()"
   ]
  },
  {
   "cell_type": "code",
   "execution_count": null,
   "id": "bb3f6286",
   "metadata": {},
   "outputs": [],
   "source": []
  },
  {
   "cell_type": "code",
   "execution_count": null,
   "id": "8fbd72b3",
   "metadata": {},
   "outputs": [],
   "source": []
  }
 ],
 "metadata": {
  "kernelspec": {
   "display_name": "Python 3 (ipykernel)",
   "language": "python",
   "name": "python3"
  },
  "language_info": {
   "codemirror_mode": {
    "name": "ipython",
    "version": 3
   },
   "file_extension": ".py",
   "mimetype": "text/x-python",
   "name": "python",
   "nbconvert_exporter": "python",
   "pygments_lexer": "ipython3",
   "version": "3.8.11"
  }
 },
 "nbformat": 4,
 "nbformat_minor": 5
}
