{
 "cells": [
  {
   "cell_type": "markdown",
   "id": "7acf91db",
   "metadata": {},
   "source": [
    "# Image Classification with Naive Bayes + Augmentation"
   ]
  },
  {
   "cell_type": "code",
   "execution_count": 1,
   "id": "8123afdd",
   "metadata": {},
   "outputs": [
    {
     "name": "stderr",
     "output_type": "stream",
     "text": [
      "2023-04-19 04:02:21.994056: I tensorflow/core/platform/cpu_feature_guard.cc:193] This TensorFlow binary is optimized with oneAPI Deep Neural Network Library (oneDNN) to use the following CPU instructions in performance-critical operations:  AVX2 FMA\n",
      "To enable them in other operations, rebuild TensorFlow with the appropriate compiler flags.\n",
      "2023-04-19 04:02:22.237000: E tensorflow/stream_executor/cuda/cuda_blas.cc:2981] Unable to register cuBLAS factory: Attempting to register factory for plugin cuBLAS when one has already been registered\n",
      "2023-04-19 04:02:25.747970: W tensorflow/stream_executor/platform/default/dso_loader.cc:64] Could not load dynamic library 'libnvinfer.so.7'; dlerror: libnvinfer.so.7: cannot open shared object file: No such file or directory; LD_LIBRARY_PATH: /usr/local/cuda/lib64:/usr/local/cuda/lib:/usr/local/lib/x86_64-linux-gnu:/usr/local/nvidia/lib:/usr/local/nvidia/lib64:/usr/local/nvidia/lib:/usr/local/nvidia/lib64\n",
      "2023-04-19 04:02:25.748168: W tensorflow/stream_executor/platform/default/dso_loader.cc:64] Could not load dynamic library 'libnvinfer_plugin.so.7'; dlerror: libnvinfer_plugin.so.7: cannot open shared object file: No such file or directory; LD_LIBRARY_PATH: /usr/local/cuda/lib64:/usr/local/cuda/lib:/usr/local/lib/x86_64-linux-gnu:/usr/local/nvidia/lib:/usr/local/nvidia/lib64:/usr/local/nvidia/lib:/usr/local/nvidia/lib64\n",
      "2023-04-19 04:02:25.748185: W tensorflow/compiler/tf2tensorrt/utils/py_utils.cc:38] TF-TRT Warning: Cannot dlopen some TensorRT libraries. If you would like to use Nvidia GPU with TensorRT, please make sure the missing libraries mentioned above are installed properly.\n"
     ]
    }
   ],
   "source": [
    "import pandas as pd\n",
    "import numpy as np\n",
    "import matplotlib.pyplot as plt\n",
    "import random\n",
    "import tensorflow as tf\n",
    "import os\n",
    "import csv\n",
    "\n",
    "from sklearn.metrics import confusion_matrix, ConfusionMatrixDisplay\n",
    "from sklearn.metrics import classification_report\n",
    "from sklearn.model_selection importRandomizedSearchCV\n",
    "from sklearn.model_selection import train_test_split\n",
    "from sklearn.model_selection import StratifiedGroupKFold\n",
    "from sklearn.metrics import roc_auc_score, precision_score, recall_score\n",
    "from sklearn.naive_bayes import GaussianNB\n",
    "from scipy.stats import uniform"
   ]
  },
  {
   "cell_type": "markdown",
   "id": "ae0bee94-40c8-4de3-81ff-fe5f90d73032",
   "metadata": {},
   "source": [
    "### Load Dataset"
   ]
  },
  {
   "cell_type": "code",
   "execution_count": 2,
   "id": "3ff78436-5644-4338-b6a9-4f8bb6dd922d",
   "metadata": {},
   "outputs": [
    {
     "name": "stdout",
     "output_type": "stream",
     "text": [
      "CPU times: user 11 s, sys: 793 ms, total: 11.8 s\n",
      "Wall time: 11.8 s\n"
     ]
    }
   ],
   "source": [
    "%%time\n",
    "\n",
    "# Load the compressed array from disk\n",
    "images_mini = np.load('CNN_Xs_downsample_forvgg16.npz')['data']"
   ]
  },
  {
   "cell_type": "code",
   "execution_count": 3,
   "id": "e5b23f05-34bd-40f6-b7cb-83c5a78b2436",
   "metadata": {},
   "outputs": [],
   "source": [
    "# load the labels from disk\n",
    "with open('CNN_labels_downsampled_forvgg16.csv', 'r') as file:\n",
    "    reader = csv.reader(file)\n",
    "    labels_mini = list(reader)[0]\n",
    "    labels_mini = [int(x) for x in labels_mini]\n",
    "    y_mini= np.array(labels_mini)"
   ]
  },
  {
   "cell_type": "code",
   "execution_count": 4,
   "id": "7f601ebe-8450-4bf6-a40c-5d0cb72361e5",
   "metadata": {},
   "outputs": [
    {
     "name": "stdout",
     "output_type": "stream",
     "text": [
      "images_mini.shape: (5600, 224, 224, 3)\n",
      "\n",
      "number of labels: 5600\n",
      "\n",
      "number of positive cancer cases: 600\n"
     ]
    }
   ],
   "source": [
    "print('images_mini.shape:', images_mini.shape)\n",
    "print('\\nnumber of labels:', len(labels_mini))\n",
    "print('\\nnumber of positive cancer cases:', sum(labels_mini))"
   ]
  },
  {
   "cell_type": "markdown",
   "id": "b1cd1355-80fb-4a20-8613-7ec398b3dc47",
   "metadata": {},
   "source": [
    "### Normalize"
   ]
  },
  {
   "cell_type": "code",
   "execution_count": 5,
   "id": "dcafb559-2117-4729-ab6f-1cecfbd8fa73",
   "metadata": {},
   "outputs": [
    {
     "name": "stdout",
     "output_type": "stream",
     "text": [
      "Original max pixel value: 255.0\n",
      "Confirm min pixel value is 0: 0.0\n"
     ]
    }
   ],
   "source": [
    "print('Original max pixel value:', images_mini.max())\n",
    "print('Confirm min pixel value is 0:', images_mini.min())"
   ]
  },
  {
   "cell_type": "code",
   "execution_count": 6,
   "id": "0aa25385-4e89-46bf-9857-9dfd6b044644",
   "metadata": {},
   "outputs": [],
   "source": [
    "#Normalize image pixel values\n",
    "images_mini_norm = images_mini / images_mini.max() "
   ]
  },
  {
   "cell_type": "code",
   "execution_count": 7,
   "id": "69656465-56d3-4d02-8cd6-32195ac621c0",
   "metadata": {},
   "outputs": [
    {
     "name": "stdout",
     "output_type": "stream",
     "text": [
      "New max pixel value: 1.0\n",
      "Confirm min pixel value is 0: 0.0\n"
     ]
    }
   ],
   "source": [
    "print('New max pixel value:', images_mini_norm.max())\n",
    "print('Confirm min pixel value is 0:', images_mini_norm.min())"
   ]
  },
  {
   "cell_type": "markdown",
   "id": "897e0c1e-d694-45fb-aa5d-6612ecdabb48",
   "metadata": {},
   "source": [
    "### Reshape"
   ]
  },
  {
   "cell_type": "code",
   "execution_count": 8,
   "id": "a9417b9d-badf-475e-9d78-ccb55e805193",
   "metadata": {},
   "outputs": [
    {
     "data": {
      "text/plain": [
       "(5600, 224, 224, 3)"
      ]
     },
     "execution_count": 8,
     "metadata": {},
     "output_type": "execute_result"
    }
   ],
   "source": [
    "images_mini_norm.shape"
   ]
  },
  {
   "cell_type": "code",
   "execution_count": 9,
   "id": "db2a8f21-8ddb-4048-9631-c7843660f81c",
   "metadata": {},
   "outputs": [
    {
     "data": {
      "text/plain": [
       "(5600, 224, 224, 1)"
      ]
     },
     "execution_count": 9,
     "metadata": {},
     "output_type": "execute_result"
    }
   ],
   "source": [
    "arr_mean = np.mean(images_mini_norm, axis=-1)\n",
    "arr_mean.shape\n",
    "resized_images_mini = np.expand_dims(arr_mean, axis=-1)\n",
    "resized_images_mini.shape"
   ]
  },
  {
   "cell_type": "code",
   "execution_count": 10,
   "id": "291c052c-4af3-49c6-afdc-77601cea2d05",
   "metadata": {},
   "outputs": [
    {
     "name": "stdout",
     "output_type": "stream",
     "text": [
      "Original max pixel value: 1.0\n",
      "Confirm min pixel value is 0: 0.0\n"
     ]
    }
   ],
   "source": [
    "print('Original max pixel value:', resized_images_mini.max())\n",
    "print('Confirm min pixel value is 0:', resized_images_mini.min())"
   ]
  },
  {
   "cell_type": "markdown",
   "id": "38385b7b-ebb5-4211-be81-dc981201444d",
   "metadata": {},
   "source": [
    "## Settings"
   ]
  },
  {
   "cell_type": "code",
   "execution_count": 11,
   "id": "b8c19234",
   "metadata": {},
   "outputs": [],
   "source": [
    "random_state = 1234"
   ]
  },
  {
   "cell_type": "code",
   "execution_count": 12,
   "id": "b0a50a6d",
   "metadata": {},
   "outputs": [],
   "source": [
    "random.seed(random_state)\n",
    "tf.random.set_seed(random_state)\n",
    "np.random.seed(random_state)"
   ]
  },
  {
   "cell_type": "markdown",
   "id": "51102930-a481-438e-a03b-fd25ec6195b4",
   "metadata": {},
   "source": [
    "### Inputs"
   ]
  },
  {
   "cell_type": "code",
   "execution_count": 14,
   "id": "d9b44533-2298-4333-8a4f-3b352850c75f",
   "metadata": {},
   "outputs": [],
   "source": [
    "X= resized_images_mini\n",
    "y = y_mini"
   ]
  },
  {
   "cell_type": "code",
   "execution_count": 15,
   "id": "3d132553-c9b1-4745-af93-bcb5cbfe10db",
   "metadata": {},
   "outputs": [
    {
     "data": {
      "text/plain": [
       "(4480, 224, 224, 1)"
      ]
     },
     "execution_count": 15,
     "metadata": {},
     "output_type": "execute_result"
    }
   ],
   "source": [
    "X_train, X_test, y_train, y_test = train_test_split(X, y, test_size=0.2, random_state=random_state)\n",
    "X_train.shape"
   ]
  },
  {
   "cell_type": "code",
   "execution_count": 16,
   "id": "dfeeb50d-8c60-45e2-88d2-5da1e9594d6d",
   "metadata": {},
   "outputs": [
    {
     "name": "stderr",
     "output_type": "stream",
     "text": [
      "2023-04-19 04:06:30.706176: W tensorflow/stream_executor/platform/default/dso_loader.cc:64] Could not load dynamic library 'libcuda.so.1'; dlerror: libcuda.so.1: cannot open shared object file: No such file or directory; LD_LIBRARY_PATH: /usr/local/cuda/lib64:/usr/local/cuda/lib:/usr/local/lib/x86_64-linux-gnu:/usr/local/nvidia/lib:/usr/local/nvidia/lib64:/usr/local/nvidia/lib:/usr/local/nvidia/lib64\n",
      "2023-04-19 04:06:30.706243: W tensorflow/stream_executor/cuda/cuda_driver.cc:263] failed call to cuInit: UNKNOWN ERROR (303)\n",
      "2023-04-19 04:06:30.706288: I tensorflow/stream_executor/cuda/cuda_diagnostics.cc:156] kernel driver does not appear to be running on this host (8948589a190a): /proc/driver/nvidia/version does not exist\n",
      "2023-04-19 04:06:30.706840: I tensorflow/core/platform/cpu_feature_guard.cc:193] This TensorFlow binary is optimized with oneAPI Deep Neural Network Library (oneDNN) to use the following CPU instructions in performance-critical operations:  AVX2 FMA\n",
      "To enable them in other operations, rebuild TensorFlow with the appropriate compiler flags.\n"
     ]
    }
   ],
   "source": [
    "def preprocess_augm(X_train, y_train):\n",
    "    \n",
    "    # Augment only cancer=1 data\n",
    "    X_train_w_cancer = X_train[y_train == 1, :, :, :]\n",
    "    y_train_w_cancer = y_train[y_train == 1]\n",
    "    \n",
    "    ### image augmentation on training data ###\n",
    "    ###########################################\n",
    "    # adjust brightness\n",
    "    X_train_augm1 = tf.image.adjust_brightness(X_train_w_cancer, delta=.1)\n",
    "    X_train_augm2 = tf.image.adjust_brightness(X_train_w_cancer, delta=.2)\n",
    "    \n",
    "    # adjust contrast\n",
    "    X_train_augm5 = tf.image.adjust_contrast(X_train_w_cancer, contrast_factor=1)\n",
    "    X_train_augm6 = tf.image.adjust_contrast(X_train_w_cancer, contrast_factor=2)\n",
    "\n",
    "    # random flip\n",
    "    X_train_augm8 = tf.image.random_flip_left_right(X_train_w_cancer)\n",
    "    \n",
    "    # concatenate augmented X_train data\n",
    "    X_train_augm = tf.concat([X_train_augm1, X_train_augm2, X_train_augm5,\n",
    "                        X_train_augm6, X_train_augm8],axis=0)\n",
    "    order = []\n",
    "    for i in range(5):\n",
    "        order += [j for j in range(len(X_train_w_cancer))]\n",
    "    \n",
    "    # concatenate y_train (note the label is preserved)\n",
    "    y_train_augm = tf.convert_to_tensor(np.ones(len(X_train_augm)))\n",
    "    \n",
    "    # shuffle X_train and y_train, i.e., shuffle two tensors in the same order\n",
    "    shuffle = tf.random.shuffle(tf.range(tf.shape(X_train_augm)[0], dtype=tf.int32))\n",
    "    X_train_augm = tf.gather(X_train_augm, shuffle)\n",
    "    y_train_augm = tf.gather(y_train_augm, shuffle)\n",
    "    \n",
    "    shuffled_order = tf.gather(order, shuffle)\n",
    "\n",
    "    return X_train_augm, y_train_augm, shuffled_order.numpy()\n"
   ]
  },
  {
   "cell_type": "code",
   "execution_count": 17,
   "id": "fd9a9209-c205-4de1-bbea-ca52a86ae16a",
   "metadata": {},
   "outputs": [],
   "source": [
    "def preprocess_augm_part2(X_train, y_train, X_train_augm, y_train_augm, order, n_augm):\n",
    "    X_train_augm = X_train_augm[0:n_augm]\n",
    "    y_train_augm = y_train_augm[0:n_augm]\n",
    "    selected_order = order[0:n_augm]\n",
    "    \n",
    "    X_train_order = [j for j in range(tf.shape(X_train)[0])]\n",
    "    selected_order = np.concatenate((np.array(X_train_order), selected_order))\n",
    "    \n",
    "    \n",
    "    X_train = tf.concat([X_train, X_train_augm],axis=0)\n",
    "    y_train = tf.concat([y_train, y_train_augm],axis=0)\n",
    "    \n",
    "    # shuffle X_train and y_train, i.e., shuffle two tensors in the same order\n",
    "    shuffle = tf.random.shuffle(tf.range(tf.shape(X_train)[0], dtype=tf.int32))\n",
    "    X_train = tf.gather(X_train, shuffle)\n",
    "    y_train = tf.gather(y_train, shuffle).numpy() #also transforms y_train to numpy array\n",
    "    \n",
    "    groups = tf.gather(selected_order, shuffle)\n",
    "    \n",
    "    return X_train, y_train, groups.numpy()"
   ]
  },
  {
   "cell_type": "code",
   "execution_count": null,
   "id": "ccc89bbd-6095-4e4c-aae2-1c49c1e889a8",
   "metadata": {},
   "outputs": [],
   "source": [
    "# Run the function\n",
    "# preprocess_augm(X_train, y_train)\n",
    "X_train_augm, y_train_augm, order = preprocess_augm(X_train, y_train)"
   ]
  },
  {
   "cell_type": "code",
   "execution_count": 18,
   "id": "ea8f1376-5f72-474d-bcb5-008c89af7454",
   "metadata": {},
   "outputs": [],
   "source": [
    "num_images = 200\n",
    "X_train, y_train, groups = preprocess_augm_part2(X_train, y_train, X_train_augm, y_train_augm, order, n_augm=num_images)"
   ]
  },
  {
   "cell_type": "code",
   "execution_count": 19,
   "id": "f1477602-bfb8-4bd0-a4a3-2b6737276259",
   "metadata": {},
   "outputs": [],
   "source": [
    "# reshape\n",
    "X_train = np.reshape(X_train, (len(X_train), -1))\n",
    "X_test = np.reshape(X_test, (len(X_test), -1))"
   ]
  },
  {
   "cell_type": "code",
   "execution_count": 20,
   "id": "41cc447b-55b2-480f-a84e-2738b1428772",
   "metadata": {},
   "outputs": [
    {
     "data": {
      "text/plain": [
       "(4680, 50176)"
      ]
     },
     "execution_count": 20,
     "metadata": {},
     "output_type": "execute_result"
    }
   ],
   "source": [
    "X_train.shape"
   ]
  },
  {
   "cell_type": "markdown",
   "id": "afd0132e",
   "metadata": {},
   "source": [
    "## Build Model"
   ]
  },
  {
   "cell_type": "code",
   "execution_count": 21,
   "id": "2916877f-f8b1-40b5-bfd5-825633735df4",
   "metadata": {},
   "outputs": [],
   "source": [
    "param_dist = {\n",
    "    'var_smoothing': uniform(1e-9, 1e-7)\n",
    "}"
   ]
  },
  {
   "cell_type": "code",
   "execution_count": 22,
   "id": "e5739901-7731-4190-8905-5e87dd49b774",
   "metadata": {},
   "outputs": [],
   "source": [
    "gnb_classifier = GaussianNB()"
   ]
  },
  {
   "cell_type": "code",
   "execution_count": 23,
   "id": "0466fba4-e847-4b9b-b547-d1d2b618f99e",
   "metadata": {},
   "outputs": [
    {
     "data": {
      "text/plain": [
       "(4680, 50176)"
      ]
     },
     "execution_count": 23,
     "metadata": {},
     "output_type": "execute_result"
    }
   ],
   "source": [
    "X_train.shape"
   ]
  },
  {
   "cell_type": "code",
   "execution_count": 24,
   "id": "063f3153-8bd7-40d5-bac2-1b217bb23182",
   "metadata": {},
   "outputs": [
    {
     "data": {
      "text/plain": [
       "(4680,)"
      ]
     },
     "execution_count": 24,
     "metadata": {},
     "output_type": "execute_result"
    }
   ],
   "source": [
    "y_train.shape"
   ]
  },
  {
   "cell_type": "code",
   "execution_count": 26,
   "id": "8e0905e2",
   "metadata": {
    "scrolled": true,
    "tags": []
   },
   "outputs": [
    {
     "name": "stdout",
     "output_type": "stream",
     "text": [
      "Fitting 5 folds for each of 20 candidates, totalling 100 fits\n"
     ]
    },
    {
     "data": {
      "text/plain": [
       "RandomizedSearchCV(cv=5, estimator=GaussianNB(), n_iter=20, n_jobs=10,\n",
       "                   param_distributions={'var_smoothing': <scipy.stats._distn_infrastructure.rv_frozen object at 0x7fb047ead9d0>},\n",
       "                   return_train_score=True, scoring='f1', verbose=20)"
      ]
     },
     "execution_count": 26,
     "metadata": {},
     "output_type": "execute_result"
    }
   ],
   "source": [
    "grid_search = RandomizedSearchCV(\n",
    "    gnb_classifier, \n",
    "    param_distributions=param_dist, \n",
    "    cv=StratifiedGroupKFold(5),\n",
    "    scoring='f1',\n",
    "    n_jobs=8,\n",
    "    verbose=20,\n",
    "    n_iter=100,\n",
    "    return_train_score=True,\n",
    ")\n",
    "\n",
    "grid_search.fit(X_train, y_train, groups=groups)"
   ]
  },
  {
   "cell_type": "code",
   "execution_count": 27,
   "id": "45d6bf94",
   "metadata": {},
   "outputs": [
    {
     "name": "stdout",
     "output_type": "stream",
     "text": [
      "Best Parameters: {'var_smoothing': 3.748859839013723e-08}\n",
      "Best Score: 0.25921300665505387\n"
     ]
    }
   ],
   "source": [
    "# print the best parameters and score\n",
    "print(\"Best Parameters:\", grid_search.best_params_)\n",
    "print(\"Best Score:\", grid_search.best_score_)"
   ]
  },
  {
   "cell_type": "code",
   "execution_count": 33,
   "id": "7b9ec435-c941-4119-b0bf-81a6a75d46ff",
   "metadata": {},
   "outputs": [],
   "source": [
    "model_name = 'naivebayes_augmented'\n",
    "\n",
    "# convert the results to a pandas DataFrame\n",
    "cv_results = pd.DataFrame(grid_search.cv_results_)\n",
    "\n",
    "# save the results to a CSV file\n",
    "cv_results.to_csv(f'results/{model_name}_crossvalidation_results.csv', index=False)"
   ]
  },
  {
   "cell_type": "code",
   "execution_count": 34,
   "id": "3ca3544e-7bfe-4c71-b4e6-9c3b96539514",
   "metadata": {},
   "outputs": [],
   "source": [
    "# len(params)"
   ]
  },
  {
   "cell_type": "code",
   "execution_count": 28,
   "id": "e25a2b60-d296-43eb-873f-fed6a1c5a17b",
   "metadata": {},
   "outputs": [
    {
     "data": {
      "image/png": "[encoded data removed]",
      "text/plain": [
       "<Figure size 1000x600 with 1 Axes>"
      ]
     },
     "metadata": {},
     "output_type": "display_data"
    }
   ],
   "source": [
    "params = grid_search.cv_results_['params']\n",
    "scores = grid_search.cv_results_['mean_test_score']\n",
    "\n",
    "\n",
    "import seaborn as sns\n",
    "for param_name in params[0].keys():\n",
    "    # Extract the scores and hyperparameter values for the current parameter\n",
    "    \n",
    "    values = [pdict[param_name] for pdict in params]\n",
    "    \n",
    "    # Create a boxplot\n",
    "    plt.figure()\n",
    "    sns.boxplot(x=values, y=scores)\n",
    "    plt.xlabel(param_name)\n",
    "    plt.ylabel('f1_score')\n",
    "    plt.show()"
   ]
  },
  {
   "cell_type": "markdown",
   "id": "46d9468c-ad72-46e3-8c3f-8020b7028596",
   "metadata": {},
   "source": [
    "### Scoring"
   ]
  },
  {
   "cell_type": "code",
   "execution_count": 29,
   "id": "acb3ece8-1df3-4b90-8d7a-ac77bc4b1f34",
   "metadata": {},
   "outputs": [],
   "source": [
    "# grid_search.best_params_\n",
    "# hyperparam = {'n_estimators': 200, 'min_samples_split': 10, 'min_samples_leaf': 4, 'max_features': 'log2', 'max_depth': None}\n",
    "\n",
    "\n",
    "hyperparam = {'var_smoothing': 3.748859839013723e-08}"
   ]
  },
  {
   "cell_type": "code",
   "execution_count": null,
   "id": "4b342b95-577b-4f10-9612-952f809b7851",
   "metadata": {},
   "outputs": [],
   "source": []
  },
  {
   "cell_type": "code",
   "execution_count": 30,
   "id": "d61db342-423e-495b-9195-7c830658f6b3",
   "metadata": {},
   "outputs": [],
   "source": [
    "tuned_clf = GaussianNB(\n",
    "    **hyperparam, #grid_search.best_params_\n",
    ")"
   ]
  },
  {
   "cell_type": "code",
   "execution_count": 31,
   "id": "d96b2973-208e-4d0d-a880-3ba33a0aa8b9",
   "metadata": {},
   "outputs": [
    {
     "data": {
      "text/plain": [
       "GaussianNB(var_smoothing=3.748859839013723e-08)"
      ]
     },
     "execution_count": 31,
     "metadata": {},
     "output_type": "execute_result"
    }
   ],
   "source": [
    "tuned_clf.fit(X_train, y_train)"
   ]
  },
  {
   "cell_type": "code",
   "execution_count": 24,
   "id": "30815cf5-e5de-4d87-96c2-78c41b6d3672",
   "metadata": {},
   "outputs": [
    {
     "name": "stdout",
     "output_type": "stream",
     "text": [
      "Train accuracy score: 0.734\n",
      "Test accuracy score: 0.733\n"
     ]
    }
   ],
   "source": [
    "train_acc = tuned_clf.score(X_train, y_train)\n",
    "print(f\"Train accuracy score: {train_acc:.3f}\")\n",
    "\n",
    "# Evaluate the test accuracy\n",
    "test_cc = tuned_clf.score(X_test, y_test)\n",
    "print(f\"Test accuracy score: {test_cc:.3f}\")"
   ]
  },
  {
   "cell_type": "code",
   "execution_count": 32,
   "id": "04dfe631-4bb7-4187-be6f-1fcad7030330",
   "metadata": {},
   "outputs": [],
   "source": [
    "y_pred_train = tuned_clf.predict(X_train)\n",
    "y_pred_test = tuned_clf.predict(X_test)"
   ]
  },
  {
   "cell_type": "code",
   "execution_count": 33,
   "id": "26e02cad-fee4-469d-80ef-366b1a7d76b6",
   "metadata": {},
   "outputs": [
    {
     "name": "stdout",
     "output_type": "stream",
     "text": [
      "Train ROC_AUC score: 0.567\n",
      "Test ROC_AUC score: 0.506\n"
     ]
    }
   ],
   "source": [
    "train_roc = roc_auc_score(y_train, y_pred_train)\n",
    "print(f\"Train ROC_AUC score: {train_roc:.3f}\")\n",
    "\n",
    "# Evaluate the test accuracy\n",
    "test_roc = roc_auc_score(y_test, y_pred_test)\n",
    "print(f\"Test ROC_AUC score: {test_roc:.3f}\")"
   ]
  },
  {
   "cell_type": "code",
   "execution_count": 35,
   "id": "cd8ec7db-410b-4200-a0d1-ecaac7cb88b1",
   "metadata": {},
   "outputs": [
    {
     "name": "stdout",
     "output_type": "stream",
     "text": [
      "Train precision score: 0.223\n",
      "Test precision score: 0.112\n",
      "Train recall score: 0.332\n",
      "Test recall score: 0.218\n"
     ]
    }
   ],
   "source": [
    "train_roc = precision_score(y_train, y_pred_train)\n",
    "print(f\"Train precision score: {train_roc:.3f}\")\n",
    "\n",
    "# Evaluate the test accuracy\n",
    "test_roc = precision_score(y_test, y_pred_test)\n",
    "print(f\"Test precision score: {test_roc:.3f}\")\n"
   ]
  },
  {
   "cell_type": "code",
   "execution_count": null,
   "id": "d617041b-5577-4c55-856b-52377f6f36c8",
   "metadata": {},
   "outputs": [],
   "source": [
    "train_roc = recall_score(y_train, y_pred_train)\n",
    "print(f\"Train recall score: {train_roc:.3f}\")\n",
    "\n",
    "# Evaluate the test accuracy\n",
    "test_roc = recall_score(y_test, y_pred_test)\n",
    "print(f\"Test recall score: {test_roc:.3f}\")"
   ]
  },
  {
   "cell_type": "code",
   "execution_count": 36,
   "id": "1f7bd61c-1bf6-4877-a972-3f200504828d",
   "metadata": {},
   "outputs": [
    {
     "name": "stdout",
     "output_type": "stream",
     "text": [
      "Train f1 score: 0.267\n",
      "Test f1 score: 0.148\n",
      "[CV 4/5; 2/20] START var_smoothing=6.253961784334936e-08........................\n",
      "[CV 4/5; 2/20] END var_smoothing=6.253961784334936e-08;, score=(train=0.266, test=0.254) total time=   5.4s\n",
      "[CV 4/5; 4/20] START var_smoothing=3.788240060019745e-08........................\n",
      "[CV 4/5; 4/20] END var_smoothing=3.788240060019745e-08;, score=(train=0.266, test=0.254) total time=   6.1s\n",
      "[CV 4/5; 6/20] START var_smoothing=6.613781432265773e-08........................\n",
      "[CV 4/5; 6/20] END var_smoothing=6.613781432265773e-08;, score=(train=0.266, test=0.254) total time=   5.1s\n",
      "[CV 5/5; 8/20] START var_smoothing=7.987301429407454e-08........................\n",
      "[CV 5/5; 8/20] END var_smoothing=7.987301429407454e-08;, score=(train=0.269, test=0.267) total time=   5.4s\n",
      "[CV 5/5; 11/20] START var_smoothing=8.791273895612258e-08.......................\n",
      "[CV 5/5; 11/20] END var_smoothing=8.791273895612258e-08;, score=(train=0.269, test=0.267) total time=   5.2s\n",
      "[CV 5/5; 13/20] START var_smoothing=8.121476420801591e-08.......................\n",
      "[CV 5/5; 13/20] END var_smoothing=8.121476420801591e-08;, score=(train=0.269, test=0.267) total time=   4.3s\n",
      "[CV 5/5; 15/20] START var_smoothing=7.142609711183354e-08.......................\n",
      "[CV 5/5; 15/20] END var_smoothing=7.142609711183354e-08;, score=(train=0.269, test=0.267) total time=   3.6s\n",
      "[CV 3/5; 17/20] START var_smoothing=2.2879210567408856e-08......................\n",
      "[CV 3/5; 17/20] END var_smoothing=2.2879210567408856e-08;, score=(train=0.272, test=0.237) total time=   3.5s\n",
      "[CV 1/5; 19/20] START var_smoothing=4.5214075540417666e-08......................\n",
      "[CV 1/5; 19/20] END var_smoothing=4.5214075540417666e-08;, score=(train=0.263, test=0.287) total time=   3.6s\n",
      "[CV 3/5; 2/20] START var_smoothing=6.253961784334936e-08........................\n",
      "[CV 3/5; 2/20] END var_smoothing=6.253961784334936e-08;, score=(train=0.272, test=0.237) total time=   4.8s\n",
      "[CV 5/5; 3/20] START var_smoothing=8.538124164297656e-09........................\n",
      "[CV 5/5; 3/20] END var_smoothing=8.538124164297656e-09;, score=(train=0.269, test=0.267) total time=   3.7s\n",
      "[CV 3/5; 5/20] START var_smoothing=9.431401019825215e-08........................\n",
      "[CV 3/5; 5/20] END var_smoothing=9.431401019825215e-08;, score=(train=0.272, test=0.237) total time=   5.0s\n",
      "[CV 4/5; 7/20] START var_smoothing=4.072025777261542e-08........................\n",
      "[CV 4/5; 7/20] END var_smoothing=4.072025777261542e-08;, score=(train=0.266, test=0.254) total time=   3.5s\n",
      "[CV 3/5; 9/20] START var_smoothing=3.2683612216887126e-08.......................\n",
      "[CV 3/5; 9/20] END var_smoothing=3.2683612216887126e-08;, score=(train=0.272, test=0.237) total time=   3.5s\n",
      "[CV 1/5; 11/20] START var_smoothing=8.791273895612258e-08.......................\n",
      "[CV 1/5; 11/20] END var_smoothing=8.791273895612258e-08;, score=(train=0.263, test=0.287) total time=   3.5s\n",
      "[CV 5/5; 12/20] START var_smoothing=4.4617342389567934e-08......................\n",
      "[CV 5/5; 12/20] END var_smoothing=4.4617342389567934e-08;, score=(train=0.269, test=0.267) total time=   3.6s\n",
      "[CV 3/5; 14/20] START var_smoothing=1.5376682451456458e-08......................\n",
      "[CV 3/5; 14/20] END var_smoothing=1.5376682451456458e-08;, score=(train=0.272, test=0.237) total time=   5.5s\n",
      "[CV 2/5; 17/20] START var_smoothing=2.2879210567408856e-08......................\n",
      "[CV 2/5; 17/20] END var_smoothing=2.2879210567408856e-08;, score=(train=0.273, test=0.250) total time=   4.1s\n",
      "[CV 2/5; 19/20] START var_smoothing=4.5214075540417666e-08......................\n",
      "[CV 2/5; 19/20] END var_smoothing=4.5214075540417666e-08;, score=(train=0.273, test=0.250) total time=   3.6s\n",
      "[CV 5/5; 2/20] START var_smoothing=6.253961784334936e-08........................\n",
      "[CV 5/5; 2/20] END var_smoothing=6.253961784334936e-08;, score=(train=0.269, test=0.267) total time=   3.6s\n",
      "[CV 3/5; 3/20] START var_smoothing=8.538124164297656e-09........................\n",
      "[CV 3/5; 3/20] END var_smoothing=8.538124164297656e-09;, score=(train=0.272, test=0.237) total time=   4.5s\n",
      "[CV 2/5; 5/20] START var_smoothing=9.431401019825215e-08........................\n",
      "[CV 2/5; 5/20] END var_smoothing=9.431401019825215e-08;, score=(train=0.273, test=0.250) total time=   3.5s\n",
      "[CV 1/5; 7/20] START var_smoothing=4.072025777261542e-08........................\n",
      "[CV 1/5; 7/20] END var_smoothing=4.072025777261542e-08;, score=(train=0.263, test=0.287) total time=   3.5s\n",
      "[CV 4/5; 8/20] START var_smoothing=7.987301429407454e-08........................\n",
      "[CV 4/5; 8/20] END var_smoothing=7.987301429407454e-08;, score=(train=0.266, test=0.254) total time=   3.5s\n",
      "[CV 3/5; 10/20] START var_smoothing=5.7809865262606915e-08......................\n",
      "[CV 3/5; 10/20] END var_smoothing=5.7809865262606915e-08;, score=(train=0.272, test=0.237) total time=   3.5s\n",
      "[CV 2/5; 12/20] START var_smoothing=4.4617342389567934e-08......................\n",
      "[CV 2/5; 12/20] END var_smoothing=4.4617342389567934e-08;, score=(train=0.273, test=0.250) total time=   5.4s\n",
      "[CV 4/5; 14/20] START var_smoothing=1.5376682451456458e-08......................\n",
      "[CV 4/5; 14/20] END var_smoothing=1.5376682451456458e-08;, score=(train=0.266, test=0.254) total time=   4.1s\n",
      "[CV 3/5; 16/20] START var_smoothing=7.145813081895724e-08.......................\n",
      "[CV 3/5; 16/20] END var_smoothing=7.145813081895724e-08;, score=(train=0.272, test=0.237) total time=   3.5s\n",
      "[CV 3/5; 18/20] START var_smoothing=9.34867628615565e-08........................\n",
      "[CV 3/5; 18/20] END var_smoothing=9.34867628615565e-08;, score=(train=0.272, test=0.237) total time=   3.5s\n",
      "[CV 4/5; 19/20] START var_smoothing=4.5214075540417666e-08......................\n",
      "[CV 4/5; 19/20] END var_smoothing=4.5214075540417666e-08;, score=(train=0.266, test=0.254) total time=   3.6s\n",
      "[CV 3/5; 1/20] START var_smoothing=3.748859839013723e-08........................\n",
      "[CV 3/5; 1/20] END var_smoothing=3.748859839013723e-08;, score=(train=0.272, test=0.237) total time=   4.7s\n",
      "[CV 1/5; 4/20] START var_smoothing=3.788240060019745e-08........................\n",
      "[CV 1/5; 4/20] END var_smoothing=3.788240060019745e-08;, score=(train=0.263, test=0.287) total time=   3.9s\n",
      "[CV 2/5; 6/20] START var_smoothing=6.613781432265773e-08........................\n",
      "[CV 2/5; 6/20] END var_smoothing=6.613781432265773e-08;, score=(train=0.273, test=0.250) total time=   3.9s\n",
      "[CV 1/5; 8/20] START var_smoothing=7.987301429407454e-08........................\n",
      "[CV 1/5; 8/20] END var_smoothing=7.987301429407454e-08;, score=(train=0.263, test=0.287) total time=   3.5s\n",
      "[CV 5/5; 9/20] START var_smoothing=3.2683612216887126e-08.......................\n",
      "[CV 5/5; 9/20] END var_smoothing=3.2683612216887126e-08;, score=(train=0.269, test=0.267) total time=   3.5s\n",
      "[CV 2/5; 11/20] START var_smoothing=8.791273895612258e-08.......................\n",
      "[CV 2/5; 11/20] END var_smoothing=8.791273895612258e-08;, score=(train=0.273, test=0.250) total time=   3.5s\n",
      "[CV 2/5; 13/20] START var_smoothing=8.121476420801591e-08.......................\n",
      "[CV 2/5; 13/20] END var_smoothing=8.121476420801591e-08;, score=(train=0.273, test=0.250) total time=   3.6s\n",
      "[CV 5/5; 14/20] START var_smoothing=1.5376682451456458e-08......................\n",
      "[CV 5/5; 14/20] END var_smoothing=1.5376682451456458e-08;, score=(train=0.269, test=0.267) total time=   3.8s\n",
      "[CV 2/5; 16/20] START var_smoothing=7.145813081895724e-08.......................\n",
      "[CV 2/5; 16/20] END var_smoothing=7.145813081895724e-08;, score=(train=0.273, test=0.250) total time=   3.6s\n",
      "[CV 2/5; 18/20] START var_smoothing=9.34867628615565e-08........................\n",
      "[CV 2/5; 18/20] END var_smoothing=9.34867628615565e-08;, score=(train=0.273, test=0.250) total time=   3.5s\n",
      "[CV 5/5; 19/20] START var_smoothing=4.5214075540417666e-08......................\n",
      "[CV 5/5; 19/20] END var_smoothing=4.5214075540417666e-08;, score=(train=0.269, test=0.267) total time=   3.5s\n",
      "[CV 4/5; 1/20] START var_smoothing=3.748859839013723e-08........................\n",
      "[CV 4/5; 1/20] END var_smoothing=3.748859839013723e-08;, score=(train=0.266, test=0.254) total time=   4.1s\n",
      "[CV 3/5; 4/20] START var_smoothing=3.788240060019745e-08........................\n",
      "[CV 3/5; 4/20] END var_smoothing=3.788240060019745e-08;, score=(train=0.272, test=0.237) total time=   4.2s\n",
      "[CV 3/5; 6/20] START var_smoothing=6.613781432265773e-08........................\n",
      "[CV 3/5; 6/20] END var_smoothing=6.613781432265773e-08;, score=(train=0.272, test=0.237) total time=   5.4s\n",
      "[CV 3/5; 8/20] START var_smoothing=7.987301429407454e-08........................\n",
      "[CV 3/5; 8/20] END var_smoothing=7.987301429407454e-08;, score=(train=0.272, test=0.237) total time=   5.4s\n",
      "[CV 4/5; 11/20] START var_smoothing=8.791273895612258e-08.......................\n",
      "[CV 4/5; 11/20] END var_smoothing=8.791273895612258e-08;, score=(train=0.266, test=0.254) total time=   5.1s\n",
      "[CV 4/5; 13/20] START var_smoothing=8.121476420801591e-08.......................\n",
      "[CV 4/5; 13/20] END var_smoothing=8.121476420801591e-08;, score=(train=0.266, test=0.254) total time=   5.1s\n",
      "[CV 4/5; 15/20] START var_smoothing=7.142609711183354e-08.......................\n",
      "[CV 4/5; 15/20] END var_smoothing=7.142609711183354e-08;, score=(train=0.266, test=0.254) total time=   3.6s\n",
      "[CV 1/5; 17/20] START var_smoothing=2.2879210567408856e-08......................\n",
      "[CV 1/5; 17/20] END var_smoothing=2.2879210567408856e-08;, score=(train=0.263, test=0.287) total time=   4.4s\n",
      "[CV 3/5; 19/20] START var_smoothing=4.5214075540417666e-08......................\n",
      "[CV 3/5; 19/20] END var_smoothing=4.5214075540417666e-08;, score=(train=0.272, test=0.237) total time=   5.5s\n",
      "[CV 1/5; 2/20] START var_smoothing=6.253961784334936e-08........................\n",
      "[CV 1/5; 2/20] END var_smoothing=6.253961784334936e-08;, score=(train=0.263, test=0.287) total time=   3.6s\n",
      "[CV 1/5; 3/20] START var_smoothing=8.538124164297656e-09........................\n",
      "[CV 1/5; 3/20] END var_smoothing=8.538124164297656e-09;, score=(train=0.263, test=0.287) total time=   5.3s\n",
      "[CV 5/5; 5/20] START var_smoothing=9.431401019825215e-08........................\n",
      "[CV 5/5; 5/20] END var_smoothing=9.431401019825215e-08;, score=(train=0.269, test=0.267) total time=   3.5s\n",
      "[CV 2/5; 8/20] START var_smoothing=7.987301429407454e-08........................\n",
      "[CV 2/5; 8/20] END var_smoothing=7.987301429407454e-08;, score=(train=0.273, test=0.250) total time=   5.6s\n",
      "[CV 2/5; 10/20] START var_smoothing=5.7809865262606915e-08......................\n",
      "[CV 2/5; 10/20] END var_smoothing=5.7809865262606915e-08;, score=(train=0.273, test=0.250) total time=   5.5s\n",
      "[CV 1/5; 13/20] START var_smoothing=8.121476420801591e-08.......................\n",
      "[CV 1/5; 13/20] END var_smoothing=8.121476420801591e-08;, score=(train=0.263, test=0.287) total time=   3.9s\n",
      "[CV 1/5; 15/20] START var_smoothing=7.142609711183354e-08.......................\n",
      "[CV 1/5; 15/20] END var_smoothing=7.142609711183354e-08;, score=(train=0.263, test=0.287) total time=   5.6s\n",
      "[CV 4/5; 17/20] START var_smoothing=2.2879210567408856e-08......................\n",
      "[CV 4/5; 17/20] END var_smoothing=2.2879210567408856e-08;, score=(train=0.266, test=0.254) total time=   5.2s\n",
      "[CV 1/5; 20/20] START var_smoothing=9.193159589724725e-08.......................\n",
      "[CV 1/5; 20/20] END var_smoothing=9.193159589724725e-08;, score=(train=0.263, test=0.287) total time=   4.8s\n",
      "[CV 2/5; 2/20] START var_smoothing=6.253961784334936e-08........................\n",
      "[CV 2/5; 2/20] END var_smoothing=6.253961784334936e-08;, score=(train=0.273, test=0.250) total time=   3.8s\n",
      "[CV 2/5; 4/20] START var_smoothing=3.788240060019745e-08........................\n",
      "[CV 2/5; 4/20] END var_smoothing=3.788240060019745e-08;, score=(train=0.273, test=0.250) total time=   4.0s\n",
      "[CV 4/5; 5/20] START var_smoothing=9.431401019825215e-08........................\n",
      "[CV 4/5; 5/20] END var_smoothing=9.431401019825215e-08;, score=(train=0.266, test=0.254) total time=   3.5s\n",
      "[CV 3/5; 7/20] START var_smoothing=4.072025777261542e-08........................\n",
      "[CV 3/5; 7/20] END var_smoothing=4.072025777261542e-08;, score=(train=0.272, test=0.237) total time=   3.5s\n",
      "[CV 2/5; 9/20] START var_smoothing=3.2683612216887126e-08.......................\n",
      "[CV 2/5; 9/20] END var_smoothing=3.2683612216887126e-08;, score=(train=0.273, test=0.250) total time=   3.5s\n",
      "[CV 5/5; 10/20] START var_smoothing=5.7809865262606915e-08......................\n",
      "[CV 5/5; 10/20] END var_smoothing=5.7809865262606915e-08;, score=(train=0.269, test=0.267) total time=   3.5s\n",
      "[CV 4/5; 12/20] START var_smoothing=4.4617342389567934e-08......................\n",
      "[CV 4/5; 12/20] END var_smoothing=4.4617342389567934e-08;, score=(train=0.266, test=0.254) total time=   5.2s\n",
      "[CV 2/5; 15/20] START var_smoothing=7.142609711183354e-08.......................\n",
      "[CV 2/5; 15/20] END var_smoothing=7.142609711183354e-08;, score=(train=0.273, test=0.250) total time=   5.6s\n",
      "[CV 5/5; 17/20] START var_smoothing=2.2879210567408856e-08......................\n",
      "[CV 5/5; 17/20] END var_smoothing=2.2879210567408856e-08;, score=(train=0.269, test=0.267) total time=   5.3s\n",
      "[CV 2/5; 20/20] START var_smoothing=9.193159589724725e-08.......................\n",
      "[CV 2/5; 20/20] END var_smoothing=9.193159589724725e-08;, score=(train=0.273, test=0.250) total time=   4.4s\n",
      "[CV 1/5; 1/20] START var_smoothing=3.748859839013723e-08........................\n",
      "[CV 1/5; 1/20] END var_smoothing=3.748859839013723e-08;, score=(train=0.263, test=0.287) total time=   3.6s\n",
      "[CV 4/5; 3/20] START var_smoothing=8.538124164297656e-09........................\n",
      "[CV 4/5; 3/20] END var_smoothing=8.538124164297656e-09;, score=(train=0.266, test=0.254) total time=   5.3s\n",
      "[CV 1/5; 6/20] START var_smoothing=6.613781432265773e-08........................\n",
      "[CV 1/5; 6/20] END var_smoothing=6.613781432265773e-08;, score=(train=0.263, test=0.287) total time=   4.8s\n",
      "[CV 5/5; 7/20] START var_smoothing=4.072025777261542e-08........................\n",
      "[CV 5/5; 7/20] END var_smoothing=4.072025777261542e-08;, score=(train=0.269, test=0.267) total time=   3.5s\n",
      "[CV 4/5; 9/20] START var_smoothing=3.2683612216887126e-08.......................\n",
      "[CV 4/5; 9/20] END var_smoothing=3.2683612216887126e-08;, score=(train=0.266, test=0.254) total time=   3.5s\n",
      "[CV 3/5; 11/20] START var_smoothing=8.791273895612258e-08.......................\n",
      "[CV 3/5; 11/20] END var_smoothing=8.791273895612258e-08;, score=(train=0.272, test=0.237) total time=   3.5s\n",
      "[CV 3/5; 13/20] START var_smoothing=8.121476420801591e-08.......................\n",
      "[CV 3/5; 13/20] END var_smoothing=8.121476420801591e-08;, score=(train=0.272, test=0.237) total time=   5.2s\n",
      "[CV 3/5; 15/20] START var_smoothing=7.142609711183354e-08.......................\n",
      "[CV 3/5; 15/20] END var_smoothing=7.142609711183354e-08;, score=(train=0.272, test=0.237) total time=   3.8s\n",
      "[CV 5/5; 16/20] START var_smoothing=7.145813081895724e-08.......................\n",
      "[CV 5/5; 16/20] END var_smoothing=7.145813081895724e-08;, score=(train=0.269, test=0.267) total time=   3.7s\n",
      "[CV 4/5; 18/20] START var_smoothing=9.34867628615565e-08........................\n",
      "[CV 4/5; 18/20] END var_smoothing=9.34867628615565e-08;, score=(train=0.266, test=0.254) total time=   3.6s\n",
      "[CV 3/5; 20/20] START var_smoothing=9.193159589724725e-08.......................\n",
      "[CV 3/5; 20/20] END var_smoothing=9.193159589724725e-08;, score=(train=0.272, test=0.237) total time=   3.4s\n",
      "[CV 2/5; 1/20] START var_smoothing=3.748859839013723e-08........................\n",
      "[CV 2/5; 1/20] END var_smoothing=3.748859839013723e-08;, score=(train=0.273, test=0.250) total time=   3.6s\n",
      "[CV 2/5; 3/20] START var_smoothing=8.538124164297656e-09........................\n",
      "[CV 2/5; 3/20] END var_smoothing=8.538124164297656e-09;, score=(train=0.273, test=0.250) total time=   4.6s\n",
      "[CV 1/5; 5/20] START var_smoothing=9.431401019825215e-08........................\n",
      "[CV 1/5; 5/20] END var_smoothing=9.431401019825215e-08;, score=(train=0.263, test=0.287) total time=   3.9s\n",
      "[CV 2/5; 7/20] START var_smoothing=4.072025777261542e-08........................\n",
      "[CV 2/5; 7/20] END var_smoothing=4.072025777261542e-08;, score=(train=0.273, test=0.250) total time=   3.5s\n",
      "[CV 1/5; 9/20] START var_smoothing=3.2683612216887126e-08.......................\n",
      "[CV 1/5; 9/20] END var_smoothing=3.2683612216887126e-08;, score=(train=0.263, test=0.287) total time=   3.5s\n",
      "[CV 4/5; 10/20] START var_smoothing=5.7809865262606915e-08......................\n",
      "[CV 4/5; 10/20] END var_smoothing=5.7809865262606915e-08;, score=(train=0.266, test=0.254) total time=   3.5s\n",
      "[CV 3/5; 12/20] START var_smoothing=4.4617342389567934e-08......................\n",
      "[CV 3/5; 12/20] END var_smoothing=4.4617342389567934e-08;, score=(train=0.272, test=0.237) total time=   3.5s\n",
      "[CV 1/5; 14/20] START var_smoothing=1.5376682451456458e-08......................\n",
      "[CV 1/5; 14/20] END var_smoothing=1.5376682451456458e-08;, score=(train=0.263, test=0.287) total time=   4.9s\n",
      "[CV 1/5; 16/20] START var_smoothing=7.145813081895724e-08.......................\n",
      "[CV 1/5; 16/20] END var_smoothing=7.145813081895724e-08;, score=(train=0.263, test=0.287) total time=   3.6s\n",
      "[CV 1/5; 18/20] START var_smoothing=9.34867628615565e-08........................\n",
      "[CV 1/5; 18/20] END var_smoothing=9.34867628615565e-08;, score=(train=0.263, test=0.287) total time=   5.3s\n",
      "[CV 4/5; 20/20] START var_smoothing=9.193159589724725e-08.......................\n",
      "[CV 4/5; 20/20] END var_smoothing=9.193159589724725e-08;, score=(train=0.266, test=0.254) total time=   3.5s\n",
      "[CV 5/5; 1/20] START var_smoothing=3.748859839013723e-08........................\n",
      "[CV 5/5; 1/20] END var_smoothing=3.748859839013723e-08;, score=(train=0.269, test=0.267) total time=   5.4s\n",
      "[CV 5/5; 4/20] START var_smoothing=3.788240060019745e-08........................\n",
      "[CV 5/5; 4/20] END var_smoothing=3.788240060019745e-08;, score=(train=0.269, test=0.267) total time=   5.5s\n",
      "[CV 5/5; 6/20] START var_smoothing=6.613781432265773e-08........................\n",
      "[CV 5/5; 6/20] END var_smoothing=6.613781432265773e-08;, score=(train=0.269, test=0.267) total time=   5.3s\n",
      "[CV 1/5; 10/20] START var_smoothing=5.7809865262606915e-08......................\n",
      "[CV 1/5; 10/20] END var_smoothing=5.7809865262606915e-08;, score=(train=0.263, test=0.287) total time=   5.4s\n",
      "[CV 1/5; 12/20] START var_smoothing=4.4617342389567934e-08......................\n",
      "[CV 1/5; 12/20] END var_smoothing=4.4617342389567934e-08;, score=(train=0.263, test=0.287) total time=   5.4s\n",
      "[CV 2/5; 14/20] START var_smoothing=1.5376682451456458e-08......................\n",
      "[CV 2/5; 14/20] END var_smoothing=1.5376682451456458e-08;, score=(train=0.273, test=0.250) total time=   4.9s\n",
      "[CV 4/5; 16/20] START var_smoothing=7.145813081895724e-08.......................\n",
      "[CV 4/5; 16/20] END var_smoothing=7.145813081895724e-08;, score=(train=0.266, test=0.254) total time=   5.3s\n",
      "[CV 5/5; 18/20] START var_smoothing=9.34867628615565e-08........................\n",
      "[CV 5/5; 18/20] END var_smoothing=9.34867628615565e-08;, score=(train=0.269, test=0.267) total time=   3.6s\n",
      "[CV 5/5; 20/20] START var_smoothing=9.193159589724725e-08.......................\n",
      "[CV 5/5; 20/20] END var_smoothing=9.193159589724725e-08;, score=(train=0.269, test=0.267) total time=   3.4s\n"
     ]
    }
   ],
   "source": [
    "from sklearn.metrics import f1_score\n",
    "train_roc = f1_score(y_train, y_pred_train)\n",
    "print(f\"Train f1 score: {train_roc:.3f}\")\n",
    "\n",
    "# Evaluate the test accuracy\n",
    "test_roc = f1_score(y_test, y_pred_test)\n",
    "print(f\"Test f1 score: {test_roc:.3f}\")"
   ]
  },
  {
   "cell_type": "code",
   "execution_count": 27,
   "id": "a97b8ee7",
   "metadata": {},
   "outputs": [
    {
     "data": {
      "image/png": "[encoded data removed]",
      "text/plain": [
       "<Figure size 640x480 with 2 Axes>"
      ]
     },
     "metadata": {},
     "output_type": "display_data"
    }
   ],
   "source": [
    "\n",
    "cm = confusion_matrix(y_test, y_pred_test)\n",
    "\n",
    "disp = ConfusionMatrixDisplay(\n",
    "    confusion_matrix=cm,\n",
    "    display_labels=tuned_clf.classes_\n",
    ")\n",
    "disp.plot()\n",
    "plt.show()"
   ]
  },
  {
   "cell_type": "code",
   "execution_count": 47,
   "id": "555180d7-19a8-4be2-9031-57a5fa188e48",
   "metadata": {},
   "outputs": [
    {
     "name": "stdout",
     "output_type": "stream",
     "text": [
      "              precision    recall  f1-score   support\n",
      "\n",
      "         0.0       0.88      0.80      0.84      3999\n",
      "         1.0       0.22      0.33      0.27       681\n",
      "\n",
      "    accuracy                           0.73      4680\n",
      "   macro avg       0.55      0.57      0.55      4680\n",
      "weighted avg       0.78      0.73      0.75      4680\n",
      "\n"
     ]
    }
   ],
   "source": [
    "print(classification_report(y_train, y_pred_train))"
   ]
  },
  {
   "cell_type": "code",
   "execution_count": 48,
   "id": "02aefb99-03a6-4dda-b5ea-65b0335727a2",
   "metadata": {},
   "outputs": [
    {
     "name": "stdout",
     "output_type": "stream",
     "text": [
      "              precision    recall  f1-score   support\n",
      "\n",
      "           0       0.90      0.79      0.84      1001\n",
      "           1       0.11      0.22      0.15       119\n",
      "\n",
      "    accuracy                           0.73      1120\n",
      "   macro avg       0.50      0.51      0.49      1120\n",
      "weighted avg       0.81      0.73      0.77      1120\n",
      "\n"
     ]
    }
   ],
   "source": [
    "print(classification_report(y_test, y_pred_test))"
   ]
  }
 ],
 "metadata": {
  "kernelspec": {
   "display_name": "TensorFlow 2 (Local)",
   "language": "python",
   "name": "local-tf2"
  },
  "language_info": {
   "codemirror_mode": {
    "name": "ipython",
    "version": 3
   },
   "file_extension": ".py",
   "mimetype": "text/x-python",
   "name": "python",
   "nbconvert_exporter": "python",
   "pygments_lexer": "ipython3",
   "version": "3.7.12"
  }
 },
 "nbformat": 4,
 "nbformat_minor": 5
}
