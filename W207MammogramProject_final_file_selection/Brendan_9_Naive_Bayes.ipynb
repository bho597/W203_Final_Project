{
 "cells": [
  {
   "cell_type": "markdown",
   "id": "7acf91db",
   "metadata": {},
   "source": [
    "# Image Classification with Naive Bayes"
   ]
  },
  {
   "cell_type": "code",
   "execution_count": 2,
   "id": "8123afdd",
   "metadata": {},
   "outputs": [
    {
     "name": "stderr",
     "output_type": "stream",
     "text": [
      "2023-04-19 05:15:07.522415: I tensorflow/core/platform/cpu_feature_guard.cc:193] This TensorFlow binary is optimized with oneAPI Deep Neural Network Library (oneDNN) to use the following CPU instructions in performance-critical operations:  AVX2 FMA\n",
      "To enable them in other operations, rebuild TensorFlow with the appropriate compiler flags.\n",
      "2023-04-19 05:15:07.741451: E tensorflow/stream_executor/cuda/cuda_blas.cc:2981] Unable to register cuBLAS factory: Attempting to register factory for plugin cuBLAS when one has already been registered\n",
      "2023-04-19 05:15:11.252291: W tensorflow/stream_executor/platform/default/dso_loader.cc:64] Could not load dynamic library 'libnvinfer.so.7'; dlerror: libnvinfer.so.7: cannot open shared object file: No such file or directory; LD_LIBRARY_PATH: /usr/local/cuda/lib64:/usr/local/cuda/lib:/usr/local/lib/x86_64-linux-gnu:/usr/local/nvidia/lib:/usr/local/nvidia/lib64:/usr/local/nvidia/lib:/usr/local/nvidia/lib64\n",
      "2023-04-19 05:15:11.252476: W tensorflow/stream_executor/platform/default/dso_loader.cc:64] Could not load dynamic library 'libnvinfer_plugin.so.7'; dlerror: libnvinfer_plugin.so.7: cannot open shared object file: No such file or directory; LD_LIBRARY_PATH: /usr/local/cuda/lib64:/usr/local/cuda/lib:/usr/local/lib/x86_64-linux-gnu:/usr/local/nvidia/lib:/usr/local/nvidia/lib64:/usr/local/nvidia/lib:/usr/local/nvidia/lib64\n",
      "2023-04-19 05:15:11.252494: W tensorflow/compiler/tf2tensorrt/utils/py_utils.cc:38] TF-TRT Warning: Cannot dlopen some TensorRT libraries. If you would like to use Nvidia GPU with TensorRT, please make sure the missing libraries mentioned above are installed properly.\n"
     ]
    }
   ],
   "source": [
    "import pandas as pd\n",
    "import numpy as np\n",
    "import matplotlib.pyplot as plt\n",
    "import random\n",
    "import tensorflow as tf\n",
    "import os\n",
    "import csv\n",
    "\n",
    "from sklearn.metrics import confusion_matrix, ConfusionMatrixDisplay\n",
    "from sklearn.metrics import classification_report\n",
    "from sklearn.model_selection importRandomizedSearchCV\n",
    "from sklearn.model_selection import train_test_split\n",
    "from sklearn.model_selection import StratifiedKFold\n",
    "from sklearn.metrics import roc_auc_score, precision_score, recall_score\n",
    "from sklearn.naive_bayes import GaussianNB"
   ]
  },
  {
   "cell_type": "markdown",
   "id": "ae0bee94-40c8-4de3-81ff-fe5f90d73032",
   "metadata": {},
   "source": [
    "### Load Dataset"
   ]
  },
  {
   "cell_type": "code",
   "execution_count": 3,
   "id": "3ff78436-5644-4338-b6a9-4f8bb6dd922d",
   "metadata": {},
   "outputs": [
    {
     "name": "stdout",
     "output_type": "stream",
     "text": [
      "CPU times: user 11.5 s, sys: 4.25 s, total: 15.8 s\n",
      "Wall time: 15.8 s\n"
     ]
    }
   ],
   "source": [
    "%%time\n",
    "\n",
    "# Load the compressed array from disk\n",
    "images_mini = np.load('CNN_Xs_downsample_forvgg16.npz')['data']"
   ]
  },
  {
   "cell_type": "code",
   "execution_count": 4,
   "id": "e5b23f05-34bd-40f6-b7cb-83c5a78b2436",
   "metadata": {},
   "outputs": [],
   "source": [
    "# load the labels from disk\n",
    "with open('CNN_labels_downsampled_forvgg16.csv', 'r') as file:\n",
    "    reader = csv.reader(file)\n",
    "    labels_mini = list(reader)[0]\n",
    "    labels_mini = [int(x) for x in labels_mini]\n",
    "    y_mini= np.array(labels_mini)"
   ]
  },
  {
   "cell_type": "code",
   "execution_count": 5,
   "id": "7f601ebe-8450-4bf6-a40c-5d0cb72361e5",
   "metadata": {},
   "outputs": [
    {
     "name": "stdout",
     "output_type": "stream",
     "text": [
      "images_mini.shape: (5600, 224, 224, 3)\n",
      "\n",
      "number of labels: 5600\n",
      "\n",
      "number of positive cancer cases: 600\n"
     ]
    }
   ],
   "source": [
    "print('images_mini.shape:', images_mini.shape)\n",
    "print('\\nnumber of labels:', len(labels_mini))\n",
    "print('\\nnumber of positive cancer cases:', sum(labels_mini))"
   ]
  },
  {
   "cell_type": "markdown",
   "id": "b1cd1355-80fb-4a20-8613-7ec398b3dc47",
   "metadata": {},
   "source": [
    "### Normalize"
   ]
  },
  {
   "cell_type": "code",
   "execution_count": 6,
   "id": "dcafb559-2117-4729-ab6f-1cecfbd8fa73",
   "metadata": {},
   "outputs": [
    {
     "name": "stdout",
     "output_type": "stream",
     "text": [
      "Original max pixel value: 255.0\n",
      "Confirm min pixel value is 0: 0.0\n"
     ]
    }
   ],
   "source": [
    "print('Original max pixel value:', images_mini.max())\n",
    "print('Confirm min pixel value is 0:', images_mini.min())"
   ]
  },
  {
   "cell_type": "code",
   "execution_count": 7,
   "id": "0aa25385-4e89-46bf-9857-9dfd6b044644",
   "metadata": {},
   "outputs": [],
   "source": [
    "#Normalize image pixel values\n",
    "images_mini_norm = images_mini / images_mini.max() "
   ]
  },
  {
   "cell_type": "code",
   "execution_count": 8,
   "id": "69656465-56d3-4d02-8cd6-32195ac621c0",
   "metadata": {},
   "outputs": [
    {
     "name": "stdout",
     "output_type": "stream",
     "text": [
      "New max pixel value: 1.0\n",
      "Confirm min pixel value is 0: 0.0\n"
     ]
    }
   ],
   "source": [
    "print('New max pixel value:', images_mini_norm.max())\n",
    "print('Confirm min pixel value is 0:', images_mini_norm.min())"
   ]
  },
  {
   "cell_type": "markdown",
   "id": "897e0c1e-d694-45fb-aa5d-6612ecdabb48",
   "metadata": {},
   "source": [
    "### Reshape"
   ]
  },
  {
   "cell_type": "code",
   "execution_count": 9,
   "id": "a9417b9d-badf-475e-9d78-ccb55e805193",
   "metadata": {},
   "outputs": [
    {
     "data": {
      "text/plain": [
       "(5600, 224, 224, 3)"
      ]
     },
     "execution_count": 9,
     "metadata": {},
     "output_type": "execute_result"
    }
   ],
   "source": [
    "images_mini_norm.shape"
   ]
  },
  {
   "cell_type": "code",
   "execution_count": 10,
   "id": "db2a8f21-8ddb-4048-9631-c7843660f81c",
   "metadata": {},
   "outputs": [
    {
     "data": {
      "text/plain": [
       "(5600, 224, 224, 1)"
      ]
     },
     "execution_count": 10,
     "metadata": {},
     "output_type": "execute_result"
    }
   ],
   "source": [
    "arr_mean = np.mean(images_mini_norm, axis=-1)\n",
    "arr_mean.shape\n",
    "resized_images_mini = np.expand_dims(arr_mean, axis=-1)\n",
    "resized_images_mini.shape"
   ]
  },
  {
   "cell_type": "code",
   "execution_count": 11,
   "id": "291c052c-4af3-49c6-afdc-77601cea2d05",
   "metadata": {},
   "outputs": [
    {
     "name": "stdout",
     "output_type": "stream",
     "text": [
      "Original max pixel value: 1.0\n",
      "Confirm min pixel value is 0: 0.0\n"
     ]
    }
   ],
   "source": [
    "print('Original max pixel value:', resized_images_mini.max())\n",
    "print('Confirm min pixel value is 0:', resized_images_mini.min())"
   ]
  },
  {
   "cell_type": "markdown",
   "id": "38385b7b-ebb5-4211-be81-dc981201444d",
   "metadata": {},
   "source": [
    "## Settings"
   ]
  },
  {
   "cell_type": "code",
   "execution_count": 12,
   "id": "b8c19234",
   "metadata": {},
   "outputs": [],
   "source": [
    "random_state = 1234"
   ]
  },
  {
   "cell_type": "code",
   "execution_count": 13,
   "id": "b0a50a6d",
   "metadata": {},
   "outputs": [],
   "source": [
    "random.seed(random_state)\n",
    "tf.random.set_seed(random_state)\n",
    "np.random.seed(random_state)"
   ]
  },
  {
   "cell_type": "markdown",
   "id": "51102930-a481-438e-a03b-fd25ec6195b4",
   "metadata": {},
   "source": [
    "### Inputs"
   ]
  },
  {
   "cell_type": "code",
   "execution_count": 14,
   "id": "d9b44533-2298-4333-8a4f-3b352850c75f",
   "metadata": {},
   "outputs": [],
   "source": [
    "X= resized_images_mini\n",
    "y = y_mini"
   ]
  },
  {
   "cell_type": "code",
   "execution_count": 15,
   "id": "3d132553-c9b1-4745-af93-bcb5cbfe10db",
   "metadata": {},
   "outputs": [],
   "source": [
    "X_train, X_test, y_train, y_test = train_test_split(X, y, test_size=0.2, random_state=random_state)\n",
    "\n",
    "# reshape\n",
    "X_train = np.reshape(X_train, (len(X_train), -1))\n",
    "X_test = np.reshape(X_test, (len(X_test), -1))"
   ]
  },
  {
   "cell_type": "markdown",
   "id": "afd0132e",
   "metadata": {},
   "source": [
    "## Build Model"
   ]
  },
  {
   "cell_type": "code",
   "execution_count": 29,
   "id": "2916877f-f8b1-40b5-bfd5-825633735df4",
   "metadata": {},
   "outputs": [],
   "source": [
    "param_dist = {\n",
    "    'var_smoothing': uniform(1e-4, 1e-1)\n",
    "}"
   ]
  },
  {
   "cell_type": "code",
   "execution_count": 23,
   "id": "e5739901-7731-4190-8905-5e87dd49b774",
   "metadata": {},
   "outputs": [],
   "source": [
    "gnb_classifier = GaussianNB()"
   ]
  },
  {
   "cell_type": "code",
   "execution_count": 24,
   "id": "0466fba4-e847-4b9b-b547-d1d2b618f99e",
   "metadata": {},
   "outputs": [
    {
     "data": {
      "text/plain": [
       "(4480, 50176)"
      ]
     },
     "execution_count": 24,
     "metadata": {},
     "output_type": "execute_result"
    }
   ],
   "source": [
    "X_train.shape"
   ]
  },
  {
   "cell_type": "code",
   "execution_count": 25,
   "id": "063f3153-8bd7-40d5-bac2-1b217bb23182",
   "metadata": {},
   "outputs": [
    {
     "data": {
      "text/plain": [
       "(4480,)"
      ]
     },
     "execution_count": 25,
     "metadata": {},
     "output_type": "execute_result"
    }
   ],
   "source": [
    "y_train.shape"
   ]
  },
  {
   "cell_type": "code",
   "execution_count": 30,
   "id": "8e0905e2",
   "metadata": {
    "scrolled": true,
    "tags": []
   },
   "outputs": [
    {
     "name": "stdout",
     "output_type": "stream",
     "text": [
      "Fitting 5 folds for each of 20 candidates, totalling 100 fits\n"
     ]
    },
    {
     "data": {
      "text/plain": [
       "RandomizedSearchCV(cv=StratifiedKFold(n_splits=5, random_state=None, shuffle=False),\n",
       "                   estimator=GaussianNB(), n_iter=20, n_jobs=10,\n",
       "                   param_distributions={'var_smoothing': <scipy.stats._distn_infrastructure.rv_frozen object at 0x7ff9b0962550>},\n",
       "                   return_train_score=True, scoring='f1', verbose=20)"
      ]
     },
     "execution_count": 30,
     "metadata": {},
     "output_type": "execute_result"
    }
   ],
   "source": [
    "grid_search = RandomizedSearchCV(\n",
    "    gnb_classifier, \n",
    "    param_distributions=param_dist, \n",
    "    cv=StratifiedKFold(5),\n",
    "    scoring='f1',\n",
    "    n_jobs=10,\n",
    "    verbose=20,\n",
    "    n_iter=100,\n",
    "    return_train_score=True,\n",
    ")\n",
    "\n",
    "grid_search.fit(X_train, y_train)"
   ]
  },
  {
   "cell_type": "code",
   "execution_count": 32,
   "id": "45d6bf94",
   "metadata": {},
   "outputs": [
    {
     "name": "stdout",
     "output_type": "stream",
     "text": [
      "Best Parameters: {'var_smoothing': 0.011289431757440382}\n",
      "Best Score: 0.18994287361049236\n"
     ]
    }
   ],
   "source": [
    "# print the best parameters and score\n",
    "print(\"Best Parameters:\", grid_search.best_params_)\n",
    "print(\"Best Score:\", grid_search.best_score_)"
   ]
  },
  {
   "cell_type": "code",
   "execution_count": null,
   "id": "c2861781-3c44-4242-8395-92719b1189e2",
   "metadata": {},
   "outputs": [],
   "source": [
    "model_name = 'naivebayes'\n",
    "\n",
    "# convert the results to a pandas DataFrame\n",
    "cv_results = pd.DataFrame(grid_search.cv_results_)\n",
    "\n",
    "# save the results to a CSV file\n",
    "cv_results.to_csv(f'{model_name}_crossvalidation_results.csv', index=False)"
   ]
  },
  {
   "cell_type": "code",
   "execution_count": 33,
   "id": "fd9c01ac-e9df-48b3-a762-b663a40c3e02",
   "metadata": {},
   "outputs": [
    {
     "data": {
      "image/png": "[encoded data removed]",
      "text/plain": [
       "<Figure size 1000x600 with 1 Axes>"
      ]
     },
     "metadata": {},
     "output_type": "display_data"
    }
   ],
   "source": [
    "params = grid_search.cv_results_['params']\n",
    "scores = grid_search.cv_results_['mean_test_score']\n",
    "\n",
    "\n",
    "import seaborn as sns\n",
    "for param_name in params[0].keys():\n",
    "    # Extract the scores and hyperparameter values for the current parameter\n",
    "    \n",
    "    values = [pdict[param_name] for pdict in params]\n",
    "    \n",
    "    # Create a boxplot\n",
    "    plt.figure()\n",
    "    sns.boxplot(x=values, y=scores)\n",
    "    plt.xlabel(param_name)\n",
    "    plt.ylabel('f1_score')\n",
    "    plt.show()"
   ]
  },
  {
   "cell_type": "markdown",
   "id": "46d9468c-ad72-46e3-8c3f-8020b7028596",
   "metadata": {},
   "source": [
    "### Scoring"
   ]
  },
  {
   "cell_type": "code",
   "execution_count": null,
   "id": "103d040f-129b-4fc9-b0b4-815af3b2e236",
   "metadata": {},
   "outputs": [
    {
     "data": {
      "text/plain": [
       "{'var_smoothing': 7.771166283794724e-08}"
      ]
     },
     "execution_count": 29,
     "metadata": {},
     "output_type": "execute_result"
    }
   ],
   "source": [
    "grid_search.best_params_\n"
   ]
  },
  {
   "cell_type": "code",
   "execution_count": 34,
   "id": "ccda35e5-83e8-44d8-8980-95157caffaac",
   "metadata": {},
   "outputs": [],
   "source": [
    "hyperparameters = {'var_smoothing': 0.011289431757440382}"
   ]
  },
  {
   "cell_type": "code",
   "execution_count": 35,
   "id": "64c54f82-09c0-4848-a5ac-57b632499660",
   "metadata": {},
   "outputs": [],
   "source": [
    "tuned_clf = GaussianNB(\n",
    "    **hyperparameters\n",
    ")"
   ]
  },
  {
   "cell_type": "code",
   "execution_count": 36,
   "id": "68d3cdca-5584-4955-b8a5-bc026a7a4501",
   "metadata": {},
   "outputs": [
    {
     "data": {
      "text/plain": [
       "GaussianNB(var_smoothing=0.011289431757440382)"
      ]
     },
     "execution_count": 36,
     "metadata": {},
     "output_type": "execute_result"
    }
   ],
   "source": [
    "tuned_clf.fit(X_train, y_train)"
   ]
  },
  {
   "cell_type": "code",
   "execution_count": 37,
   "id": "6352eb38-8885-4b17-a8fc-e1de69a630cf",
   "metadata": {},
   "outputs": [
    {
     "name": "stdout",
     "output_type": "stream",
     "text": [
      "Train ROC_AUC score: 0.524\n",
      "Test ROC_AUC score: 0.500\n"
     ]
    }
   ],
   "source": [
    "train_roc = tuned_clf.score(X_train, y_train)\n",
    "print(f\"Train acc score: {train_roc:.3f}\")\n",
    "\n",
    "# Evaluate the test accuracy\n",
    "test_roc = tuned_clf.score(X_test, y_test)\n",
    "print(f\"Test acc score: {test_roc:.3f}\")"
   ]
  },
  {
   "cell_type": "code",
   "execution_count": 38,
   "id": "9a23251e-7d2f-4fee-8672-1a0463c895d5",
   "metadata": {},
   "outputs": [
    {
     "ename": "NameError",
     "evalue": "name 'confusion_matrix' is not defined",
     "output_type": "error",
     "traceback": [
      "\u001b[0;31m---------------------------------------------------------------------------\u001b[0m",
      "\u001b[0;31mNameError\u001b[0m                                 Traceback (most recent call last)",
      "\u001b[0;32m/tmp/ipykernel_1/2628635404.py\u001b[0m in \u001b[0;36m<module>\u001b[0;34m\u001b[0m\n\u001b[1;32m      1\u001b[0m \u001b[0my_pred_train\u001b[0m \u001b[0;34m=\u001b[0m \u001b[0mtuned_clf\u001b[0m\u001b[0;34m.\u001b[0m\u001b[0mpredict\u001b[0m\u001b[0;34m(\u001b[0m\u001b[0mX_train\u001b[0m\u001b[0;34m)\u001b[0m\u001b[0;34m\u001b[0m\u001b[0;34m\u001b[0m\u001b[0m\n\u001b[1;32m      2\u001b[0m \u001b[0my_pred_test\u001b[0m \u001b[0;34m=\u001b[0m \u001b[0mtuned_clf\u001b[0m\u001b[0;34m.\u001b[0m\u001b[0mpredict\u001b[0m\u001b[0;34m(\u001b[0m\u001b[0mX_test\u001b[0m\u001b[0;34m)\u001b[0m\u001b[0;34m\u001b[0m\u001b[0;34m\u001b[0m\u001b[0m\n\u001b[0;32m----> 3\u001b[0;31m \u001b[0mcm\u001b[0m \u001b[0;34m=\u001b[0m \u001b[0mconfusion_matrix\u001b[0m\u001b[0;34m(\u001b[0m\u001b[0my_test\u001b[0m\u001b[0;34m,\u001b[0m \u001b[0my_pred_test\u001b[0m\u001b[0;34m)\u001b[0m\u001b[0;34m\u001b[0m\u001b[0;34m\u001b[0m\u001b[0m\n\u001b[0m\u001b[1;32m      4\u001b[0m \u001b[0;34m\u001b[0m\u001b[0m\n\u001b[1;32m      5\u001b[0m disp = ConfusionMatrixDisplay(\n",
      "\u001b[0;31mNameError\u001b[0m: name 'confusion_matrix' is not defined"
     ]
    }
   ],
   "source": [
    "y_pred_train = tuned_clf.predict(X_train)\n",
    "y_pred_test = tuned_clf.predict(X_test)"
   ]
  },
  {
   "cell_type": "code",
   "execution_count": 39,
   "id": "0bf44366-df26-490d-8aba-842c1d445ef7",
   "metadata": {},
   "outputs": [
    {
     "name": "stdout",
     "output_type": "stream",
     "text": [
      "Train ROC_AUC score: 0.530\n",
      "Test ROC_AUC score: 0.524\n"
     ]
    }
   ],
   "source": [
    "train_roc = roc_auc_score(y_train, y_pred_train)\n",
    "print(f\"Train ROC_AUC score: {train_roc:.3f}\")\n",
    "\n",
    "# Evaluate the test accuracy\n",
    "test_roc = roc_auc_score(y_test, y_pred_test)\n",
    "print(f\"Test ROC_AUC score: {test_roc:.3f}\")"
   ]
  },
  {
   "cell_type": "code",
   "execution_count": 40,
   "id": "e808c275-1fbe-456d-bbcd-0d1f92078b08",
   "metadata": {},
   "outputs": [
    {
     "name": "stdout",
     "output_type": "stream",
     "text": [
      "Train precision score: 0.119\n",
      "Test precision score: 0.115\n",
      "Train recall score: 0.536\n",
      "Test recall score: 0.555\n"
     ]
    }
   ],
   "source": [
    "train_roc = precision_score(y_train, y_pred_train)\n",
    "print(f\"Train precision score: {train_roc:.3f}\")\n",
    "\n",
    "# Evaluate the test accuracy\n",
    "test_roc = precision_score(y_test, y_pred_test)\n",
    "print(f\"Test precision score: {test_roc:.3f}\")\n"
   ]
  },
  {
   "cell_type": "code",
   "execution_count": null,
   "id": "239622a1-dc92-40b8-93f7-12d216fe4788",
   "metadata": {},
   "outputs": [],
   "source": [
    "train_roc = recall_score(y_train, y_pred_train)\n",
    "print(f\"Train recall score: {train_roc:.3f}\")\n",
    "\n",
    "# Evaluate the test accuracy\n",
    "test_roc = recall_score(y_test, y_pred_test)\n",
    "print(f\"Test recall score: {test_roc:.3f}\")"
   ]
  },
  {
   "cell_type": "code",
   "execution_count": 41,
   "id": "d46fb829",
   "metadata": {},
   "outputs": [
    {
     "name": "stdout",
     "output_type": "stream",
     "text": [
      "Train f1 score: 0.195\n",
      "Test f1 score: 0.191\n",
      "[CV 2/5; 2/20] START var_smoothing=6.321087710398318e-08........................\n",
      "[CV 2/5; 2/20] END var_smoothing=6.321087710398318e-08;, score=(train=0.221, test=0.213) total time=   3.4s\n",
      "[CV 5/5; 3/20] START var_smoothing=4.477277390071145e-08........................\n",
      "[CV 5/5; 3/20] END var_smoothing=4.477277390071145e-08;, score=(train=0.201, test=0.172) total time=   3.0s\n",
      "[CV 2/5; 5/20] START var_smoothing=7.899758081188034e-08........................\n",
      "[CV 2/5; 5/20] END var_smoothing=7.899758081188034e-08;, score=(train=0.221, test=0.213) total time=   3.1s\n",
      "[CV 2/5; 7/20] START var_smoothing=2.8646425514309668e-08.......................\n",
      "[CV 2/5; 7/20] END var_smoothing=2.8646425514309668e-08;, score=(train=0.221, test=0.213) total time=   4.8s\n",
      "[CV 4/5; 9/20] START var_smoothing=9.681393536837051e-08........................\n",
      "[CV 4/5; 9/20] END var_smoothing=9.681393536837051e-08;, score=(train=0.195, test=0.194) total time=   4.0s\n",
      "[CV 4/5; 11/20] START var_smoothing=3.6781726995786667e-08......................\n",
      "[CV 4/5; 11/20] END var_smoothing=3.6781726995786667e-08;, score=(train=0.195, test=0.194) total time=   3.1s\n",
      "[CV 1/5; 13/20] START var_smoothing=6.934629351721363e-08.......................\n",
      "[CV 1/5; 13/20] END var_smoothing=6.934629351721363e-08;, score=(train=0.201, test=0.194) total time=   3.1s\n",
      "[CV 1/5; 15/20] START var_smoothing=3.8025075479039495e-08......................\n",
      "[CV 1/5; 15/20] END var_smoothing=3.8025075479039495e-08;, score=(train=0.201, test=0.194) total time=   4.9s\n",
      "[CV 4/5; 17/20] START var_smoothing=5.1308316530780974e-08......................\n",
      "[CV 4/5; 17/20] END var_smoothing=5.1308316530780974e-08;, score=(train=0.195, test=0.194) total time=   5.1s\n",
      "[CV 2/5; 20/20] START var_smoothing=8.926411906361165e-08.......................\n",
      "[CV 2/5; 20/20] END var_smoothing=8.926411906361165e-08;, score=(train=0.221, test=0.213) total time=   5.0s\n",
      "[CV 3/5; 2/20] START var_smoothing=0.006153962784334937.........................\n",
      "[CV 3/5; 2/20] END var_smoothing=0.006153962784334937;, score=(train=0.195, test=0.171) total time=   5.1s\n",
      "[CV 5/5; 4/20] START var_smoothing=0.003688241060019745.........................\n",
      "[CV 5/5; 4/20] END var_smoothing=0.003688241060019745;, score=(train=0.199, test=0.172) total time=   5.0s\n",
      "[CV 2/5; 7/20] START var_smoothing=0.0039720267772615425........................\n",
      "[CV 2/5; 7/20] END var_smoothing=0.0039720267772615425;, score=(train=0.214, test=0.214) total time=   5.3s\n",
      "[CV 4/5; 9/20] START var_smoothing=0.0031683622216887126........................\n",
      "[CV 4/5; 9/20] END var_smoothing=0.0031683622216887126;, score=(train=0.196, test=0.190) total time=   7.7s\n",
      "[CV 4/5; 11/20] START var_smoothing=0.008691274895612259........................\n",
      "[CV 4/5; 11/20] END var_smoothing=0.008691274895612259;, score=(train=0.195, test=0.193) total time=   3.4s\n",
      "[CV 4/5; 13/20] START var_smoothing=0.00802147742080159.........................\n",
      "[CV 4/5; 13/20] END var_smoothing=0.00802147742080159;, score=(train=0.196, test=0.193) total time=   4.6s\n",
      "[CV 2/5; 16/20] START var_smoothing=0.0070458140818957255.......................\n",
      "[CV 2/5; 16/20] END var_smoothing=0.0070458140818957255;, score=(train=0.209, test=0.217) total time=   3.1s\n",
      "[CV 1/5; 18/20] START var_smoothing=0.00924867728615565.........................\n",
      "[CV 1/5; 18/20] END var_smoothing=0.00924867728615565;, score=(train=0.198, test=0.191) total time=   4.9s\n",
      "[CV 2/5; 20/20] START var_smoothing=0.009093160589724725........................\n",
      "[CV 2/5; 20/20] END var_smoothing=0.009093160589724725;, score=(train=0.208, test=0.219) total time=   4.0s\n",
      "[CV 4/5; 2/20] START var_smoothing=0.018528708381381365.........................\n",
      "[CV 4/5; 2/20] END var_smoothing=0.018528708381381365;, score=(train=0.192, test=0.191) total time=   3.0s\n",
      "[CV 1/5; 3/20] START var_smoothing=0.004835527880151514.........................\n",
      "[CV 1/5; 3/20] END var_smoothing=0.004835527880151514;, score=(train=0.202, test=0.186) total time=   3.0s\n",
      "[CV 1/5; 5/20] START var_smoothing=0.05956247799344489..........................\n",
      "[CV 1/5; 5/20] END var_smoothing=0.05956247799344489;, score=(train=0.194, test=0.194) total time=   3.1s\n",
      "[CV 4/5; 6/20] START var_smoothing=0.05343101629987506..........................\n",
      "[CV 4/5; 6/20] END var_smoothing=0.05343101629987506;, score=(train=0.191, test=0.186) total time=   2.9s\n",
      "[CV 3/5; 8/20] START var_smoothing=0.056243308006339796.........................\n",
      "[CV 3/5; 8/20] END var_smoothing=0.056243308006339796;, score=(train=0.190, test=0.179) total time=   3.1s\n",
      "[CV 2/5; 10/20] START var_smoothing=0.05039668331126184.........................\n",
      "[CV 2/5; 10/20] END var_smoothing=0.05039668331126184;, score=(train=0.197, test=0.211) total time=   4.0s\n",
      "[CV 2/5; 12/20] START var_smoothing=0.06081937062184846.........................\n",
      "[CV 2/5; 12/20] END var_smoothing=0.06081937062184846;, score=(train=0.195, test=0.215) total time=   3.2s\n",
      "[CV 5/5; 13/20] START var_smoothing=0.05669446430505314.........................\n",
      "[CV 5/5; 13/20] END var_smoothing=0.05669446430505314;, score=(train=0.195, test=0.168) total time=   3.1s\n",
      "[CV 5/5; 15/20] START var_smoothing=0.06184417088042971.........................\n",
      "[CV 5/5; 15/20] END var_smoothing=0.06184417088042971;, score=(train=0.195, test=0.168) total time=   4.8s\n",
      "[CV 4/5; 18/20] START var_smoothing=0.09930814661883615.........................\n",
      "[CV 4/5; 18/20] END var_smoothing=0.09930814661883615;, score=(train=0.190, test=0.186) total time=   4.7s\n",
      "[CV 4/5; 1/20] START var_smoothing=2.0151945037889226e-08.......................\n",
      "[CV 4/5; 1/20] END var_smoothing=2.0151945037889226e-08;, score=(train=0.195, test=0.194) total time=   4.8s\n",
      "[CV 2/5; 4/20] START var_smoothing=7.953585837137692e-08........................\n",
      "[CV 2/5; 4/20] END var_smoothing=7.953585837137692e-08;, score=(train=0.221, test=0.213) total time=   3.9s\n",
      "[CV 2/5; 6/20] START var_smoothing=2.825926052826416e-08........................\n",
      "[CV 2/5; 6/20] END var_smoothing=2.825926052826416e-08;, score=(train=0.221, test=0.213) total time=   3.1s\n",
      "[CV 5/5; 7/20] START var_smoothing=2.8646425514309668e-08.......................\n",
      "[CV 5/5; 7/20] END var_smoothing=2.8646425514309668e-08;, score=(train=0.201, test=0.172) total time=   4.2s\n",
      "[CV 3/5; 10/20] START var_smoothing=8.859326347420947e-08.......................\n",
      "[CV 3/5; 10/20] END var_smoothing=8.859326347420947e-08;, score=(train=0.198, test=0.170) total time=   4.9s\n",
      "[CV 4/5; 12/20] START var_smoothing=5.109951255234587e-08.......................\n",
      "[CV 4/5; 12/20] END var_smoothing=5.109951255234587e-08;, score=(train=0.195, test=0.194) total time=   3.2s\n",
      "[CV 3/5; 14/20] START var_smoothing=7.227020269829001e-08.......................\n",
      "[CV 3/5; 14/20] END var_smoothing=7.227020269829001e-08;, score=(train=0.198, test=0.170) total time=   3.1s\n",
      "[CV 4/5; 15/20] START var_smoothing=3.8025075479039495e-08......................\n",
      "[CV 4/5; 15/20] END var_smoothing=3.8025075479039495e-08;, score=(train=0.195, test=0.194) total time=   3.1s\n",
      "[CV 3/5; 17/20] START var_smoothing=5.1308316530780974e-08......................\n",
      "[CV 3/5; 17/20] END var_smoothing=5.1308316530780974e-08;, score=(train=0.198, test=0.170) total time=   3.2s\n",
      "[CV 2/5; 19/20] START var_smoothing=7.82826621612374e-08........................\n",
      "[CV 2/5; 19/20] END var_smoothing=7.82826621612374e-08;, score=(train=0.221, test=0.213) total time=   3.5s\n",
      "[CV 2/5; 1/20] START var_smoothing=0.003648860839013723.........................\n",
      "[CV 2/5; 1/20] END var_smoothing=0.003648860839013723;, score=(train=0.214, test=0.214) total time=   5.1s\n",
      "[CV 3/5; 4/20] START var_smoothing=0.003688241060019745.........................\n",
      "[CV 3/5; 4/20] END var_smoothing=0.003688241060019745;, score=(train=0.198, test=0.175) total time=   5.0s\n",
      "[CV 1/5; 7/20] START var_smoothing=0.0039720267772615425........................\n",
      "[CV 1/5; 7/20] END var_smoothing=0.0039720267772615425;, score=(train=0.201, test=0.186) total time=   5.2s\n",
      "[CV 5/5; 9/20] START var_smoothing=0.0031683622216887126........................\n",
      "[CV 5/5; 9/20] END var_smoothing=0.0031683622216887126;, score=(train=0.199, test=0.172) total time=   7.3s\n",
      "[CV 3/5; 12/20] START var_smoothing=0.004361735238956794........................\n",
      "[CV 3/5; 12/20] END var_smoothing=0.004361735238956794;, score=(train=0.197, test=0.172) total time=   3.4s\n",
      "[CV 3/5; 14/20] START var_smoothing=0.0014376692451456457.......................\n",
      "[CV 3/5; 14/20] END var_smoothing=0.0014376692451456457;, score=(train=0.200, test=0.173) total time=   5.1s\n",
      "[CV 3/5; 16/20] START var_smoothing=0.0070458140818957255.......................\n",
      "[CV 3/5; 16/20] END var_smoothing=0.0070458140818957255;, score=(train=0.195, test=0.171) total time=   5.0s\n",
      "[CV 4/5; 19/20] START var_smoothing=0.004421408554041766........................\n",
      "[CV 4/5; 19/20] END var_smoothing=0.004421408554041766;, score=(train=0.196, test=0.190) total time=   4.9s\n",
      "[CV 3/5; 1/20] START var_smoothing=0.00608092227798519..........................\n",
      "[CV 3/5; 1/20] END var_smoothing=0.00608092227798519;, score=(train=0.195, test=0.171) total time=   3.4s\n",
      "[CV 1/5; 4/20] START var_smoothing=0.06758809435823303..........................\n",
      "[CV 1/5; 4/20] END var_smoothing=0.06758809435823303;, score=(train=0.194, test=0.194) total time=   3.8s\n",
      "[CV 5/5; 5/20] START var_smoothing=0.05956247799344489..........................\n",
      "[CV 5/5; 5/20] END var_smoothing=0.05956247799344489;, score=(train=0.195, test=0.168) total time=   3.1s\n",
      "[CV 4/5; 7/20] START var_smoothing=0.004432406269480349.........................\n",
      "[CV 4/5; 7/20] END var_smoothing=0.004432406269480349;, score=(train=0.196, test=0.190) total time=   4.8s\n",
      "[CV 5/5; 9/20] START var_smoothing=0.0330668445620915...........................\n",
      "[CV 5/5; 9/20] END var_smoothing=0.0330668445620915;, score=(train=0.196, test=0.169) total time=   4.2s\n",
      "[CV 3/5; 12/20] START var_smoothing=0.06081937062184846.........................\n",
      "[CV 3/5; 12/20] END var_smoothing=0.06081937062184846;, score=(train=0.190, test=0.179) total time=   4.5s\n",
      "[CV 3/5; 14/20] START var_smoothing=0.000776406199000279........................\n",
      "[CV 3/5; 14/20] END var_smoothing=0.000776406199000279;, score=(train=0.200, test=0.173) total time=   3.1s\n",
      "[CV 1/5; 16/20] START var_smoothing=0.09131228864331543.........................\n",
      "[CV 1/5; 16/20] END var_smoothing=0.09131228864331543;, score=(train=0.192, test=0.192) total time=   3.1s\n",
      "[CV 3/5; 17/20] START var_smoothing=0.07915241330570334.........................\n",
      "[CV 3/5; 17/20] END var_smoothing=0.07915241330570334;, score=(train=0.190, test=0.179) total time=   3.1s\n",
      "[CV 2/5; 19/20] START var_smoothing=0.09598017621528666.........................\n",
      "[CV 2/5; 19/20] END var_smoothing=0.09598017621528666;, score=(train=0.193, test=0.212) total time=   3.1s\n",
      "[CV 1/5; 1/20] START var_smoothing=2.0151945037889226e-08.......................\n",
      "[CV 1/5; 1/20] END var_smoothing=2.0151945037889226e-08;, score=(train=0.201, test=0.194) total time=   2.9s\n",
      "[CV 2/5; 3/20] START var_smoothing=4.477277390071145e-08........................\n",
      "[CV 2/5; 3/20] END var_smoothing=4.477277390071145e-08;, score=(train=0.221, test=0.213) total time=   4.7s\n",
      "[CV 3/5; 5/20] START var_smoothing=7.899758081188034e-08........................\n",
      "[CV 3/5; 5/20] END var_smoothing=7.899758081188034e-08;, score=(train=0.198, test=0.170) total time=   4.8s\n",
      "[CV 4/5; 8/20] START var_smoothing=8.118721775350192e-08........................\n",
      "[CV 4/5; 8/20] END var_smoothing=8.118721775350192e-08;, score=(train=0.195, test=0.194) total time=   3.1s\n",
      "[CV 2/5; 10/20] START var_smoothing=8.859326347420947e-08.......................\n",
      "[CV 2/5; 10/20] END var_smoothing=8.859326347420947e-08;, score=(train=0.221, test=0.213) total time=   3.5s\n",
      "[CV 1/5; 12/20] START var_smoothing=5.109951255234587e-08.......................\n",
      "[CV 1/5; 12/20] END var_smoothing=5.109951255234587e-08;, score=(train=0.201, test=0.194) total time=   3.1s\n",
      "[CV 3/5; 13/20] START var_smoothing=6.934629351721363e-08.......................\n",
      "[CV 3/5; 13/20] END var_smoothing=6.934629351721363e-08;, score=(train=0.198, test=0.170) total time=   3.1s\n",
      "[CV 2/5; 15/20] START var_smoothing=3.8025075479039495e-08......................\n",
      "[CV 2/5; 15/20] END var_smoothing=3.8025075479039495e-08;, score=(train=0.221, test=0.213) total time=   3.3s\n",
      "[CV 1/5; 17/20] START var_smoothing=5.1308316530780974e-08......................\n",
      "[CV 1/5; 17/20] END var_smoothing=5.1308316530780974e-08;, score=(train=0.201, test=0.194) total time=   4.8s\n",
      "[CV 4/5; 19/20] START var_smoothing=7.82826621612374e-08........................\n",
      "[CV 4/5; 19/20] END var_smoothing=7.82826621612374e-08;, score=(train=0.195, test=0.194) total time=   4.6s\n",
      "[CV 4/5; 1/20] START var_smoothing=0.003648860839013723.........................\n",
      "[CV 4/5; 1/20] END var_smoothing=0.003648860839013723;, score=(train=0.195, test=0.190) total time=   3.2s\n",
      "[CV 1/5; 3/20] START var_smoothing=0.0007538134164297655........................\n",
      "[CV 1/5; 3/20] END var_smoothing=0.0007538134164297655;, score=(train=0.204, test=0.189) total time=   3.0s\n",
      "[CV 1/5; 5/20] START var_smoothing=0.009331402019825215.........................\n",
      "[CV 1/5; 5/20] END var_smoothing=0.009331402019825215;, score=(train=0.197, test=0.191) total time=   3.8s\n",
      "[CV 5/5; 7/20] START var_smoothing=0.0039720267772615425........................\n",
      "[CV 5/5; 7/20] END var_smoothing=0.0039720267772615425;, score=(train=0.199, test=0.172) total time=   3.3s\n",
      "[CV 1/5; 9/20] START var_smoothing=0.0031683622216887126........................\n",
      "[CV 1/5; 9/20] END var_smoothing=0.0031683622216887126;, score=(train=0.202, test=0.189) total time=   3.2s\n",
      "[CV 1/5; 11/20] START var_smoothing=0.008691274895612259........................\n",
      "[CV 1/5; 11/20] END var_smoothing=0.008691274895612259;, score=(train=0.198, test=0.191) total time=   4.9s\n",
      "[CV 1/5; 13/20] START var_smoothing=0.00802147742080159.........................\n",
      "[CV 1/5; 13/20] END var_smoothing=0.00802147742080159;, score=(train=0.198, test=0.191) total time=   4.9s\n",
      "[CV 5/5; 15/20] START var_smoothing=0.007042610711183355........................\n",
      "[CV 5/5; 15/20] END var_smoothing=0.007042610711183355;, score=(train=0.198, test=0.171) total time=   4.9s\n",
      "[CV 2/5; 18/20] START var_smoothing=0.00924867728615565.........................\n",
      "[CV 2/5; 18/20] END var_smoothing=0.00924867728615565;, score=(train=0.208, test=0.219) total time=   3.1s\n",
      "[CV 5/5; 19/20] START var_smoothing=0.004421408554041766........................\n",
      "[CV 5/5; 19/20] END var_smoothing=0.004421408554041766;, score=(train=0.198, test=0.172) total time=   3.6s\n",
      "[CV 5/5; 1/20] START var_smoothing=0.00608092227798519..........................\n",
      "[CV 5/5; 1/20] END var_smoothing=0.00608092227798519;, score=(train=0.198, test=0.172) total time=   4.8s\n",
      "[CV 2/5; 4/20] START var_smoothing=0.06758809435823303..........................\n",
      "[CV 2/5; 4/20] END var_smoothing=0.06758809435823303;, score=(train=0.195, test=0.215) total time=   2.9s\n",
      "[CV 2/5; 6/20] START var_smoothing=0.05343101629987506..........................\n",
      "[CV 2/5; 6/20] END var_smoothing=0.05343101629987506;, score=(train=0.196, test=0.211) total time=   3.1s\n",
      "[CV 1/5; 8/20] START var_smoothing=0.056243308006339796.........................\n",
      "[CV 1/5; 8/20] END var_smoothing=0.056243308006339796;, score=(train=0.194, test=0.195) total time=   3.2s\n",
      "[CV 4/5; 9/20] START var_smoothing=0.0330668445620915...........................\n",
      "[CV 4/5; 9/20] END var_smoothing=0.0330668445620915;, score=(train=0.191, test=0.188) total time=   3.0s\n",
      "[CV 3/5; 11/20] START var_smoothing=0.011289431757440382........................\n",
      "[CV 3/5; 11/20] END var_smoothing=0.011289431757440382;, score=(train=0.194, test=0.174) total time=   3.5s\n",
      "[CV 4/5; 12/20] START var_smoothing=0.06081937062184846.........................\n",
      "[CV 4/5; 12/20] END var_smoothing=0.06081937062184846;, score=(train=0.190, test=0.186) total time=   3.0s\n",
      "[CV 4/5; 14/20] START var_smoothing=0.000776406199000279........................\n",
      "[CV 4/5; 14/20] END var_smoothing=0.000776406199000279;, score=(train=0.196, test=0.194) total time=   3.2s\n",
      "[CV 2/5; 16/20] START var_smoothing=0.09131228864331543.........................\n",
      "[CV 2/5; 16/20] END var_smoothing=0.09131228864331543;, score=(train=0.193, test=0.212) total time=   3.1s\n",
      "[CV 4/5; 17/20] START var_smoothing=0.07915241330570334.........................\n",
      "[CV 4/5; 17/20] END var_smoothing=0.07915241330570334;, score=(train=0.190, test=0.186) total time=   3.1s\n",
      "[CV 4/5; 19/20] START var_smoothing=0.09598017621528666.........................\n",
      "[CV 4/5; 19/20] END var_smoothing=0.09598017621528666;, score=(train=0.190, test=0.186) total time=   3.1s\n",
      "[CV 3/5; 1/20] START var_smoothing=2.0151945037889226e-08.......................\n",
      "[CV 3/5; 1/20] END var_smoothing=2.0151945037889226e-08;, score=(train=0.198, test=0.170) total time=   3.0s\n",
      "[CV 3/5; 3/20] START var_smoothing=4.477277390071145e-08........................\n",
      "[CV 3/5; 3/20] END var_smoothing=4.477277390071145e-08;, score=(train=0.198, test=0.170) total time=   4.7s\n",
      "[CV 3/5; 6/20] START var_smoothing=2.825926052826416e-08........................\n",
      "[CV 3/5; 6/20] END var_smoothing=2.825926052826416e-08;, score=(train=0.198, test=0.170) total time=   4.7s\n",
      "[CV 3/5; 8/20] START var_smoothing=8.118721775350192e-08........................\n",
      "[CV 3/5; 8/20] END var_smoothing=8.118721775350192e-08;, score=(train=0.198, test=0.170) total time=   3.2s\n",
      "[CV 1/5; 10/20] START var_smoothing=8.859326347420947e-08.......................\n",
      "[CV 1/5; 10/20] END var_smoothing=8.859326347420947e-08;, score=(train=0.201, test=0.194) total time=   4.8s\n",
      "[CV 3/5; 12/20] START var_smoothing=5.109951255234587e-08.......................\n",
      "[CV 3/5; 12/20] END var_smoothing=5.109951255234587e-08;, score=(train=0.198, test=0.170) total time=   3.2s\n",
      "[CV 1/5; 14/20] START var_smoothing=7.227020269829001e-08.......................\n",
      "[CV 1/5; 14/20] END var_smoothing=7.227020269829001e-08;, score=(train=0.201, test=0.194) total time=   3.2s\n",
      "[CV 1/5; 16/20] START var_smoothing=5.711961860656249e-08.......................\n",
      "[CV 1/5; 16/20] END var_smoothing=5.711961860656249e-08;, score=(train=0.201, test=0.194) total time=   4.7s\n",
      "[CV 5/5; 18/20] START var_smoothing=2.376844959068224e-09.......................\n",
      "[CV 5/5; 18/20] END var_smoothing=2.376844959068224e-09;, score=(train=0.201, test=0.172) total time=   4.6s\n",
      "[CV 1/5; 1/20] START var_smoothing=0.003648860839013723.........................\n",
      "[CV 1/5; 1/20] END var_smoothing=0.003648860839013723;, score=(train=0.202, test=0.189) total time=   5.0s\n",
      "[CV 2/5; 4/20] START var_smoothing=0.003688241060019745.........................\n",
      "[CV 2/5; 4/20] END var_smoothing=0.003688241060019745;, score=(train=0.214, test=0.214) total time=   5.0s\n",
      "[CV 2/5; 6/20] START var_smoothing=0.0065137824322657745........................\n",
      "[CV 2/5; 6/20] END var_smoothing=0.0065137824322657745;, score=(train=0.210, test=0.217) total time=   3.1s\n",
      "[CV 2/5; 8/20] START var_smoothing=0.007887302429407455.........................\n",
      "[CV 2/5; 8/20] END var_smoothing=0.007887302429407455;, score=(train=0.209, test=0.218) total time=   4.3s\n",
      "[CV 3/5; 10/20] START var_smoothing=0.005680987526260692........................\n",
      "[CV 3/5; 10/20] END var_smoothing=0.005680987526260692;, score=(train=0.195, test=0.171) total time=   5.8s\n",
      "[CV 5/5; 12/20] START var_smoothing=0.004361735238956794........................\n",
      "[CV 5/5; 12/20] END var_smoothing=0.004361735238956794;, score=(train=0.198, test=0.172) total time=   4.6s\n",
      "[CV 4/5; 14/20] START var_smoothing=0.0014376692451456457.......................\n",
      "[CV 4/5; 14/20] END var_smoothing=0.0014376692451456457;, score=(train=0.196, test=0.194) total time=   3.8s\n",
      "[CV 2/5; 17/20] START var_smoothing=0.0021879220567408856.......................\n",
      "[CV 2/5; 17/20] END var_smoothing=0.0021879220567408856;, score=(train=0.215, test=0.206) total time=   4.8s\n",
      "[CV 1/5; 20/20] START var_smoothing=0.009093160589724725........................\n",
      "[CV 1/5; 20/20] END var_smoothing=0.009093160589724725;, score=(train=0.198, test=0.191) total time=   4.0s\n",
      "[CV 1/5; 2/20] START var_smoothing=0.018528708381381365.........................\n",
      "[CV 1/5; 2/20] END var_smoothing=0.018528708381381365;, score=(train=0.197, test=0.195) total time=   3.0s\n",
      "[CV 2/5; 3/20] START var_smoothing=0.004835527880151514.........................\n",
      "[CV 2/5; 3/20] END var_smoothing=0.004835527880151514;, score=(train=0.210, test=0.215) total time=   3.6s\n",
      "[CV 1/5; 6/20] START var_smoothing=0.05343101629987506..........................\n",
      "[CV 1/5; 6/20] END var_smoothing=0.05343101629987506;, score=(train=0.194, test=0.195) total time=   4.8s\n",
      "[CV 2/5; 8/20] START var_smoothing=0.056243308006339796.........................\n",
      "[CV 2/5; 8/20] END var_smoothing=0.056243308006339796;, score=(train=0.196, test=0.215) total time=   4.7s\n",
      "[CV 2/5; 11/20] START var_smoothing=0.011289431757440382........................\n",
      "[CV 2/5; 11/20] END var_smoothing=0.011289431757440382;, score=(train=0.201, test=0.220) total time=   4.0s\n",
      "[CV 2/5; 13/20] START var_smoothing=0.05669446430505314.........................\n",
      "[CV 2/5; 13/20] END var_smoothing=0.05669446430505314;, score=(train=0.196, test=0.215) total time=   3.1s\n",
      "[CV 5/5; 14/20] START var_smoothing=0.000776406199000279........................\n",
      "[CV 5/5; 14/20] END var_smoothing=0.000776406199000279;, score=(train=0.200, test=0.172) total time=   3.3s\n",
      "[CV 4/5; 16/20] START var_smoothing=0.09131228864331543.........................\n",
      "[CV 4/5; 16/20] END var_smoothing=0.09131228864331543;, score=(train=0.190, test=0.186) total time=   3.1s\n",
      "[CV 1/5; 18/20] START var_smoothing=0.09930814661883615.........................\n",
      "[CV 1/5; 18/20] END var_smoothing=0.09930814661883615;, score=(train=0.192, test=0.188) total time=   3.2s\n",
      "[CV 5/5; 19/20] START var_smoothing=0.09598017621528666.........................\n",
      "[CV 5/5; 19/20] END var_smoothing=0.09598017621528666;, score=(train=0.194, test=0.168) total time=   3.2s\n",
      "[CV 1/5; 2/20] START var_smoothing=6.321087710398318e-08........................\n",
      "[CV 1/5; 2/20] END var_smoothing=6.321087710398318e-08;, score=(train=0.201, test=0.194) total time=   4.8s\n",
      "[CV 5/5; 4/20] START var_smoothing=7.953585837137692e-08........................\n",
      "[CV 5/5; 4/20] END var_smoothing=7.953585837137692e-08;, score=(train=0.201, test=0.172) total time=   3.0s\n",
      "[CV 4/5; 5/20] START var_smoothing=7.899758081188034e-08........................\n",
      "[CV 4/5; 5/20] END var_smoothing=7.899758081188034e-08;, score=(train=0.195, test=0.194) total time=   3.0s\n",
      "[CV 1/5; 8/20] START var_smoothing=8.118721775350192e-08........................\n",
      "[CV 1/5; 8/20] END var_smoothing=8.118721775350192e-08;, score=(train=0.201, test=0.194) total time=   4.7s\n",
      "[CV 4/5; 10/20] START var_smoothing=8.859326347420947e-08.......................\n",
      "[CV 4/5; 10/20] END var_smoothing=8.859326347420947e-08;, score=(train=0.195, test=0.194) total time=   3.1s\n",
      "[CV 2/5; 12/20] START var_smoothing=5.109951255234587e-08.......................\n",
      "[CV 2/5; 12/20] END var_smoothing=5.109951255234587e-08;, score=(train=0.221, test=0.213) total time=   3.2s\n",
      "[CV 4/5; 13/20] START var_smoothing=6.934629351721363e-08.......................\n",
      "[CV 4/5; 13/20] END var_smoothing=6.934629351721363e-08;, score=(train=0.195, test=0.194) total time=   3.1s\n",
      "[CV 3/5; 15/20] START var_smoothing=3.8025075479039495e-08......................\n",
      "[CV 3/5; 15/20] END var_smoothing=3.8025075479039495e-08;, score=(train=0.198, test=0.170) total time=   3.3s\n",
      "[CV 2/5; 17/20] START var_smoothing=5.1308316530780974e-08......................\n",
      "[CV 2/5; 17/20] END var_smoothing=5.1308316530780974e-08;, score=(train=0.221, test=0.213) total time=   3.3s\n",
      "[CV 1/5; 19/20] START var_smoothing=7.82826621612374e-08........................\n",
      "[CV 1/5; 19/20] END var_smoothing=7.82826621612374e-08;, score=(train=0.201, test=0.194) total time=   3.0s\n",
      "[CV 5/5; 20/20] START var_smoothing=8.926411906361165e-08.......................\n",
      "[CV 5/5; 20/20] END var_smoothing=8.926411906361165e-08;, score=(train=0.201, test=0.172) total time=   2.9s\n",
      "[CV 5/5; 2/20] START var_smoothing=0.006153962784334937.........................\n",
      "[CV 5/5; 2/20] END var_smoothing=0.006153962784334937;, score=(train=0.198, test=0.172) total time=   3.2s\n",
      "[CV 1/5; 4/20] START var_smoothing=0.003688241060019745.........................\n",
      "[CV 1/5; 4/20] END var_smoothing=0.003688241060019745;, score=(train=0.202, test=0.189) total time=   3.0s\n",
      "[CV 3/5; 5/20] START var_smoothing=0.009331402019825215.........................\n",
      "[CV 3/5; 5/20] END var_smoothing=0.009331402019825215;, score=(train=0.194, test=0.174) total time=   3.2s\n",
      "[CV 3/5; 7/20] START var_smoothing=0.0039720267772615425........................\n",
      "[CV 3/5; 7/20] END var_smoothing=0.0039720267772615425;, score=(train=0.198, test=0.172) total time=   3.9s\n",
      "[CV 3/5; 9/20] START var_smoothing=0.0031683622216887126........................\n",
      "[CV 3/5; 9/20] END var_smoothing=0.0031683622216887126;, score=(train=0.198, test=0.174) total time=   6.6s\n",
      "[CV 3/5; 11/20] START var_smoothing=0.008691274895612259........................\n",
      "[CV 3/5; 11/20] END var_smoothing=0.008691274895612259;, score=(train=0.195, test=0.171) total time=   3.8s\n",
      "[CV 3/5; 13/20] START var_smoothing=0.00802147742080159.........................\n",
      "[CV 3/5; 13/20] END var_smoothing=0.00802147742080159;, score=(train=0.195, test=0.171) total time=   3.1s\n",
      "[CV 1/5; 15/20] START var_smoothing=0.007042610711183355........................\n",
      "[CV 1/5; 15/20] END var_smoothing=0.007042610711183355;, score=(train=0.198, test=0.186) total time=   4.2s\n",
      "[CV 5/5; 17/20] START var_smoothing=0.0021879220567408856.......................\n",
      "[CV 5/5; 17/20] END var_smoothing=0.0021879220567408856;, score=(train=0.199, test=0.173) total time=   3.2s\n",
      "[CV 2/5; 19/20] START var_smoothing=0.004421408554041766........................\n",
      "[CV 2/5; 19/20] END var_smoothing=0.004421408554041766;, score=(train=0.212, test=0.215) total time=   3.1s\n",
      "[CV 2/5; 1/20] START var_smoothing=0.00608092227798519..........................\n",
      "[CV 2/5; 1/20] END var_smoothing=0.00608092227798519;, score=(train=0.210, test=0.217) total time=   4.8s\n",
      "[CV 3/5; 4/20] START var_smoothing=0.06758809435823303..........................\n",
      "[CV 3/5; 4/20] END var_smoothing=0.06758809435823303;, score=(train=0.190, test=0.179) total time=   4.7s\n",
      "[CV 3/5; 6/20] START var_smoothing=0.05343101629987506..........................\n",
      "[CV 3/5; 6/20] END var_smoothing=0.05343101629987506;, score=(train=0.190, test=0.179) total time=   4.2s\n",
      "[CV 3/5; 9/20] START var_smoothing=0.0330668445620915...........................\n",
      "[CV 3/5; 9/20] END var_smoothing=0.0330668445620915;, score=(train=0.192, test=0.180) total time=   4.7s\n",
      "[CV 4/5; 11/20] START var_smoothing=0.011289431757440382........................\n",
      "[CV 4/5; 11/20] END var_smoothing=0.011289431757440382;, score=(train=0.195, test=0.193) total time=   5.3s\n",
      "[CV 1/5; 14/20] START var_smoothing=0.000776406199000279........................\n",
      "[CV 1/5; 14/20] END var_smoothing=0.000776406199000279;, score=(train=0.204, test=0.189) total time=   4.6s\n",
      "[CV 3/5; 16/20] START var_smoothing=0.09131228864331543.........................\n",
      "[CV 3/5; 16/20] END var_smoothing=0.09131228864331543;, score=(train=0.189, test=0.181) total time=   3.1s\n",
      "[CV 5/5; 17/20] START var_smoothing=0.07915241330570334.........................\n",
      "[CV 5/5; 17/20] END var_smoothing=0.07915241330570334;, score=(train=0.195, test=0.168) total time=   3.4s\n",
      "[CV 1/5; 20/20] START var_smoothing=0.07929641352916399.........................\n",
      "[CV 1/5; 20/20] END var_smoothing=0.07929641352916399;, score=(train=0.192, test=0.192) total time=   3.3s\n",
      "[CV 5/5; 2/20] START var_smoothing=6.321087710398318e-08........................\n",
      "[CV 5/5; 2/20] END var_smoothing=6.321087710398318e-08;, score=(train=0.201, test=0.172) total time=   3.4s\n",
      "[CV 1/5; 4/20] START var_smoothing=7.953585837137692e-08........................\n",
      "[CV 1/5; 4/20] END var_smoothing=7.953585837137692e-08;, score=(train=0.201, test=0.194) total time=   4.6s\n",
      "[CV 1/5; 6/20] START var_smoothing=2.825926052826416e-08........................\n",
      "[CV 1/5; 6/20] END var_smoothing=2.825926052826416e-08;, score=(train=0.201, test=0.194) total time=   3.0s\n",
      "[CV 4/5; 7/20] START var_smoothing=2.8646425514309668e-08.......................\n",
      "[CV 4/5; 7/20] END var_smoothing=2.8646425514309668e-08;, score=(train=0.195, test=0.194) total time=   3.0s\n",
      "[CV 3/5; 9/20] START var_smoothing=9.681393536837051e-08........................\n",
      "[CV 3/5; 9/20] END var_smoothing=9.681393536837051e-08;, score=(train=0.198, test=0.170) total time=   3.3s\n",
      "[CV 2/5; 11/20] START var_smoothing=3.6781726995786667e-08......................\n",
      "[CV 2/5; 11/20] END var_smoothing=3.6781726995786667e-08;, score=(train=0.221, test=0.213) total time=   5.8s\n",
      "[CV 2/5; 14/20] START var_smoothing=7.227020269829001e-08.......................\n",
      "[CV 2/5; 14/20] END var_smoothing=7.227020269829001e-08;, score=(train=0.221, test=0.213) total time=   4.8s\n",
      "[CV 5/5; 16/20] START var_smoothing=5.711961860656249e-08.......................\n",
      "[CV 5/5; 16/20] END var_smoothing=5.711961860656249e-08;, score=(train=0.201, test=0.172) total time=   3.3s\n",
      "[CV 3/5; 18/20] START var_smoothing=2.376844959068224e-09.......................\n",
      "[CV 3/5; 18/20] END var_smoothing=2.376844959068224e-09;, score=(train=0.198, test=0.170) total time=   3.0s\n",
      "[CV 3/5; 20/20] START var_smoothing=8.926411906361165e-08.......................\n",
      "[CV 3/5; 20/20] END var_smoothing=8.926411906361165e-08;, score=(train=0.198, test=0.170) total time=   3.9s\n",
      "[CV 2/5; 2/20] START var_smoothing=0.006153962784334937.........................\n",
      "[CV 2/5; 2/20] END var_smoothing=0.006153962784334937;, score=(train=0.210, test=0.217) total time=   3.2s\n",
      "[CV 3/5; 3/20] START var_smoothing=0.0007538134164297655........................\n",
      "[CV 3/5; 3/20] END var_smoothing=0.0007538134164297655;, score=(train=0.200, test=0.172) total time=   3.0s\n",
      "[CV 2/5; 5/20] START var_smoothing=0.009331402019825215.........................\n",
      "[CV 2/5; 5/20] END var_smoothing=0.009331402019825215;, score=(train=0.207, test=0.219) total time=   3.1s\n",
      "[CV 4/5; 6/20] START var_smoothing=0.0065137824322657745........................\n",
      "[CV 4/5; 6/20] END var_smoothing=0.0065137824322657745;, score=(train=0.195, test=0.194) total time=   3.3s\n",
      "[CV 4/5; 8/20] START var_smoothing=0.007887302429407455.........................\n",
      "[CV 4/5; 8/20] END var_smoothing=0.007887302429407455;, score=(train=0.196, test=0.193) total time=   4.2s\n",
      "[CV 5/5; 10/20] START var_smoothing=0.005680987526260692........................\n",
      "[CV 5/5; 10/20] END var_smoothing=0.005680987526260692;, score=(train=0.198, test=0.172) total time=   3.3s\n",
      "[CV 2/5; 12/20] START var_smoothing=0.004361735238956794........................\n",
      "[CV 2/5; 12/20] END var_smoothing=0.004361735238956794;, score=(train=0.212, test=0.215) total time=   3.4s\n",
      "[CV 1/5; 14/20] START var_smoothing=0.0014376692451456457.......................\n",
      "[CV 1/5; 14/20] END var_smoothing=0.0014376692451456457;, score=(train=0.202, test=0.191) total time=   3.8s\n",
      "[CV 1/5; 16/20] START var_smoothing=0.0070458140818957255.......................\n",
      "[CV 1/5; 16/20] END var_smoothing=0.0070458140818957255;, score=(train=0.198, test=0.186) total time=   3.7s\n",
      "[CV 4/5; 17/20] START var_smoothing=0.0021879220567408856.......................\n",
      "[CV 4/5; 17/20] END var_smoothing=0.0021879220567408856;, score=(train=0.196, test=0.190) total time=   3.2s\n",
      "[CV 3/5; 19/20] START var_smoothing=0.004421408554041766........................\n",
      "[CV 3/5; 19/20] END var_smoothing=0.004421408554041766;, score=(train=0.197, test=0.172) total time=   3.1s\n",
      "[CV 5/5; 20/20] START var_smoothing=0.009093160589724725........................\n",
      "[CV 5/5; 20/20] END var_smoothing=0.009093160589724725;, score=(train=0.198, test=0.171) total time=   2.9s\n",
      "[CV 5/5; 2/20] START var_smoothing=0.018528708381381365.........................\n",
      "[CV 5/5; 2/20] END var_smoothing=0.018528708381381365;, score=(train=0.196, test=0.171) total time=   3.0s\n",
      "[CV 5/5; 3/20] START var_smoothing=0.004835527880151514.........................\n",
      "[CV 5/5; 3/20] END var_smoothing=0.004835527880151514;, score=(train=0.198, test=0.172) total time=   4.0s\n",
      "[CV 4/5; 5/20] START var_smoothing=0.05956247799344489..........................\n",
      "[CV 4/5; 5/20] END var_smoothing=0.05956247799344489;, score=(train=0.190, test=0.186) total time=   3.1s\n",
      "[CV 5/5; 7/20] START var_smoothing=0.004432406269480349.........................\n",
      "[CV 5/5; 7/20] END var_smoothing=0.004432406269480349;, score=(train=0.198, test=0.172) total time=   4.7s\n",
      "[CV 1/5; 10/20] START var_smoothing=0.05039668331126184.........................\n",
      "[CV 1/5; 10/20] END var_smoothing=0.05039668331126184;, score=(train=0.195, test=0.195) total time=   4.5s\n",
      "[CV 5/5; 11/20] START var_smoothing=0.011289431757440382........................\n",
      "[CV 5/5; 11/20] END var_smoothing=0.011289431757440382;, score=(train=0.197, test=0.171) total time=   3.3s\n",
      "[CV 2/5; 14/20] START var_smoothing=0.000776406199000279........................\n",
      "[CV 2/5; 14/20] END var_smoothing=0.000776406199000279;, score=(train=0.220, test=0.206) total time=   5.0s\n",
      "[CV 5/5; 16/20] START var_smoothing=0.09131228864331543.........................\n",
      "[CV 5/5; 16/20] END var_smoothing=0.09131228864331543;, score=(train=0.194, test=0.168) total time=   5.0s\n",
      "[CV 3/5; 19/20] START var_smoothing=0.09598017621528666.........................\n",
      "[CV 3/5; 19/20] END var_smoothing=0.09598017621528666;, score=(train=0.189, test=0.181) total time=   5.1s\n",
      "[CV 5/5; 1/20] START var_smoothing=2.0151945037889226e-08.......................\n",
      "[CV 5/5; 1/20] END var_smoothing=2.0151945037889226e-08;, score=(train=0.201, test=0.172) total time=   3.0s\n",
      "[CV 1/5; 3/20] START var_smoothing=4.477277390071145e-08........................\n",
      "[CV 1/5; 3/20] END var_smoothing=4.477277390071145e-08;, score=(train=0.201, test=0.194) total time=   3.0s\n",
      "[CV 1/5; 5/20] START var_smoothing=7.899758081188034e-08........................\n",
      "[CV 1/5; 5/20] END var_smoothing=7.899758081188034e-08;, score=(train=0.201, test=0.194) total time=   3.9s\n",
      "[CV 1/5; 7/20] START var_smoothing=2.8646425514309668e-08.......................\n",
      "[CV 1/5; 7/20] END var_smoothing=2.8646425514309668e-08;, score=(train=0.201, test=0.194) total time=   3.1s\n",
      "[CV 5/5; 8/20] START var_smoothing=8.118721775350192e-08........................\n",
      "[CV 5/5; 8/20] END var_smoothing=8.118721775350192e-08;, score=(train=0.201, test=0.172) total time=   5.0s\n",
      "[CV 1/5; 11/20] START var_smoothing=3.6781726995786667e-08......................\n",
      "[CV 1/5; 11/20] END var_smoothing=3.6781726995786667e-08;, score=(train=0.201, test=0.194) total time=   4.3s\n",
      "[CV 2/5; 13/20] START var_smoothing=6.934629351721363e-08.......................\n",
      "[CV 2/5; 13/20] END var_smoothing=6.934629351721363e-08;, score=(train=0.221, test=0.213) total time=   4.9s\n",
      "[CV 5/5; 15/20] START var_smoothing=3.8025075479039495e-08......................\n",
      "[CV 5/5; 15/20] END var_smoothing=3.8025075479039495e-08;, score=(train=0.201, test=0.172) total time=   4.0s\n",
      "[CV 1/5; 18/20] START var_smoothing=2.376844959068224e-09.......................\n",
      "[CV 1/5; 18/20] END var_smoothing=2.376844959068224e-09;, score=(train=0.201, test=0.194) total time=   3.2s\n",
      "[CV 5/5; 19/20] START var_smoothing=7.82826621612374e-08........................\n",
      "[CV 5/5; 19/20] END var_smoothing=7.82826621612374e-08;, score=(train=0.201, test=0.172) total time=   4.2s\n",
      "[CV 5/5; 1/20] START var_smoothing=0.003648860839013723.........................\n",
      "[CV 5/5; 1/20] END var_smoothing=0.003648860839013723;, score=(train=0.199, test=0.172) total time=   3.2s\n",
      "[CV 5/5; 3/20] START var_smoothing=0.0007538134164297655........................\n",
      "[CV 5/5; 3/20] END var_smoothing=0.0007538134164297655;, score=(train=0.200, test=0.172) total time=   3.1s\n",
      "[CV 4/5; 5/20] START var_smoothing=0.009331402019825215.........................\n",
      "[CV 4/5; 5/20] END var_smoothing=0.009331402019825215;, score=(train=0.195, test=0.193) total time=   3.2s\n",
      "[CV 5/5; 6/20] START var_smoothing=0.0065137824322657745........................\n",
      "[CV 5/5; 6/20] END var_smoothing=0.0065137824322657745;, score=(train=0.198, test=0.171) total time=   3.2s\n",
      "[CV 3/5; 8/20] START var_smoothing=0.007887302429407455.........................\n",
      "[CV 3/5; 8/20] END var_smoothing=0.007887302429407455;, score=(train=0.195, test=0.171) total time=   3.2s\n",
      "[CV 2/5; 10/20] START var_smoothing=0.005680987526260692........................\n",
      "[CV 2/5; 10/20] END var_smoothing=0.005680987526260692;, score=(train=0.210, test=0.215) total time=   4.2s\n",
      "[CV 1/5; 12/20] START var_smoothing=0.004361735238956794........................\n",
      "[CV 1/5; 12/20] END var_smoothing=0.004361735238956794;, score=(train=0.201, test=0.186) total time=   3.4s\n",
      "[CV 2/5; 14/20] START var_smoothing=0.0014376692451456457.......................\n",
      "[CV 2/5; 14/20] END var_smoothing=0.0014376692451456457;, score=(train=0.218, test=0.205) total time=   3.3s\n",
      "[CV 4/5; 15/20] START var_smoothing=0.007042610711183355........................\n",
      "[CV 4/5; 15/20] END var_smoothing=0.007042610711183355;, score=(train=0.196, test=0.194) total time=   3.3s\n",
      "[CV 1/5; 17/20] START var_smoothing=0.0021879220567408856.......................\n",
      "[CV 1/5; 17/20] END var_smoothing=0.0021879220567408856;, score=(train=0.202, test=0.192) total time=   3.2s\n",
      "[CV 4/5; 18/20] START var_smoothing=0.00924867728615565.........................\n",
      "[CV 4/5; 18/20] END var_smoothing=0.00924867728615565;, score=(train=0.195, test=0.193) total time=   3.0s\n",
      "[CV 4/5; 20/20] START var_smoothing=0.009093160589724725........................\n",
      "[CV 4/5; 20/20] END var_smoothing=0.009093160589724725;, score=(train=0.195, test=0.193) total time=   3.2s\n",
      "[CV 3/5; 2/20] START var_smoothing=0.018528708381381365.........................\n",
      "[CV 3/5; 2/20] END var_smoothing=0.018528708381381365;, score=(train=0.194, test=0.175) total time=   3.4s\n",
      "[CV 4/5; 3/20] START var_smoothing=0.004835527880151514.........................\n",
      "[CV 4/5; 3/20] END var_smoothing=0.004835527880151514;, score=(train=0.196, test=0.194) total time=   3.0s\n",
      "[CV 3/5; 5/20] START var_smoothing=0.05956247799344489..........................\n",
      "[CV 3/5; 5/20] END var_smoothing=0.05956247799344489;, score=(train=0.190, test=0.179) total time=   3.1s\n",
      "[CV 1/5; 7/20] START var_smoothing=0.004432406269480349.........................\n",
      "[CV 1/5; 7/20] END var_smoothing=0.004432406269480349;, score=(train=0.201, test=0.186) total time=   2.9s\n",
      "[CV 5/5; 8/20] START var_smoothing=0.056243308006339796.........................\n",
      "[CV 5/5; 8/20] END var_smoothing=0.056243308006339796;, score=(train=0.195, test=0.168) total time=   3.1s\n",
      "[CV 4/5; 10/20] START var_smoothing=0.05039668331126184.........................\n",
      "[CV 4/5; 10/20] END var_smoothing=0.05039668331126184;, score=(train=0.191, test=0.186) total time=   4.3s\n",
      "[CV 1/5; 13/20] START var_smoothing=0.05669446430505314.........................\n",
      "[CV 1/5; 13/20] END var_smoothing=0.05669446430505314;, score=(train=0.194, test=0.195) total time=   5.0s\n",
      "[CV 1/5; 15/20] START var_smoothing=0.06184417088042971.........................\n",
      "[CV 1/5; 15/20] END var_smoothing=0.06184417088042971;, score=(train=0.194, test=0.194) total time=   3.2s\n",
      "[CV 1/5; 17/20] START var_smoothing=0.07915241330570334.........................\n",
      "[CV 1/5; 17/20] END var_smoothing=0.07915241330570334;, score=(train=0.192, test=0.192) total time=   3.2s\n",
      "[CV 5/5; 18/20] START var_smoothing=0.09930814661883615.........................\n",
      "[CV 5/5; 18/20] END var_smoothing=0.09930814661883615;, score=(train=0.194, test=0.168) total time=   3.1s\n",
      "[CV 2/5; 20/20] START var_smoothing=0.07929641352916399.........................\n",
      "[CV 2/5; 20/20] END var_smoothing=0.07929641352916399;, score=(train=0.193, test=0.213) total time=   3.1s\n",
      "[CV 2/5; 1/20] START var_smoothing=2.0151945037889226e-08.......................\n",
      "[CV 2/5; 1/20] END var_smoothing=2.0151945037889226e-08;, score=(train=0.221, test=0.213) total time=   4.7s\n",
      "[CV 4/5; 4/20] START var_smoothing=7.953585837137692e-08........................\n",
      "[CV 4/5; 4/20] END var_smoothing=7.953585837137692e-08;, score=(train=0.195, test=0.194) total time=   3.5s\n",
      "[CV 5/5; 5/20] START var_smoothing=7.899758081188034e-08........................\n",
      "[CV 5/5; 5/20] END var_smoothing=7.899758081188034e-08;, score=(train=0.201, test=0.172) total time=   3.0s\n",
      "[CV 3/5; 7/20] START var_smoothing=2.8646425514309668e-08.......................\n",
      "[CV 3/5; 7/20] END var_smoothing=2.8646425514309668e-08;, score=(train=0.198, test=0.170) total time=   3.0s\n",
      "[CV 2/5; 9/20] START var_smoothing=9.681393536837051e-08........................\n",
      "[CV 2/5; 9/20] END var_smoothing=9.681393536837051e-08;, score=(train=0.221, test=0.213) total time=   3.3s\n",
      "[CV 3/5; 11/20] START var_smoothing=3.6781726995786667e-08......................\n",
      "[CV 3/5; 11/20] END var_smoothing=3.6781726995786667e-08;, score=(train=0.198, test=0.170) total time=   5.0s\n",
      "[CV 5/5; 13/20] START var_smoothing=6.934629351721363e-08.......................\n",
      "[CV 5/5; 13/20] END var_smoothing=6.934629351721363e-08;, score=(train=0.201, test=0.172) total time=   4.9s\n",
      "[CV 2/5; 16/20] START var_smoothing=5.711961860656249e-08.......................\n",
      "[CV 2/5; 16/20] END var_smoothing=5.711961860656249e-08;, score=(train=0.221, test=0.213) total time=   2.9s\n",
      "[CV 5/5; 17/20] START var_smoothing=5.1308316530780974e-08......................\n",
      "[CV 5/5; 17/20] END var_smoothing=5.1308316530780974e-08;, score=(train=0.201, test=0.172) total time=   3.2s\n",
      "[CV 3/5; 19/20] START var_smoothing=7.82826621612374e-08........................\n",
      "[CV 3/5; 19/20] END var_smoothing=7.82826621612374e-08;, score=(train=0.198, test=0.170) total time=   4.0s\n",
      "[CV 3/5; 1/20] START var_smoothing=0.003648860839013723.........................\n",
      "[CV 3/5; 1/20] END var_smoothing=0.003648860839013723;, score=(train=0.198, test=0.175) total time=   3.2s\n",
      "[CV 4/5; 3/20] START var_smoothing=0.0007538134164297655........................\n",
      "[CV 4/5; 3/20] END var_smoothing=0.0007538134164297655;, score=(train=0.196, test=0.194) total time=   3.1s\n",
      "[CV 5/5; 5/20] START var_smoothing=0.009331402019825215.........................\n",
      "[CV 5/5; 5/20] END var_smoothing=0.009331402019825215;, score=(train=0.198, test=0.171) total time=   3.2s\n",
      "[CV 4/5; 7/20] START var_smoothing=0.0039720267772615425........................\n",
      "[CV 4/5; 7/20] END var_smoothing=0.0039720267772615425;, score=(train=0.195, test=0.190) total time=   3.8s\n",
      "[CV 2/5; 9/20] START var_smoothing=0.0031683622216887126........................\n",
      "[CV 2/5; 9/20] END var_smoothing=0.0031683622216887126;, score=(train=0.214, test=0.212) total time=   3.2s\n",
      "[CV 2/5; 11/20] START var_smoothing=0.008691274895612259........................\n",
      "[CV 2/5; 11/20] END var_smoothing=0.008691274895612259;, score=(train=0.208, test=0.219) total time=   4.9s\n",
      "[CV 2/5; 13/20] START var_smoothing=0.00802147742080159.........................\n",
      "[CV 2/5; 13/20] END var_smoothing=0.00802147742080159;, score=(train=0.208, test=0.218) total time=   4.4s\n",
      "[CV 5/5; 14/20] START var_smoothing=0.0014376692451456457.......................\n",
      "[CV 5/5; 14/20] END var_smoothing=0.0014376692451456457;, score=(train=0.200, test=0.173) total time=   3.4s\n",
      "[CV 4/5; 16/20] START var_smoothing=0.0070458140818957255.......................\n",
      "[CV 4/5; 16/20] END var_smoothing=0.0070458140818957255;, score=(train=0.196, test=0.194) total time=   4.1s\n",
      "[CV 5/5; 18/20] START var_smoothing=0.00924867728615565.........................\n",
      "[CV 5/5; 18/20] END var_smoothing=0.00924867728615565;, score=(train=0.198, test=0.171) total time=   4.9s\n",
      "[CV 4/5; 1/20] START var_smoothing=0.00608092227798519..........................\n",
      "[CV 4/5; 1/20] END var_smoothing=0.00608092227798519;, score=(train=0.195, test=0.194) total time=   3.3s\n",
      "[CV 3/5; 3/20] START var_smoothing=0.004835527880151514.........................\n",
      "[CV 3/5; 3/20] END var_smoothing=0.004835527880151514;, score=(train=0.195, test=0.171) total time=   3.0s\n",
      "[CV 2/5; 5/20] START var_smoothing=0.05956247799344489..........................\n",
      "[CV 2/5; 5/20] END var_smoothing=0.05956247799344489;, score=(train=0.196, test=0.215) total time=   3.1s\n",
      "[CV 5/5; 6/20] START var_smoothing=0.05343101629987506..........................\n",
      "[CV 5/5; 6/20] END var_smoothing=0.05343101629987506;, score=(train=0.195, test=0.168) total time=   2.9s\n",
      "[CV 4/5; 8/20] START var_smoothing=0.056243308006339796.........................\n",
      "[CV 4/5; 8/20] END var_smoothing=0.056243308006339796;, score=(train=0.191, test=0.186) total time=   3.0s\n",
      "[CV 3/5; 10/20] START var_smoothing=0.05039668331126184.........................\n",
      "[CV 3/5; 10/20] END var_smoothing=0.05039668331126184;, score=(train=0.191, test=0.179) total time=   3.5s\n",
      "[CV 1/5; 12/20] START var_smoothing=0.06081937062184846.........................\n",
      "[CV 1/5; 12/20] END var_smoothing=0.06081937062184846;, score=(train=0.194, test=0.194) total time=   3.2s\n",
      "[CV 4/5; 13/20] START var_smoothing=0.05669446430505314.........................\n",
      "[CV 4/5; 13/20] END var_smoothing=0.05669446430505314;, score=(train=0.191, test=0.186) total time=   3.1s\n",
      "[CV 2/5; 15/20] START var_smoothing=0.06184417088042971.........................\n",
      "[CV 2/5; 15/20] END var_smoothing=0.06184417088042971;, score=(train=0.195, test=0.214) total time=   3.1s\n",
      "[CV 2/5; 17/20] START var_smoothing=0.07915241330570334.........................\n",
      "[CV 2/5; 17/20] END var_smoothing=0.07915241330570334;, score=(train=0.193, test=0.213) total time=   3.2s\n",
      "[CV 1/5; 19/20] START var_smoothing=0.09598017621528666.........................\n",
      "[CV 1/5; 19/20] END var_smoothing=0.09598017621528666;, score=(train=0.192, test=0.192) total time=   3.0s\n",
      "[CV 3/5; 20/20] START var_smoothing=0.07929641352916399.........................\n",
      "[CV 3/5; 20/20] END var_smoothing=0.07929641352916399;, score=(train=0.190, test=0.179) total time=   3.0s\n",
      "[CV 4/5; 2/20] START var_smoothing=6.321087710398318e-08........................\n",
      "[CV 4/5; 2/20] END var_smoothing=6.321087710398318e-08;, score=(train=0.195, test=0.194) total time=   4.9s\n",
      "[CV 3/5; 4/20] START var_smoothing=7.953585837137692e-08........................\n",
      "[CV 3/5; 4/20] END var_smoothing=7.953585837137692e-08;, score=(train=0.198, test=0.170) total time=   4.0s\n",
      "[CV 5/5; 6/20] START var_smoothing=2.825926052826416e-08........................\n",
      "[CV 5/5; 6/20] END var_smoothing=2.825926052826416e-08;, score=(train=0.201, test=0.172) total time=   4.8s\n",
      "[CV 1/5; 9/20] START var_smoothing=9.681393536837051e-08........................\n",
      "[CV 1/5; 9/20] END var_smoothing=9.681393536837051e-08;, score=(train=0.201, test=0.194) total time=   3.2s\n",
      "[CV 5/5; 10/20] START var_smoothing=8.859326347420947e-08.......................\n",
      "[CV 5/5; 10/20] END var_smoothing=8.859326347420947e-08;, score=(train=0.201, test=0.172) total time=   4.8s\n",
      "[CV 5/5; 12/20] START var_smoothing=5.109951255234587e-08.......................\n",
      "[CV 5/5; 12/20] END var_smoothing=5.109951255234587e-08;, score=(train=0.201, test=0.172) total time=   3.3s\n",
      "[CV 5/5; 14/20] START var_smoothing=7.227020269829001e-08.......................\n",
      "[CV 5/5; 14/20] END var_smoothing=7.227020269829001e-08;, score=(train=0.201, test=0.172) total time=   3.2s\n",
      "[CV 3/5; 16/20] START var_smoothing=5.711961860656249e-08.......................\n",
      "[CV 3/5; 16/20] END var_smoothing=5.711961860656249e-08;, score=(train=0.198, test=0.170) total time=   4.1s\n",
      "[CV 2/5; 18/20] START var_smoothing=2.376844959068224e-09.......................\n",
      "[CV 2/5; 18/20] END var_smoothing=2.376844959068224e-09;, score=(train=0.221, test=0.213) total time=   3.1s\n",
      "[CV 1/5; 20/20] START var_smoothing=8.926411906361165e-08.......................\n",
      "[CV 1/5; 20/20] END var_smoothing=8.926411906361165e-08;, score=(train=0.201, test=0.194) total time=   3.5s\n",
      "[CV 1/5; 2/20] START var_smoothing=0.006153962784334937.........................\n",
      "[CV 1/5; 2/20] END var_smoothing=0.006153962784334937;, score=(train=0.200, test=0.187) total time=   3.2s\n",
      "[CV 2/5; 3/20] START var_smoothing=0.0007538134164297655........................\n",
      "[CV 2/5; 3/20] END var_smoothing=0.0007538134164297655;, score=(train=0.220, test=0.206) total time=   3.1s\n",
      "[CV 1/5; 6/20] START var_smoothing=0.0065137824322657745........................\n",
      "[CV 1/5; 6/20] END var_smoothing=0.0065137824322657745;, score=(train=0.200, test=0.187) total time=   3.9s\n",
      "[CV 1/5; 8/20] START var_smoothing=0.007887302429407455.........................\n",
      "[CV 1/5; 8/20] END var_smoothing=0.007887302429407455;, score=(train=0.198, test=0.191) total time=   5.1s\n",
      "[CV 1/5; 10/20] START var_smoothing=0.005680987526260692........................\n",
      "[CV 1/5; 10/20] END var_smoothing=0.005680987526260692;, score=(train=0.201, test=0.187) total time=   8.9s\n",
      "[CV 4/5; 12/20] START var_smoothing=0.004361735238956794........................\n",
      "[CV 4/5; 12/20] END var_smoothing=0.004361735238956794;, score=(train=0.196, test=0.190) total time=   5.0s\n",
      "[CV 3/5; 15/20] START var_smoothing=0.007042610711183355........................\n",
      "[CV 3/5; 15/20] END var_smoothing=0.007042610711183355;, score=(train=0.195, test=0.171) total time=   4.2s\n",
      "[CV 3/5; 17/20] START var_smoothing=0.0021879220567408856.......................\n",
      "[CV 3/5; 17/20] END var_smoothing=0.0021879220567408856;, score=(train=0.199, test=0.174) total time=   3.2s\n",
      "[CV 1/5; 19/20] START var_smoothing=0.004421408554041766........................\n",
      "[CV 1/5; 19/20] END var_smoothing=0.004421408554041766;, score=(train=0.201, test=0.186) total time=   3.1s\n",
      "[CV 1/5; 1/20] START var_smoothing=0.00608092227798519..........................\n",
      "[CV 1/5; 1/20] END var_smoothing=0.00608092227798519;, score=(train=0.200, test=0.187) total time=   4.8s\n",
      "[CV 4/5; 4/20] START var_smoothing=0.06758809435823303..........................\n",
      "[CV 4/5; 4/20] END var_smoothing=0.06758809435823303;, score=(train=0.190, test=0.186) total time=   4.9s\n",
      "[CV 3/5; 7/20] START var_smoothing=0.004432406269480349.........................\n",
      "[CV 3/5; 7/20] END var_smoothing=0.004432406269480349;, score=(train=0.197, test=0.172) total time=   3.8s\n",
      "[CV 2/5; 9/20] START var_smoothing=0.0330668445620915...........................\n",
      "[CV 2/5; 9/20] END var_smoothing=0.0330668445620915;, score=(train=0.198, test=0.209) total time=   3.0s\n",
      "[CV 5/5; 10/20] START var_smoothing=0.05039668331126184.........................\n",
      "[CV 5/5; 10/20] END var_smoothing=0.05039668331126184;, score=(train=0.195, test=0.168) total time=   6.9s\n",
      "[CV 3/5; 13/20] START var_smoothing=0.05669446430505314.........................\n",
      "[CV 3/5; 13/20] END var_smoothing=0.05669446430505314;, score=(train=0.190, test=0.179) total time=   3.1s\n",
      "[CV 3/5; 15/20] START var_smoothing=0.06184417088042971.........................\n",
      "[CV 3/5; 15/20] END var_smoothing=0.06184417088042971;, score=(train=0.190, test=0.179) total time=   4.9s\n",
      "[CV 2/5; 18/20] START var_smoothing=0.09930814661883615.........................\n",
      "[CV 2/5; 18/20] END var_smoothing=0.09930814661883615;, score=(train=0.193, test=0.212) total time=   4.8s\n",
      "[CV 4/5; 20/20] START var_smoothing=0.07929641352916399.........................\n",
      "[CV 4/5; 20/20] END var_smoothing=0.07929641352916399;, score=(train=0.190, test=0.186) total time=   3.2s\n",
      "[CV 3/5; 2/20] START var_smoothing=6.321087710398318e-08........................\n",
      "[CV 3/5; 2/20] END var_smoothing=6.321087710398318e-08;, score=(train=0.198, test=0.170) total time=   3.0s\n",
      "[CV 4/5; 3/20] START var_smoothing=4.477277390071145e-08........................\n",
      "[CV 4/5; 3/20] END var_smoothing=4.477277390071145e-08;, score=(train=0.195, test=0.194) total time=   4.8s\n",
      "[CV 4/5; 6/20] START var_smoothing=2.825926052826416e-08........................\n",
      "[CV 4/5; 6/20] END var_smoothing=2.825926052826416e-08;, score=(train=0.195, test=0.194) total time=   4.8s\n",
      "[CV 2/5; 8/20] START var_smoothing=8.118721775350192e-08........................\n",
      "[CV 2/5; 8/20] END var_smoothing=8.118721775350192e-08;, score=(train=0.221, test=0.213) total time=   3.0s\n",
      "[CV 5/5; 9/20] START var_smoothing=9.681393536837051e-08........................\n",
      "[CV 5/5; 9/20] END var_smoothing=9.681393536837051e-08;, score=(train=0.201, test=0.172) total time=   3.2s\n",
      "[CV 5/5; 11/20] START var_smoothing=3.6781726995786667e-08......................\n",
      "[CV 5/5; 11/20] END var_smoothing=3.6781726995786667e-08;, score=(train=0.201, test=0.172) total time=   4.8s\n",
      "[CV 4/5; 14/20] START var_smoothing=7.227020269829001e-08.......................\n",
      "[CV 4/5; 14/20] END var_smoothing=7.227020269829001e-08;, score=(train=0.195, test=0.194) total time=   4.5s\n",
      "[CV 4/5; 16/20] START var_smoothing=5.711961860656249e-08.......................\n",
      "[CV 4/5; 16/20] END var_smoothing=5.711961860656249e-08;, score=(train=0.195, test=0.194) total time=   3.2s\n",
      "[CV 4/5; 18/20] START var_smoothing=2.376844959068224e-09.......................\n",
      "[CV 4/5; 18/20] END var_smoothing=2.376844959068224e-09;, score=(train=0.195, test=0.194) total time=   4.7s\n",
      "[CV 4/5; 20/20] START var_smoothing=8.926411906361165e-08.......................\n",
      "[CV 4/5; 20/20] END var_smoothing=8.926411906361165e-08;, score=(train=0.195, test=0.194) total time=   3.4s\n",
      "[CV 4/5; 2/20] START var_smoothing=0.006153962784334937.........................\n",
      "[CV 4/5; 2/20] END var_smoothing=0.006153962784334937;, score=(train=0.195, test=0.194) total time=   5.1s\n",
      "[CV 4/5; 4/20] START var_smoothing=0.003688241060019745.........................\n",
      "[CV 4/5; 4/20] END var_smoothing=0.003688241060019745;, score=(train=0.195, test=0.190) total time=   5.0s\n",
      "[CV 3/5; 6/20] START var_smoothing=0.0065137824322657745........................\n",
      "[CV 3/5; 6/20] END var_smoothing=0.0065137824322657745;, score=(train=0.195, test=0.171) total time=   3.1s\n",
      "[CV 5/5; 8/20] START var_smoothing=0.007887302429407455.........................\n",
      "[CV 5/5; 8/20] END var_smoothing=0.007887302429407455;, score=(train=0.198, test=0.171) total time=   3.1s\n",
      "[CV 4/5; 10/20] START var_smoothing=0.005680987526260692........................\n",
      "[CV 4/5; 10/20] END var_smoothing=0.005680987526260692;, score=(train=0.195, test=0.194) total time=   3.5s\n",
      "[CV 5/5; 11/20] START var_smoothing=0.008691274895612259........................\n",
      "[CV 5/5; 11/20] END var_smoothing=0.008691274895612259;, score=(train=0.198, test=0.171) total time=   3.4s\n",
      "[CV 5/5; 13/20] START var_smoothing=0.00802147742080159.........................\n",
      "[CV 5/5; 13/20] END var_smoothing=0.00802147742080159;, score=(train=0.198, test=0.171) total time=   3.2s\n",
      "[CV 2/5; 15/20] START var_smoothing=0.007042610711183355........................\n",
      "[CV 2/5; 15/20] END var_smoothing=0.007042610711183355;, score=(train=0.209, test=0.217) total time=   3.5s\n",
      "[CV 5/5; 16/20] START var_smoothing=0.0070458140818957255.......................\n",
      "[CV 5/5; 16/20] END var_smoothing=0.0070458140818957255;, score=(train=0.198, test=0.171) total time=   3.2s\n",
      "[CV 3/5; 18/20] START var_smoothing=0.00924867728615565.........................\n",
      "[CV 3/5; 18/20] END var_smoothing=0.00924867728615565;, score=(train=0.194, test=0.174) total time=   3.0s\n",
      "[CV 3/5; 20/20] START var_smoothing=0.009093160589724725........................\n",
      "[CV 3/5; 20/20] END var_smoothing=0.009093160589724725;, score=(train=0.195, test=0.174) total time=   3.4s\n",
      "[CV 2/5; 2/20] START var_smoothing=0.018528708381381365.........................\n",
      "[CV 2/5; 2/20] END var_smoothing=0.018528708381381365;, score=(train=0.200, test=0.214) total time=   4.8s\n",
      "[CV 5/5; 4/20] START var_smoothing=0.06758809435823303..........................\n",
      "[CV 5/5; 4/20] END var_smoothing=0.06758809435823303;, score=(train=0.195, test=0.168) total time=   4.9s\n",
      "[CV 2/5; 7/20] START var_smoothing=0.004432406269480349.........................\n",
      "[CV 2/5; 7/20] END var_smoothing=0.004432406269480349;, score=(train=0.212, test=0.215) total time=   3.8s\n",
      "[CV 1/5; 9/20] START var_smoothing=0.0330668445620915...........................\n",
      "[CV 1/5; 9/20] END var_smoothing=0.0330668445620915;, score=(train=0.195, test=0.195) total time=   3.0s\n",
      "[CV 1/5; 11/20] START var_smoothing=0.011289431757440382........................\n",
      "[CV 1/5; 11/20] END var_smoothing=0.011289431757440382;, score=(train=0.197, test=0.191) total time=   4.2s\n",
      "[CV 5/5; 12/20] START var_smoothing=0.06081937062184846.........................\n",
      "[CV 5/5; 12/20] END var_smoothing=0.06081937062184846;, score=(train=0.195, test=0.168) total time=   4.9s\n",
      "[CV 4/5; 15/20] START var_smoothing=0.06184417088042971.........................\n",
      "[CV 4/5; 15/20] END var_smoothing=0.06184417088042971;, score=(train=0.190, test=0.186) total time=   4.9s\n",
      "[CV 3/5; 18/20] START var_smoothing=0.09930814661883615.........................\n",
      "[CV 3/5; 18/20] END var_smoothing=0.09930814661883615;, score=(train=0.189, test=0.181) total time=   4.9s\n",
      "[CV 5/5; 20/20] START var_smoothing=0.07929641352916399.........................\n",
      "[CV 5/5; 20/20] END var_smoothing=0.07929641352916399;, score=(train=0.195, test=0.168) total time=   3.2s\n"
     ]
    }
   ],
   "source": [
    "from sklearn.metrics import f1_score\n",
    "train_roc = f1_score(y_train, y_pred_train)\n",
    "print(f\"Train f1 score: {train_roc:.3f}\")\n",
    "\n",
    "# Evaluate the test accuracy\n",
    "test_roc = f1_score(y_test, y_pred_test)\n",
    "print(f\"Test f1 score: {test_roc:.3f}\")"
   ]
  },
  {
   "cell_type": "code",
   "execution_count": null,
   "id": "038ecbec-6696-4125-95d5-2492c8b47cbb",
   "metadata": {},
   "outputs": [],
   "source": [
    "\n",
    "cm = confusion_matrix(y_test, y_pred_test)\n",
    "\n",
    "disp = ConfusionMatrixDisplay(\n",
    "    confusion_matrix=cm,\n",
    "    display_labels=tuned_clf.classes_\n",
    ")\n",
    "disp.plot()\n",
    "plt.show()"
   ]
  }
 ],
 "metadata": {
  "kernelspec": {
   "display_name": "TensorFlow 2 (Local)",
   "language": "python",
   "name": "local-tf2"
  },
  "language_info": {
   "codemirror_mode": {
    "name": "ipython",
    "version": 3
   },
   "file_extension": ".py",
   "mimetype": "text/x-python",
   "name": "python",
   "nbconvert_exporter": "python",
   "pygments_lexer": "ipython3",
   "version": "3.7.12"
  }
 },
 "nbformat": 4,
 "nbformat_minor": 5
}
