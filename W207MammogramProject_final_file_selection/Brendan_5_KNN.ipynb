{
 "cells": [
  {
   "cell_type": "markdown",
   "id": "4cf4263e",
   "metadata": {},
   "source": [
    "# Image Classification with XGBoost"
   ]
  },
  {
   "cell_type": "code",
   "execution_count": null,
   "id": "a758cca2",
   "metadata": {},
   "outputs": [],
   "source": [
    "import pandas as pd\n",
    "# import pydicom\n",
    "import numpy as np\n",
    "import matplotlib.pyplot as plt\n",
    "import pickle\n",
    "import random\n",
    "# import tensorflow as tf\n",
    "import os\n",
    "import csv\n",
    "import xgboost as xgb\n",
    "\n",
    "from tqdm import tqdm\n",
    "from glob import glob\n",
    "from matplotlib import pyplot as plt\n",
    "from sklearn.metrics import confusion_matrix, ConfusionMatrixDisplay\n",
    "from sklearn.metrics import classification_report\n",
    "from sklearn.model_selection import GridSearchCV, RandomizedSearchCV\n",
    "from sklearn.model_selection import train_test_split\n",
    "from sklearn.utils.class_weight import compute_class_weight\n",
    "from skimage import io, transform\n",
    "from sklearn.model_selection import RepeatedKFold\n",
    "from sklearn.neighbors import KNeighborsClassifier\n",
    "\n",
    "\n",
    "# from keras.wrappers.scikit_learn import KerasClassifier\n",
    "# from keras.metrics import AUC\n",
    "# from keras.models import Sequential\n",
    "# from keras.layers import Dense, Dropout, Flatten, BatchNormalization, Activation\n",
    "# from keras.layers.convolutional import Conv2D, MaxPooling2D\n",
    "# from keras.constraints import maxnorm\n",
    "# from keras.utils import np_utils\n",
    "# from keras.preprocessing.image import ImageDataGenerator"
   ]
  },
  {
   "cell_type": "markdown",
   "id": "0a6fa87e",
   "metadata": {},
   "source": [
    "### Load Dataset"
   ]
  },
  {
   "cell_type": "code",
   "execution_count": null,
   "id": "d71bd8a3",
   "metadata": {},
   "outputs": [
    {
     "name": "stdout",
     "output_type": "stream",
     "text": [
      "CPU times: user 10.7 s, sys: 1.19 s, total: 11.9 s\n",
      "Wall time: 12.5 s\n"
     ]
    }
   ],
   "source": [
    "%%time\n",
    "\n",
    "# Load the compressed array from disk\n",
    "images_mini = np.load('CNN_Xs_downsample_forvgg16.npz')['data']"
   ]
  },
  {
   "cell_type": "code",
   "execution_count": null,
   "id": "c424ca47",
   "metadata": {},
   "outputs": [],
   "source": [
    "# load the labels from disk\n",
    "with open('CNN_labels_downsampled_forvgg16.csv', 'r') as file:\n",
    "    reader = csv.reader(file)\n",
    "    labels_mini = list(reader)[0]\n",
    "    labels_mini = [int(x) for x in labels_mini]\n",
    "    y_mini= np.array(labels_mini)"
   ]
  },
  {
   "cell_type": "code",
   "execution_count": null,
   "id": "9db14127",
   "metadata": {},
   "outputs": [
    {
     "name": "stdout",
     "output_type": "stream",
     "text": [
      "images_mini.shape: (5600, 224, 224, 3)\n",
      "\n",
      "number of labels: 5600\n",
      "\n",
      "number of positive cancer cases: 600\n"
     ]
    }
   ],
   "source": [
    "print('images_mini.shape:', images_mini.shape)\n",
    "print('\\nnumber of labels:', len(labels_mini))\n",
    "print('\\nnumber of positive cancer cases:', sum(labels_mini))"
   ]
  },
  {
   "cell_type": "markdown",
   "id": "3379a166",
   "metadata": {},
   "source": [
    "### Normalize"
   ]
  },
  {
   "cell_type": "code",
   "execution_count": null,
   "id": "ca78e773",
   "metadata": {},
   "outputs": [
    {
     "name": "stdout",
     "output_type": "stream",
     "text": [
      "Original max pixel value: 255.0\n",
      "Confirm min pixel value is 0: 0.0\n"
     ]
    }
   ],
   "source": [
    "print('Original max pixel value:', images_mini.max())\n",
    "print('Confirm min pixel value is 0:', images_mini.min())"
   ]
  },
  {
   "cell_type": "code",
   "execution_count": null,
   "id": "b6624a28",
   "metadata": {},
   "outputs": [],
   "source": [
    "#Normalize image pixel values\n",
    "images_mini_norm = images_mini / images_mini.max() "
   ]
  },
  {
   "cell_type": "code",
   "execution_count": null,
   "id": "38dcd7c1",
   "metadata": {},
   "outputs": [
    {
     "name": "stdout",
     "output_type": "stream",
     "text": [
      "New max pixel value: 1.0\n",
      "Confirm min pixel value is 0: 0.0\n"
     ]
    }
   ],
   "source": [
    "print('New max pixel value:', images_mini_norm.max())\n",
    "print('Confirm min pixel value is 0:', images_mini_norm.min())"
   ]
  },
  {
   "cell_type": "markdown",
   "id": "a27a6083",
   "metadata": {},
   "source": [
    "### Reshape"
   ]
  },
  {
   "cell_type": "code",
   "execution_count": null,
   "id": "c7db4192",
   "metadata": {},
   "outputs": [
    {
     "data": {
      "text/plain": [
       "(5600, 224, 224, 3)"
      ]
     },
     "execution_count": 8,
     "metadata": {},
     "output_type": "execute_result"
    }
   ],
   "source": [
    "images_mini_norm.shape"
   ]
  },
  {
   "cell_type": "code",
   "execution_count": null,
   "id": "ae7bd8d5",
   "metadata": {},
   "outputs": [
    {
     "data": {
      "text/plain": [
       "(5600, 224, 224, 1)"
      ]
     },
     "execution_count": 9,
     "metadata": {},
     "output_type": "execute_result"
    }
   ],
   "source": [
    "arr_mean = np.mean(images_mini_norm, axis=-1)\n",
    "arr_mean.shape\n",
    "resized_images_mini = np.expand_dims(arr_mean, axis=-1)\n",
    "resized_images_mini.shape"
   ]
  },
  {
   "cell_type": "code",
   "execution_count": null,
   "id": "6e24e0e1",
   "metadata": {},
   "outputs": [
    {
     "name": "stdout",
     "output_type": "stream",
     "text": [
      "Original max pixel value: 1.0\n",
      "Confirm min pixel value is 0: 0.0\n"
     ]
    }
   ],
   "source": [
    "print('Original max pixel value:', resized_images_mini.max())\n",
    "print('Confirm min pixel value is 0:', resized_images_mini.min())"
   ]
  },
  {
   "cell_type": "markdown",
   "id": "455e38fb",
   "metadata": {},
   "source": [
    "## Settings"
   ]
  },
  {
   "cell_type": "code",
   "execution_count": null,
   "id": "bb010db2",
   "metadata": {},
   "outputs": [],
   "source": [
    "random_state = 1234"
   ]
  },
  {
   "cell_type": "code",
   "execution_count": null,
   "id": "593a90ae",
   "metadata": {},
   "outputs": [],
   "source": [
    "random.seed(random_state)\n",
    "# tf.random.set_seed(random_state)\n",
    "np.random.seed(random_state)"
   ]
  },
  {
   "cell_type": "markdown",
   "id": "e6cfa567",
   "metadata": {},
   "source": [
    "### Inputs"
   ]
  },
  {
   "cell_type": "code",
   "execution_count": null,
   "id": "00fff15e-aba5-4c28-9dd2-6c88a416899d",
   "metadata": {},
   "outputs": [],
   "source": [
    "X= resized_images_mini\n",
    "y = y_mini"
   ]
  },
  {
   "cell_type": "code",
   "execution_count": null,
   "id": "147da85a-085d-414a-9064-5b93f8b31417",
   "metadata": {},
   "outputs": [
    {
     "data": {
      "text/plain": [
       "(4480, 224, 224, 1)"
      ]
     },
     "execution_count": 25,
     "metadata": {},
     "output_type": "execute_result"
    }
   ],
   "source": [
    "X_train, X_test, y_train, y_test = train_test_split(X, y, test_size=0.2, random_state=random_state)\n",
    "X_train.shape"
   ]
  },
  {
   "cell_type": "code",
   "execution_count": null,
   "id": "d27845fd-fbf2-4be2-b80c-8775c49ac91a",
   "metadata": {},
   "outputs": [],
   "source": [
    "# reshape\n",
    "X_train = np.reshape(X_train, (len(X_train), -1))\n",
    "X_test = np.reshape(X_test, (len(X_test), -1))"
   ]
  },
  {
   "cell_type": "markdown",
   "id": "0baffd5e",
   "metadata": {},
   "source": [
    "## Build Model"
   ]
  },
  {
   "cell_type": "code",
   "execution_count": null,
   "id": "a195e634",
   "metadata": {},
   "outputs": [],
   "source": [
    "param_dist = {\n",
    "    'n_neighbors': [15, 20], #[3,5,7]\n",
    "    'weights': ['distance'],#['uniform', 'distance'],\n",
    "    'p': [1, 2],\n",
    "    'algorithm': ['auto']#, 'ball_tree', 'kd_tree', 'brute']\n",
    "}\n",
    "\n",
    "\n"
   ]
  },
  {
   "cell_type": "code",
   "execution_count": null,
   "id": "dd244606",
   "metadata": {},
   "outputs": [],
   "source": [
    "# create a XGBClassifier instance\n",
    "knn = KNeighborsClassifier(n_jobs=-1)\n"
   ]
  },
  {
   "cell_type": "code",
   "execution_count": null,
   "id": "35d12439",
   "metadata": {},
   "outputs": [
    {
     "data": {
      "text/plain": [
       "(4480, 50176)"
      ]
     },
     "execution_count": 26,
     "metadata": {},
     "output_type": "execute_result"
    }
   ],
   "source": [
    "X_train.shape"
   ]
  },
  {
   "cell_type": "code",
   "execution_count": null,
   "id": "26f29d12",
   "metadata": {},
   "outputs": [
    {
     "data": {
      "text/plain": [
       "(4480,)"
      ]
     },
     "execution_count": 27,
     "metadata": {},
     "output_type": "execute_result"
    }
   ],
   "source": [
    "y_train.shape"
   ]
  },
  {
   "cell_type": "code",
   "execution_count": null,
   "id": "8aaba18a",
   "metadata": {
    "scrolled": true,
    "tags": []
   },
   "outputs": [
    {
     "name": "stderr",
     "output_type": "stream",
     "text": [
      "/opt/conda/lib/python3.7/site-packages/sklearn/model_selection/_search.py:296: UserWarning: The total space of parameters 4 is smaller than n_iter=100. Running 4 iterations. For exhaustive searches, use GridSearchCV.\n",
      "  UserWarning,\n"
     ]
    },
    {
     "name": "stdout",
     "output_type": "stream",
     "text": [
      "Fitting 5 folds for each of 4 candidates, totalling 20 fits\n",
      "[CV 1/5; 1/4] START algorithm=auto, n_neighbors=15, p=1, weights=distance.......\n",
      "[CV 1/5; 1/4] END algorithm=auto, n_neighbors=15, p=1, weights=distance;, score=(train=1.000, test=0.000) total time=  25.3s\n",
      "[CV 2/5; 1/4] START algorithm=auto, n_neighbors=15, p=1, weights=distance.......\n",
      "[CV 2/5; 1/4] END algorithm=auto, n_neighbors=15, p=1, weights=distance;, score=(train=1.000, test=0.000) total time=  18.5s\n",
      "[CV 3/5; 1/4] START algorithm=auto, n_neighbors=15, p=1, weights=distance.......\n",
      "[CV 3/5; 1/4] END algorithm=auto, n_neighbors=15, p=1, weights=distance;, score=(train=1.000, test=0.000) total time=  19.7s\n",
      "[CV 4/5; 1/4] START algorithm=auto, n_neighbors=15, p=1, weights=distance.......\n",
      "[CV 4/5; 1/4] END algorithm=auto, n_neighbors=15, p=1, weights=distance;, score=(train=1.000, test=0.000) total time=  19.6s\n",
      "[CV 5/5; 1/4] START algorithm=auto, n_neighbors=15, p=1, weights=distance.......\n",
      "[CV 5/5; 1/4] END algorithm=auto, n_neighbors=15, p=1, weights=distance;, score=(train=1.000, test=0.000) total time=  19.7s\n",
      "[CV 1/5; 2/4] START algorithm=auto, n_neighbors=15, p=2, weights=distance.......\n",
      "[CV 1/5; 2/4] END algorithm=auto, n_neighbors=15, p=2, weights=distance;, score=(train=1.000, test=0.000) total time=  18.5s\n",
      "[CV 2/5; 2/4] START algorithm=auto, n_neighbors=15, p=2, weights=distance.......\n",
      "[CV 2/5; 2/4] END algorithm=auto, n_neighbors=15, p=2, weights=distance;, score=(train=1.000, test=0.000) total time=  20.0s\n",
      "[CV 3/5; 2/4] START algorithm=auto, n_neighbors=15, p=2, weights=distance.......\n",
      "[CV 5/5; 2/4] END algorithm=auto, n_neighbors=15, p=2, weights=distance;, score=(train=1.000, test=0.000) total time=  24.0s\n",
      "[CV 1/5; 3/4] START algorithm=auto, n_neighbors=20, p=1, weights=distance.......\n",
      "[CV 1/5; 3/4] END algorithm=auto, n_neighbors=20, p=1, weights=distance;, score=(train=1.000, test=0.000) total time=  21.0s\n",
      "[CV 2/5; 3/4] START algorithm=auto, n_neighbors=20, p=1, weights=distance.......\n",
      "[CV 2/5; 3/4] END algorithm=auto, n_neighbors=20, p=1, weights=distance;, score=(train=1.000, test=0.000) total time=  20.4s\n",
      "[CV 3/5; 3/4] START algorithm=auto, n_neighbors=20, p=1, weights=distance.......\n",
      "[CV 3/5; 3/4] END algorithm=auto, n_neighbors=20, p=1, weights=distance;, score=(train=1.000, test=0.000) total time=  18.5s\n",
      "[CV 4/5; 3/4] START algorithm=auto, n_neighbors=20, p=1, weights=distance.......\n",
      "[CV 4/5; 3/4] END algorithm=auto, n_neighbors=20, p=1, weights=distance;, score=(train=1.000, test=0.000) total time=  18.4s\n",
      "[CV 5/5; 3/4] START algorithm=auto, n_neighbors=20, p=1, weights=distance.......\n"
     ]
    }
   ],
   "source": [
    "grid_search = RandomizedSearchCV(\n",
    "    knn, \n",
    "    param_distributions=param_dist, \n",
    "    cv=5,\n",
    "    scoring='f1',\n",
    "    # n_jobs=10,\n",
    "    verbose=20,\n",
    "    n_iter=100,\n",
    "    return_train_score=True,\n",
    ")\n",
    "\n",
    "grid_search.fit(X_train, y_train)"
   ]
  },
  {
   "cell_type": "code",
   "execution_count": null,
   "id": "06041cce",
   "metadata": {},
   "outputs": [],
   "source": [
    "model_name = 'knn'\n",
    "\n",
    "# convert the results to a pandas DataFrame\n",
    "cv_results = pd.DataFrame(grid_search.cv_results_)\n",
    "\n",
    "# save the results to a CSV file\n",
    "cv_results.to_csv(f'results/{model_name}_crossvalidation_results.csv', index=False)"
   ]
  },
  {
   "cell_type": "code",
   "execution_count": null,
   "id": "e2c30e56",
   "metadata": {},
   "outputs": [],
   "source": [
    "# print the best parameters and score\n",
    "print(\"Best Parameters:\", grid_search.best_params_)\n",
    "print(\"Best Score:\", grid_search.best_score_)"
   ]
  },
  {
   "cell_type": "code",
   "execution_count": null,
   "id": "0be3c226",
   "metadata": {},
   "outputs": [
    {
     "ename": "NameError",
     "evalue": "name 'params' is not defined",
     "output_type": "error",
     "traceback": [
      "\u001b[0;31m---------------------------------------------------------------------------\u001b[0m",
      "\u001b[0;31mNameError\u001b[0m                                 Traceback (most recent call last)",
      "\u001b[0;32m/tmp/ipykernel_1/2327179953.py\u001b[0m in \u001b[0;36m<module>\u001b[0;34m\u001b[0m\n\u001b[0;32m----> 1\u001b[0;31m \u001b[0mlen\u001b[0m\u001b[0;34m(\u001b[0m\u001b[0mparams\u001b[0m\u001b[0;34m)\u001b[0m\u001b[0;34m\u001b[0m\u001b[0;34m\u001b[0m\u001b[0m\n\u001b[0m",
      "\u001b[0;31mNameError\u001b[0m: name 'params' is not defined"
     ]
    }
   ],
   "source": [
    "len(params)"
   ]
  },
  {
   "cell_type": "code",
   "execution_count": null,
   "id": "b50b5c8c",
   "metadata": {},
   "outputs": [
    {
     "data": {
      "image/png": "[encoded data removed]",
      "text/plain": [
       "<Figure size 1000x600 with 4 Axes>"
      ]
     },
     "metadata": {},
     "output_type": "display_data"
    }
   ],
   "source": [
    "params = grid_search.cv_results_['params']\n",
    "scores = grid_search.cv_results_['mean_test_score']\n",
    "\n",
    "# Plot the hyperparameters against their corresponding scores\n",
    "plt.figure(figsize=(10, 6))\n",
    "for i, param in enumerate(param_dist.keys()):\n",
    "    plt.subplot(2, 2, i+1)\n",
    "    plt.scatter([p[param] for p in params], scores, alpha=0.5)\n",
    "    plt.xlabel(param)\n",
    "    plt.ylabel('Mean test score')\n",
    "plt.tight_layout()\n",
    "plt.show()"
   ]
  },
  {
   "cell_type": "markdown",
   "id": "8fdc852f",
   "metadata": {},
   "source": [
    "### Scoring"
   ]
  },
  {
   "cell_type": "code",
   "execution_count": null,
   "id": "085171d7",
   "metadata": {},
   "outputs": [],
   "source": [
    "# grid_search.best_params_\n",
    "hyperparam = {'weights': 'distance', 'p': 2, 'n_neighbors': 7, 'algorithm': 'auto'}"
   ]
  },
  {
   "cell_type": "code",
   "execution_count": null,
   "id": "952b9dd0",
   "metadata": {},
   "outputs": [],
   "source": [
    "tuned_clf = KNeighborsClassifier(\n",
    "    # random_state=random_state,\n",
    "    **hyperparam\n",
    ")"
   ]
  },
  {
   "cell_type": "code",
   "execution_count": null,
   "id": "35951ec5",
   "metadata": {},
   "outputs": [],
   "source": []
  },
  {
   "cell_type": "code",
   "execution_count": null,
   "id": "39ec5c92",
   "metadata": {},
   "outputs": [
    {
     "data": {
      "text/plain": [
       "KNeighborsClassifier(n_neighbors=7, weights='distance')"
      ]
     },
     "execution_count": 17,
     "metadata": {},
     "output_type": "execute_result"
    }
   ],
   "source": [
    "tuned_clf.fit(X_train, y_train)"
   ]
  },
  {
   "cell_type": "code",
   "execution_count": null,
   "id": "ff4dea45",
   "metadata": {},
   "outputs": [
    {
     "name": "stdout",
     "output_type": "stream",
     "text": [
      "Train ROC_AUC score: 1.000\n",
      "Test ROC_AUC score: 0.894\n"
     ]
    }
   ],
   "source": [
    "train_roc = tuned_clf.score(X_train, y_train)\n",
    "print(f\"Train ROC_AUC score: {train_roc:.3f}\")\n",
    "\n",
    "# Evaluate the test accuracy\n",
    "test_roc = tuned_clf.score(X_test, y_test)\n",
    "print(f\"Test ROC_AUC score: {test_roc:.3f}\")"
   ]
  },
  {
   "cell_type": "code",
   "execution_count": null,
   "id": "020b09e0",
   "metadata": {},
   "outputs": [
    {
     "data": {
      "image/png": "[encoded data removed]",
      "text/plain": [
       "<Figure size 640x480 with 2 Axes>"
      ]
     },
     "metadata": {},
     "output_type": "display_data"
    }
   ],
   "source": [
    "y_pred_train = tuned_clf.predict(X_train)\n",
    "y_pred_test = tuned_clf.predict(X_test)\n",
    "cm = confusion_matrix(y_test, y_pred_test)\n",
    "\n",
    "disp = ConfusionMatrixDisplay(\n",
    "    confusion_matrix=cm,\n",
    "    display_labels=tuned_clf.classes_\n",
    ")\n",
    "disp.plot()\n",
    "plt.show()"
   ]
  },
  {
   "cell_type": "code",
   "execution_count": null,
   "id": "c5f458e3",
   "metadata": {},
   "outputs": [
    {
     "name": "stdout",
     "output_type": "stream",
     "text": [
      "Train f1 score: 1.000\n",
      "Test f1 score: 0.000\n"
     ]
    }
   ],
   "source": [
    "from sklearn.metrics import f1_score\n",
    "train_roc = f1_score(y_train, y_pred_train)\n",
    "print(f\"Train f1 score: {train_roc:.3f}\")\n",
    "\n",
    "# Evaluate the test accuracy\n",
    "test_roc = f1_score(y_test, y_pred_test)\n",
    "print(f\"Test f1 score: {test_roc:.3f}\")"
   ]
  },
  {
   "cell_type": "code",
   "execution_count": null,
   "id": "2e200ce8",
   "metadata": {},
   "outputs": [
    {
     "name": "stdout",
     "output_type": "stream",
     "text": [
      "Train ROC_AUC score: 1.000\n",
      "Test ROC_AUC score: 0.500\n"
     ]
    }
   ],
   "source": [
    "from sklearn.metrics import roc_auc_score\n",
    "train_roc = roc_auc_score(y_train, y_pred_train)\n",
    "print(f\"Train ROC_AUC score: {train_roc:.3f}\")\n",
    "\n",
    "# Evaluate the test accuracy\n",
    "test_roc = roc_auc_score(y_test, y_pred_test)\n",
    "print(f\"Test ROC_AUC score: {test_roc:.3f}\")"
   ]
  },
  {
   "cell_type": "code",
   "execution_count": null,
   "id": "a513490a",
   "metadata": {},
   "outputs": [
    {
     "name": "stdout",
     "output_type": "stream",
     "text": [
      "Train precision score: 1.000\n",
      "Test precision score: 0.000\n",
      "Train recall score: 1.000\n",
      "Test recall score: 0.000\n"
     ]
    },
    {
     "name": "stderr",
     "output_type": "stream",
     "text": [
      "/opt/conda/lib/python3.7/site-packages/sklearn/metrics/_classification.py:1318: UndefinedMetricWarning: Precision is ill-defined and being set to 0.0 due to no predicted samples. Use `zero_division` parameter to control this behavior.\n",
      "  _warn_prf(average, modifier, msg_start, len(result))\n"
     ]
    }
   ],
   "source": [
    "from sklearn.metrics import precision_score, recall_score\n",
    "\n",
    "train_roc = precision_score(y_train, y_pred_train)\n",
    "print(f\"Train precision score: {train_roc:.3f}\")\n",
    "\n",
    "# Evaluate the test accuracy\n",
    "test_roc = precision_score(y_test, y_pred_test)\n",
    "print(f\"Test precision score: {test_roc:.3f}\")\n",
    "\n",
    "\n",
    "train_roc = recall_score(y_train, y_pred_train)\n",
    "print(f\"Train recall score: {train_roc:.3f}\")\n",
    "\n",
    "# Evaluate the test accuracy\n",
    "test_roc = recall_score(y_test, y_pred_test)\n",
    "print(f\"Test recall score: {test_roc:.3f}\")"
   ]
  },
  {
   "cell_type": "code",
   "execution_count": null,
   "id": "1e783529-2802-4b88-a63e-1d4305a2ac68",
   "metadata": {},
   "outputs": [],
   "source": [
    "train_roc = recall_score(y_train, y_pred_train)\n",
    "print(f\"Train recall score: {train_roc:.3f}\")\n",
    "\n",
    "# Evaluate the test accuracy\n",
    "test_roc = recall_score(y_test, y_pred_test)\n",
    "print(f\"Test recall score: {test_roc:.3f}\")"
   ]
  },
  {
   "cell_type": "code",
   "execution_count": null,
   "id": "7710ee13-6ea1-4621-b733-97d453dabfb1",
   "metadata": {},
   "outputs": [],
   "source": [
    "\n",
    "disp = ConfusionMatrixDisplay(\n",
    "    confusion_matrix=cm,\n",
    "    display_labels=tuned_clf.classes_\n",
    ")\n",
    "disp.plot()\n",
    "plt.show()"
   ]
  },
  {
   "cell_type": "code",
   "execution_count": null,
   "id": "d879d64a",
   "metadata": {},
   "outputs": [
    {
     "name": "stdout",
     "output_type": "stream",
     "text": [
      "              precision    recall  f1-score   support\n",
      "\n",
      "           0       1.00      1.00      1.00      3999\n",
      "           1       1.00      1.00      1.00       481\n",
      "\n",
      "    accuracy                           1.00      4480\n",
      "   macro avg       1.00      1.00      1.00      4480\n",
      "weighted avg       1.00      1.00      1.00      4480\n",
      "\n"
     ]
    }
   ],
   "source": [
    "print(classification_report(y_train, y_pred_train))"
   ]
  },
  {
   "cell_type": "code",
   "execution_count": null,
   "id": "b7d6d41c",
   "metadata": {},
   "outputs": [
    {
     "name": "stdout",
     "output_type": "stream",
     "text": [
      "              precision    recall  f1-score   support\n",
      "\n",
      "           0       0.89      1.00      0.94      1001\n",
      "           1       0.00      0.00      0.00       119\n",
      "\n",
      "    accuracy                           0.89      1120\n",
      "   macro avg       0.45      0.50      0.47      1120\n",
      "weighted avg       0.80      0.89      0.84      1120\n",
      "\n"
     ]
    },
    {
     "name": "stderr",
     "output_type": "stream",
     "text": [
      "/opt/conda/lib/python3.7/site-packages/sklearn/metrics/_classification.py:1318: UndefinedMetricWarning: Precision and F-score are ill-defined and being set to 0.0 in labels with no predicted samples. Use `zero_division` parameter to control this behavior.\n",
      "  _warn_prf(average, modifier, msg_start, len(result))\n",
      "/opt/conda/lib/python3.7/site-packages/sklearn/metrics/_classification.py:1318: UndefinedMetricWarning: Precision and F-score are ill-defined and being set to 0.0 in labels with no predicted samples. Use `zero_division` parameter to control this behavior.\n",
      "  _warn_prf(average, modifier, msg_start, len(result))\n",
      "/opt/conda/lib/python3.7/site-packages/sklearn/metrics/_classification.py:1318: UndefinedMetricWarning: Precision and F-score are ill-defined and being set to 0.0 in labels with no predicted samples. Use `zero_division` parameter to control this behavior.\n",
      "  _warn_prf(average, modifier, msg_start, len(result))\n"
     ]
    }
   ],
   "source": [
    "print(classification_report(y_test, y_pred_test))"
   ]
  }
 ],
 "metadata": {
  "kernelspec": {
   "display_name": "",
   "name": ""
  },
  "language_info": {
   "name": ""
  }
 },
 "nbformat": 4,
 "nbformat_minor": 5
}
