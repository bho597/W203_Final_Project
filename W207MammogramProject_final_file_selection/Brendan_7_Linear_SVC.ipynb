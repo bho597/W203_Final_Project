{
 "cells": [
  {
   "cell_type": "markdown",
   "id": "7acf91db",
   "metadata": {},
   "source": [
    "# Image Classification with SVMs"
   ]
  },
  {
   "cell_type": "code",
   "execution_count": 1,
   "id": "8123afdd",
   "metadata": {},
   "outputs": [
    {
     "name": "stderr",
     "output_type": "stream",
     "text": [
      "2023-04-19 04:48:34.320505: I tensorflow/core/platform/cpu_feature_guard.cc:193] This TensorFlow binary is optimized with oneAPI Deep Neural Network Library (oneDNN) to use the following CPU instructions in performance-critical operations:  AVX2 FMA\n",
      "To enable them in other operations, rebuild TensorFlow with the appropriate compiler flags.\n",
      "2023-04-19 04:48:34.927555: E tensorflow/stream_executor/cuda/cuda_blas.cc:2981] Unable to register cuBLAS factory: Attempting to register factory for plugin cuBLAS when one has already been registered\n",
      "2023-04-19 04:48:44.028454: W tensorflow/stream_executor/platform/default/dso_loader.cc:64] Could not load dynamic library 'libnvinfer.so.7'; dlerror: libnvinfer.so.7: cannot open shared object file: No such file or directory; LD_LIBRARY_PATH: /usr/local/cuda/lib64:/usr/local/cuda/lib:/usr/local/lib/x86_64-linux-gnu:/usr/local/nvidia/lib:/usr/local/nvidia/lib64:/usr/local/nvidia/lib:/usr/local/nvidia/lib64\n",
      "2023-04-19 04:48:44.028910: W tensorflow/stream_executor/platform/default/dso_loader.cc:64] Could not load dynamic library 'libnvinfer_plugin.so.7'; dlerror: libnvinfer_plugin.so.7: cannot open shared object file: No such file or directory; LD_LIBRARY_PATH: /usr/local/cuda/lib64:/usr/local/cuda/lib:/usr/local/lib/x86_64-linux-gnu:/usr/local/nvidia/lib:/usr/local/nvidia/lib64:/usr/local/nvidia/lib:/usr/local/nvidia/lib64\n",
      "2023-04-19 04:48:44.028956: W tensorflow/compiler/tf2tensorrt/utils/py_utils.cc:38] TF-TRT Warning: Cannot dlopen some TensorRT libraries. If you would like to use Nvidia GPU with TensorRT, please make sure the missing libraries mentioned above are installed properly.\n"
     ]
    }
   ],
   "source": [
    "import pandas as pd\n",
    "import numpy as np\n",
    "import matplotlib.pyplot as plt\n",
    "import random\n",
    "import tensorflow as tf\n",
    "import os\n",
    "import csv\n",
    "\n",
    "from sklearn.metrics import confusion_matrix, ConfusionMatrixDisplay\n",
    "from sklearn.metrics import classification_report\n",
    "from sklearn.model_selection importRandomizedSearchCV\n",
    "from sklearn.model_selection import train_test_split\n",
    "from sklearn.model_selection import StratifiedKFold\n",
    "from sklearn.metrics import roc_auc_score, precision_score, recall_score\n",
    "from sklearn.svm import LinearSVC\n"
   ]
  },
  {
   "cell_type": "code",
   "execution_count": 2,
   "id": "47873e06-1442-41b5-82b6-3686bece2485",
   "metadata": {},
   "outputs": [
    {
     "data": {
      "text/plain": [
       "16"
      ]
     },
     "execution_count": 2,
     "metadata": {},
     "output_type": "execute_result"
    }
   ],
   "source": [
    "os.cpu_count()"
   ]
  },
  {
   "cell_type": "markdown",
   "id": "ae0bee94-40c8-4de3-81ff-fe5f90d73032",
   "metadata": {},
   "source": [
    "### Load Dataset"
   ]
  },
  {
   "cell_type": "code",
   "execution_count": 3,
   "id": "3ff78436-5644-4338-b6a9-4f8bb6dd922d",
   "metadata": {},
   "outputs": [
    {
     "name": "stdout",
     "output_type": "stream",
     "text": [
      "CPU times: user 16 s, sys: 1.35 s, total: 17.4 s\n",
      "Wall time: 17.4 s\n"
     ]
    }
   ],
   "source": [
    "%%time\n",
    "\n",
    "# Load the compressed array from disk\n",
    "images_mini = np.load('CNN_Xs_downsample_forvgg16.npz')['data']"
   ]
  },
  {
   "cell_type": "code",
   "execution_count": 4,
   "id": "e5b23f05-34bd-40f6-b7cb-83c5a78b2436",
   "metadata": {},
   "outputs": [],
   "source": [
    "# load the labels from disk\n",
    "with open('CNN_labels_downsampled_forvgg16.csv', 'r') as file:\n",
    "    reader = csv.reader(file)\n",
    "    labels_mini = list(reader)[0]\n",
    "    labels_mini = [int(x) for x in labels_mini]\n",
    "    y_mini= np.array(labels_mini)"
   ]
  },
  {
   "cell_type": "code",
   "execution_count": 5,
   "id": "7f601ebe-8450-4bf6-a40c-5d0cb72361e5",
   "metadata": {},
   "outputs": [
    {
     "name": "stdout",
     "output_type": "stream",
     "text": [
      "images_mini.shape: (5600, 224, 224, 3)\n",
      "\n",
      "number of labels: 5600\n",
      "\n",
      "number of positive cancer cases: 600\n"
     ]
    }
   ],
   "source": [
    "print('images_mini.shape:', images_mini.shape)\n",
    "print('\\nnumber of labels:', len(labels_mini))\n",
    "print('\\nnumber of positive cancer cases:', sum(labels_mini))"
   ]
  },
  {
   "cell_type": "markdown",
   "id": "b1cd1355-80fb-4a20-8613-7ec398b3dc47",
   "metadata": {},
   "source": [
    "### Normalize"
   ]
  },
  {
   "cell_type": "code",
   "execution_count": 6,
   "id": "dcafb559-2117-4729-ab6f-1cecfbd8fa73",
   "metadata": {},
   "outputs": [
    {
     "name": "stdout",
     "output_type": "stream",
     "text": [
      "Original max pixel value: 255.0\n",
      "Confirm min pixel value is 0: 0.0\n"
     ]
    }
   ],
   "source": [
    "print('Original max pixel value:', images_mini.max())\n",
    "print('Confirm min pixel value is 0:', images_mini.min())"
   ]
  },
  {
   "cell_type": "code",
   "execution_count": 7,
   "id": "0aa25385-4e89-46bf-9857-9dfd6b044644",
   "metadata": {},
   "outputs": [],
   "source": [
    "#Normalize image pixel values\n",
    "images_mini_norm = images_mini / images_mini.max() "
   ]
  },
  {
   "cell_type": "code",
   "execution_count": 8,
   "id": "69656465-56d3-4d02-8cd6-32195ac621c0",
   "metadata": {},
   "outputs": [
    {
     "name": "stdout",
     "output_type": "stream",
     "text": [
      "New max pixel value: 1.0\n",
      "Confirm min pixel value is 0: 0.0\n"
     ]
    }
   ],
   "source": [
    "print('New max pixel value:', images_mini_norm.max())\n",
    "print('Confirm min pixel value is 0:', images_mini_norm.min())"
   ]
  },
  {
   "cell_type": "markdown",
   "id": "897e0c1e-d694-45fb-aa5d-6612ecdabb48",
   "metadata": {},
   "source": [
    "### Reshape"
   ]
  },
  {
   "cell_type": "code",
   "execution_count": 9,
   "id": "a9417b9d-badf-475e-9d78-ccb55e805193",
   "metadata": {},
   "outputs": [
    {
     "data": {
      "text/plain": [
       "(5600, 224, 224, 3)"
      ]
     },
     "execution_count": 9,
     "metadata": {},
     "output_type": "execute_result"
    }
   ],
   "source": [
    "images_mini_norm.shape"
   ]
  },
  {
   "cell_type": "code",
   "execution_count": 10,
   "id": "db2a8f21-8ddb-4048-9631-c7843660f81c",
   "metadata": {},
   "outputs": [
    {
     "data": {
      "text/plain": [
       "(5600, 224, 224, 1)"
      ]
     },
     "execution_count": 10,
     "metadata": {},
     "output_type": "execute_result"
    }
   ],
   "source": [
    "arr_mean = np.mean(images_mini_norm, axis=-1)\n",
    "arr_mean.shape\n",
    "resized_images_mini = np.expand_dims(arr_mean, axis=-1)\n",
    "resized_images_mini.shape"
   ]
  },
  {
   "cell_type": "code",
   "execution_count": 11,
   "id": "291c052c-4af3-49c6-afdc-77601cea2d05",
   "metadata": {},
   "outputs": [
    {
     "name": "stdout",
     "output_type": "stream",
     "text": [
      "Original max pixel value: 1.0\n",
      "Confirm min pixel value is 0: 0.0\n"
     ]
    }
   ],
   "source": [
    "print('Original max pixel value:', resized_images_mini.max())\n",
    "print('Confirm min pixel value is 0:', resized_images_mini.min())"
   ]
  },
  {
   "cell_type": "markdown",
   "id": "38385b7b-ebb5-4211-be81-dc981201444d",
   "metadata": {},
   "source": [
    "## Settings"
   ]
  },
  {
   "cell_type": "code",
   "execution_count": 12,
   "id": "b8c19234",
   "metadata": {},
   "outputs": [],
   "source": [
    "random_state = 1234"
   ]
  },
  {
   "cell_type": "code",
   "execution_count": 13,
   "id": "b0a50a6d",
   "metadata": {},
   "outputs": [],
   "source": [
    "random.seed(random_state)\n",
    "tf.random.set_seed(random_state)\n",
    "np.random.seed(random_state)"
   ]
  },
  {
   "cell_type": "markdown",
   "id": "51102930-a481-438e-a03b-fd25ec6195b4",
   "metadata": {},
   "source": [
    "### Inputs"
   ]
  },
  {
   "cell_type": "code",
   "execution_count": 14,
   "id": "d9b44533-2298-4333-8a4f-3b352850c75f",
   "metadata": {},
   "outputs": [],
   "source": [
    "X= resized_images_mini\n",
    "y = y_mini"
   ]
  },
  {
   "cell_type": "code",
   "execution_count": 15,
   "id": "3d132553-c9b1-4745-af93-bcb5cbfe10db",
   "metadata": {},
   "outputs": [],
   "source": [
    "X_train, X_test, y_train, y_test = train_test_split(X, y, test_size=0.2, random_state=random_state)\n",
    "\n",
    "# reshape\n",
    "X_train = np.reshape(X_train, (len(X_train), -1))\n",
    "X_test = np.reshape(X_test, (len(X_test), -1))"
   ]
  },
  {
   "cell_type": "markdown",
   "id": "afd0132e",
   "metadata": {},
   "source": [
    "## Build Model"
   ]
  },
  {
   "cell_type": "code",
   "execution_count": 16,
   "id": "2916877f-f8b1-40b5-bfd5-825633735df4",
   "metadata": {},
   "outputs": [],
   "source": [
    "param_dist = {\n",
    "    'C': np.logspace(-4, 4, 5),\n",
    "    'loss': ['hinge', 'squared_hinge'],\n",
    "    'penalty': ['l1', 'l2'],\n",
    "    'dual': [False],\n",
    "    'tol': np.logspace(-6, -1, 5)\n",
    "}"
   ]
  },
  {
   "cell_type": "code",
   "execution_count": 17,
   "id": "e5739901-7731-4190-8905-5e87dd49b774",
   "metadata": {},
   "outputs": [],
   "source": [
    "svm_classifier = LinearSVC()"
   ]
  },
  {
   "cell_type": "code",
   "execution_count": 18,
   "id": "0466fba4-e847-4b9b-b547-d1d2b618f99e",
   "metadata": {},
   "outputs": [
    {
     "data": {
      "text/plain": [
       "(4480, 50176)"
      ]
     },
     "execution_count": 18,
     "metadata": {},
     "output_type": "execute_result"
    }
   ],
   "source": [
    "X_train.shape"
   ]
  },
  {
   "cell_type": "code",
   "execution_count": 19,
   "id": "063f3153-8bd7-40d5-bac2-1b217bb23182",
   "metadata": {},
   "outputs": [
    {
     "data": {
      "text/plain": [
       "(4480,)"
      ]
     },
     "execution_count": 19,
     "metadata": {},
     "output_type": "execute_result"
    }
   ],
   "source": [
    "y_train.shape"
   ]
  },
  {
   "cell_type": "code",
   "execution_count": 20,
   "id": "8e0905e2",
   "metadata": {
    "scrolled": true,
    "tags": []
   },
   "outputs": [
    {
     "name": "stdout",
     "output_type": "stream",
     "text": [
      "Fitting 5 folds for each of 20 candidates, totalling 100 fits\n",
      "[CV 5/5; 2/20] START C=0.01, dual=False, loss=squared_hinge, penalty=l2, tol=1e-06\n",
      "[CV 5/5; 2/20] END C=0.01, dual=False, loss=squared_hinge, penalty=l2, tol=1e-06;, score=(train=0.951, test=0.033) total time= 2.4min\n",
      "[CV 5/5; 11/20] START C=0.01, dual=False, loss=squared_hinge, penalty=l1, tol=0.005623413251903491\n",
      "[CV 5/5; 11/20] END C=0.01, dual=False, loss=squared_hinge, penalty=l1, tol=0.005623413251903491;, score=(train=0.000, test=0.000) total time=   7.0s\n",
      "[CV 3/5; 12/20] START C=1.0, dual=False, loss=squared_hinge, penalty=l2, tol=0.1\n",
      "[CV 3/5; 12/20] END C=1.0, dual=False, loss=squared_hinge, penalty=l2, tol=0.1;, score=(train=0.971, test=0.059) total time= 1.2min\n",
      "[CV 3/5; 17/20] START C=10000.0, dual=False, loss=squared_hinge, penalty=l2, tol=1.778279410038923e-05\n",
      "[CV 3/5; 17/20] END C=10000.0, dual=False, loss=squared_hinge, penalty=l2, tol=1.778279410038923e-05;, score=(train=1.000, test=0.139) total time= 1.7min\n",
      "[CV 3/5; 19/20] START C=100.0, dual=False, loss=squared_hinge, penalty=l1, tol=1.778279410038923e-05\n",
      "[CV 3/5; 19/20] END C=100.0, dual=False, loss=squared_hinge, penalty=l1, tol=1.778279410038923e-05;, score=(train=1.000, test=0.130) total time= 8.6min\n",
      "[CV 3/5; 20/20] START C=10000.0, dual=False, loss=hinge, penalty=l1, tol=0.00031622776601683794\n",
      "[CV 3/5; 20/20] END C=10000.0, dual=False, loss=hinge, penalty=l1, tol=0.00031622776601683794;, score=(train=nan, test=nan) total time=   0.9s\n",
      "[CV 5/5; 20/20] START C=10000.0, dual=False, loss=hinge, penalty=l1, tol=0.00031622776601683794\n",
      "[CV 5/5; 20/20] END C=10000.0, dual=False, loss=hinge, penalty=l1, tol=0.00031622776601683794;, score=(train=nan, test=nan) total time=   0.9s\n",
      "[CV 2/5; 2/20] START C=0.01, dual=False, loss=squared_hinge, penalty=l2, tol=1e-06\n",
      "[CV 2/5; 2/20] END C=0.01, dual=False, loss=squared_hinge, penalty=l2, tol=1e-06;, score=(train=0.945, test=0.081) total time= 2.6min\n",
      "[CV 4/5; 12/20] START C=1.0, dual=False, loss=squared_hinge, penalty=l2, tol=0.1\n",
      "[CV 4/5; 12/20] END C=1.0, dual=False, loss=squared_hinge, penalty=l2, tol=0.1;, score=(train=1.000, test=0.126) total time= 1.4min\n",
      "[CV 5/5; 17/20] START C=10000.0, dual=False, loss=squared_hinge, penalty=l2, tol=1.778279410038923e-05\n",
      "[CV 5/5; 17/20] END C=10000.0, dual=False, loss=squared_hinge, penalty=l2, tol=1.778279410038923e-05;, score=(train=1.000, test=0.083) total time= 1.4min\n",
      "[CV 1/5; 19/20] START C=100.0, dual=False, loss=squared_hinge, penalty=l1, tol=1.778279410038923e-05\n",
      "[CV 1/5; 19/20] END C=100.0, dual=False, loss=squared_hinge, penalty=l1, tol=1.778279410038923e-05;, score=(train=1.000, test=0.126) total time= 8.6min\n",
      "[CV 1/5; 20/20] START C=10000.0, dual=False, loss=hinge, penalty=l1, tol=0.00031622776601683794\n",
      "[CV 1/5; 20/20] END C=10000.0, dual=False, loss=hinge, penalty=l1, tol=0.00031622776601683794;, score=(train=nan, test=nan) total time=   1.0s\n",
      "[CV 2/5; 20/20] START C=10000.0, dual=False, loss=hinge, penalty=l1, tol=0.00031622776601683794\n",
      "[CV 2/5; 20/20] END C=10000.0, dual=False, loss=hinge, penalty=l1, tol=0.00031622776601683794;, score=(train=nan, test=nan) total time=   1.0s\n",
      "[CV 4/5; 20/20] START C=10000.0, dual=False, loss=hinge, penalty=l1, tol=0.00031622776601683794\n",
      "[CV 4/5; 20/20] END C=10000.0, dual=False, loss=hinge, penalty=l1, tol=0.00031622776601683794;, score=(train=nan, test=nan) total time=   0.9s\n"
     ]
    },
    {
     "name": "stderr",
     "output_type": "stream",
     "text": [
      "/opt/conda/lib/python3.7/site-packages/sklearn/svm/_base.py:1208: ConvergenceWarning: Liblinear failed to converge, increase the number of iterations.\n",
      "  ConvergenceWarning,\n",
      "/opt/conda/lib/python3.7/site-packages/sklearn/svm/_base.py:1208: ConvergenceWarning: Liblinear failed to converge, increase the number of iterations.\n",
      "  ConvergenceWarning,\n"
     ]
    },
    {
     "name": "stdout",
     "output_type": "stream",
     "text": [
      "[CV 3/5; 2/20] START C=0.01, dual=False, loss=squared_hinge, penalty=l2, tol=1e-06\n",
      "[CV 3/5; 2/20] END C=0.01, dual=False, loss=squared_hinge, penalty=l2, tol=1e-06;, score=(train=0.957, test=0.050) total time= 2.6min\n",
      "[CV 5/5; 12/20] START C=1.0, dual=False, loss=squared_hinge, penalty=l2, tol=0.1\n",
      "[CV 5/5; 12/20] END C=1.0, dual=False, loss=squared_hinge, penalty=l2, tol=0.1;, score=(train=0.958, test=0.073) total time=  56.4s\n",
      "[CV 2/5; 17/20] START C=10000.0, dual=False, loss=squared_hinge, penalty=l2, tol=1.778279410038923e-05\n",
      "[CV 2/5; 17/20] END C=10000.0, dual=False, loss=squared_hinge, penalty=l2, tol=1.778279410038923e-05;, score=(train=1.000, test=0.136) total time= 1.9min\n",
      "[CV 4/5; 19/20] START C=100.0, dual=False, loss=squared_hinge, penalty=l1, tol=1.778279410038923e-05\n",
      "[CV 4/5; 19/20] END C=100.0, dual=False, loss=squared_hinge, penalty=l1, tol=1.778279410038923e-05;, score=(train=1.000, test=0.089) total time= 8.8min\n"
     ]
    },
    {
     "name": "stderr",
     "output_type": "stream",
     "text": [
      "/opt/conda/lib/python3.7/site-packages/sklearn/svm/_base.py:1208: ConvergenceWarning: Liblinear failed to converge, increase the number of iterations.\n",
      "  ConvergenceWarning,\n"
     ]
    },
    {
     "name": "stdout",
     "output_type": "stream",
     "text": [
      "[CV 1/5; 1/20] START C=1.0, dual=False, loss=hinge, penalty=l1, tol=1e-06.......\n",
      "[CV 1/5; 1/20] END C=1.0, dual=False, loss=hinge, penalty=l1, tol=1e-06;, score=(train=nan, test=nan) total time=   2.5s\n",
      "[CV 5/5; 3/20] START C=10000.0, dual=False, loss=hinge, penalty=l1, tol=1.778279410038923e-05\n",
      "[CV 5/5; 3/20] END C=10000.0, dual=False, loss=hinge, penalty=l1, tol=1.778279410038923e-05;, score=(train=nan, test=nan) total time=   1.3s\n",
      "[CV 5/5; 4/20] START C=100.0, dual=False, loss=hinge, penalty=l1, tol=1.778279410038923e-05\n",
      "[CV 5/5; 4/20] END C=100.0, dual=False, loss=hinge, penalty=l1, tol=1.778279410038923e-05;, score=(train=nan, test=nan) total time=   1.9s\n",
      "[CV 5/5; 5/20] START C=10000.0, dual=False, loss=squared_hinge, penalty=l2, tol=0.005623413251903491\n",
      "[CV 5/5; 5/20] END C=10000.0, dual=False, loss=squared_hinge, penalty=l2, tol=0.005623413251903491;, score=(train=1.000, test=0.083) total time= 1.5min\n",
      "[CV 1/5; 6/20] START C=100.0, dual=False, loss=hinge, penalty=l2, tol=0.005623413251903491\n",
      "[CV 1/5; 6/20] END C=100.0, dual=False, loss=hinge, penalty=l2, tol=0.005623413251903491;, score=(train=nan, test=nan) total time=   1.4s\n",
      "[CV 2/5; 6/20] START C=100.0, dual=False, loss=hinge, penalty=l2, tol=0.005623413251903491\n",
      "[CV 2/5; 6/20] END C=100.0, dual=False, loss=hinge, penalty=l2, tol=0.005623413251903491;, score=(train=nan, test=nan) total time=   1.3s\n",
      "[CV 4/5; 6/20] START C=100.0, dual=False, loss=hinge, penalty=l2, tol=0.005623413251903491\n",
      "[CV 4/5; 6/20] END C=100.0, dual=False, loss=hinge, penalty=l2, tol=0.005623413251903491;, score=(train=nan, test=nan) total time=   1.2s\n",
      "[CV 1/5; 7/20] START C=10000.0, dual=False, loss=hinge, penalty=l2, tol=1e-06...\n",
      "[CV 1/5; 7/20] END C=10000.0, dual=False, loss=hinge, penalty=l2, tol=1e-06;, score=(train=nan, test=nan) total time=   1.2s\n",
      "[CV 3/5; 7/20] START C=10000.0, dual=False, loss=hinge, penalty=l2, tol=1e-06...\n",
      "[CV 3/5; 7/20] END C=10000.0, dual=False, loss=hinge, penalty=l2, tol=1e-06;, score=(train=nan, test=nan) total time=   1.2s\n",
      "[CV 5/5; 7/20] START C=10000.0, dual=False, loss=hinge, penalty=l2, tol=1e-06...\n",
      "[CV 5/5; 7/20] END C=10000.0, dual=False, loss=hinge, penalty=l2, tol=1e-06;, score=(train=nan, test=nan) total time=   1.1s\n",
      "[CV 2/5; 8/20] START C=0.01, dual=False, loss=hinge, penalty=l2, tol=0.00031622776601683794\n",
      "[CV 2/5; 8/20] END C=0.01, dual=False, loss=hinge, penalty=l2, tol=0.00031622776601683794;, score=(train=nan, test=nan) total time=   1.0s\n",
      "[CV 4/5; 8/20] START C=0.01, dual=False, loss=hinge, penalty=l2, tol=0.00031622776601683794\n",
      "[CV 4/5; 8/20] END C=0.01, dual=False, loss=hinge, penalty=l2, tol=0.00031622776601683794;, score=(train=nan, test=nan) total time=   1.1s\n",
      "[CV 1/5; 9/20] START C=0.01, dual=False, loss=squared_hinge, penalty=l2, tol=0.1\n",
      "[CV 1/5; 9/20] END C=0.01, dual=False, loss=squared_hinge, penalty=l2, tol=0.1;, score=(train=0.000, test=0.000) total time=  20.3s\n",
      "[CV 1/5; 10/20] START C=1.0, dual=False, loss=hinge, penalty=l1, tol=0.00031622776601683794\n",
      "[CV 1/5; 10/20] END C=1.0, dual=False, loss=hinge, penalty=l1, tol=0.00031622776601683794;, score=(train=nan, test=nan) total time=   1.2s\n",
      "[CV 2/5; 10/20] START C=1.0, dual=False, loss=hinge, penalty=l1, tol=0.00031622776601683794\n",
      "[CV 2/5; 10/20] END C=1.0, dual=False, loss=hinge, penalty=l1, tol=0.00031622776601683794;, score=(train=nan, test=nan) total time=   1.2s\n",
      "[CV 4/5; 10/20] START C=1.0, dual=False, loss=hinge, penalty=l1, tol=0.00031622776601683794\n",
      "[CV 4/5; 10/20] END C=1.0, dual=False, loss=hinge, penalty=l1, tol=0.00031622776601683794;, score=(train=nan, test=nan) total time=   1.2s\n",
      "[CV 1/5; 11/20] START C=0.01, dual=False, loss=squared_hinge, penalty=l1, tol=0.005623413251903491\n",
      "[CV 1/5; 11/20] END C=0.01, dual=False, loss=squared_hinge, penalty=l1, tol=0.005623413251903491;, score=(train=0.000, test=0.000) total time=   9.2s\n",
      "[CV 4/5; 11/20] START C=0.01, dual=False, loss=squared_hinge, penalty=l1, tol=0.005623413251903491\n",
      "[CV 4/5; 11/20] END C=0.01, dual=False, loss=squared_hinge, penalty=l1, tol=0.005623413251903491;, score=(train=0.000, test=0.000) total time=   6.3s\n",
      "[CV 1/5; 12/20] START C=1.0, dual=False, loss=squared_hinge, penalty=l2, tol=0.1\n",
      "[CV 1/5; 12/20] END C=1.0, dual=False, loss=squared_hinge, penalty=l2, tol=0.1;, score=(train=0.961, test=0.047) total time= 1.0min\n",
      "[CV 1/5; 16/20] START C=10000.0, dual=False, loss=hinge, penalty=l2, tol=0.00031622776601683794\n",
      "[CV 1/5; 16/20] END C=10000.0, dual=False, loss=hinge, penalty=l2, tol=0.00031622776601683794;, score=(train=nan, test=nan) total time=   0.9s\n",
      "[CV 2/5; 16/20] START C=10000.0, dual=False, loss=hinge, penalty=l2, tol=0.00031622776601683794\n",
      "[CV 2/5; 16/20] END C=10000.0, dual=False, loss=hinge, penalty=l2, tol=0.00031622776601683794;, score=(train=nan, test=nan) total time=   0.9s\n",
      "[CV 3/5; 16/20] START C=10000.0, dual=False, loss=hinge, penalty=l2, tol=0.00031622776601683794\n",
      "[CV 3/5; 16/20] END C=10000.0, dual=False, loss=hinge, penalty=l2, tol=0.00031622776601683794;, score=(train=nan, test=nan) total time=   0.9s\n",
      "[CV 4/5; 16/20] START C=10000.0, dual=False, loss=hinge, penalty=l2, tol=0.00031622776601683794\n",
      "[CV 4/5; 16/20] END C=10000.0, dual=False, loss=hinge, penalty=l2, tol=0.00031622776601683794;, score=(train=nan, test=nan) total time=   0.9s\n",
      "[CV 5/5; 16/20] START C=10000.0, dual=False, loss=hinge, penalty=l2, tol=0.00031622776601683794\n",
      "[CV 5/5; 16/20] END C=10000.0, dual=False, loss=hinge, penalty=l2, tol=0.00031622776601683794;, score=(train=nan, test=nan) total time=   0.9s\n",
      "[CV 1/5; 17/20] START C=10000.0, dual=False, loss=squared_hinge, penalty=l2, tol=1.778279410038923e-05\n",
      "[CV 1/5; 17/20] END C=10000.0, dual=False, loss=squared_hinge, penalty=l2, tol=1.778279410038923e-05;, score=(train=1.000, test=0.113) total time= 1.8min\n",
      "[CV 1/5; 18/20] START C=0.0001, dual=False, loss=hinge, penalty=l1, tol=1.778279410038923e-05\n",
      "[CV 1/5; 18/20] END C=0.0001, dual=False, loss=hinge, penalty=l1, tol=1.778279410038923e-05;, score=(train=nan, test=nan) total time=   1.1s\n",
      "[CV 2/5; 18/20] START C=0.0001, dual=False, loss=hinge, penalty=l1, tol=1.778279410038923e-05\n",
      "[CV 2/5; 18/20] END C=0.0001, dual=False, loss=hinge, penalty=l1, tol=1.778279410038923e-05;, score=(train=nan, test=nan) total time=   1.0s\n",
      "[CV 3/5; 18/20] START C=0.0001, dual=False, loss=hinge, penalty=l1, tol=1.778279410038923e-05\n",
      "[CV 3/5; 18/20] END C=0.0001, dual=False, loss=hinge, penalty=l1, tol=1.778279410038923e-05;, score=(train=nan, test=nan) total time=   1.0s\n",
      "[CV 4/5; 18/20] START C=0.0001, dual=False, loss=hinge, penalty=l1, tol=1.778279410038923e-05\n",
      "[CV 4/5; 18/20] END C=0.0001, dual=False, loss=hinge, penalty=l1, tol=1.778279410038923e-05;, score=(train=nan, test=nan) total time=   1.0s\n",
      "[CV 5/5; 18/20] START C=0.0001, dual=False, loss=hinge, penalty=l1, tol=1.778279410038923e-05\n",
      "[CV 5/5; 18/20] END C=0.0001, dual=False, loss=hinge, penalty=l1, tol=1.778279410038923e-05;, score=(train=nan, test=nan) total time=   1.1s\n",
      "[CV 2/5; 19/20] START C=100.0, dual=False, loss=squared_hinge, penalty=l1, tol=1.778279410038923e-05\n",
      "[CV 2/5; 19/20] END C=100.0, dual=False, loss=squared_hinge, penalty=l1, tol=1.778279410038923e-05;, score=(train=1.000, test=0.125) total time= 9.0min\n"
     ]
    },
    {
     "name": "stderr",
     "output_type": "stream",
     "text": [
      "/opt/conda/lib/python3.7/site-packages/sklearn/svm/_base.py:1208: ConvergenceWarning: Liblinear failed to converge, increase the number of iterations.\n",
      "  ConvergenceWarning,\n"
     ]
    },
    {
     "name": "stdout",
     "output_type": "stream",
     "text": [
      "[CV 1/5; 2/20] START C=0.01, dual=False, loss=squared_hinge, penalty=l2, tol=1e-06\n",
      "[CV 1/5; 2/20] END C=0.01, dual=False, loss=squared_hinge, penalty=l2, tol=1e-06;, score=(train=0.966, test=0.033) total time= 2.1min\n",
      "[CV 3/5; 10/20] START C=1.0, dual=False, loss=hinge, penalty=l1, tol=0.00031622776601683794\n",
      "[CV 3/5; 10/20] END C=1.0, dual=False, loss=hinge, penalty=l1, tol=0.00031622776601683794;, score=(train=nan, test=nan) total time=   1.0s\n",
      "[CV 5/5; 10/20] START C=1.0, dual=False, loss=hinge, penalty=l1, tol=0.00031622776601683794\n",
      "[CV 5/5; 10/20] END C=1.0, dual=False, loss=hinge, penalty=l1, tol=0.00031622776601683794;, score=(train=nan, test=nan) total time=   1.0s\n",
      "[CV 2/5; 11/20] START C=0.01, dual=False, loss=squared_hinge, penalty=l1, tol=0.005623413251903491\n",
      "[CV 2/5; 11/20] END C=0.01, dual=False, loss=squared_hinge, penalty=l1, tol=0.005623413251903491;, score=(train=0.000, test=0.000) total time=   6.6s\n",
      "[CV 3/5; 11/20] START C=0.01, dual=False, loss=squared_hinge, penalty=l1, tol=0.005623413251903491\n",
      "[CV 3/5; 11/20] END C=0.01, dual=False, loss=squared_hinge, penalty=l1, tol=0.005623413251903491;, score=(train=0.000, test=0.000) total time=   8.6s\n",
      "[CV 2/5; 12/20] START C=1.0, dual=False, loss=squared_hinge, penalty=l2, tol=0.1\n",
      "[CV 2/5; 12/20] END C=1.0, dual=False, loss=squared_hinge, penalty=l2, tol=0.1;, score=(train=0.996, test=0.131) total time= 1.5min\n",
      "[CV 4/5; 17/20] START C=10000.0, dual=False, loss=squared_hinge, penalty=l2, tol=1.778279410038923e-05\n",
      "[CV 4/5; 17/20] END C=10000.0, dual=False, loss=squared_hinge, penalty=l2, tol=1.778279410038923e-05;, score=(train=1.000, test=0.147) total time= 1.8min\n",
      "[CV 5/5; 19/20] START C=100.0, dual=False, loss=squared_hinge, penalty=l1, tol=1.778279410038923e-05\n",
      "[CV 5/5; 19/20] END C=100.0, dual=False, loss=squared_hinge, penalty=l1, tol=1.778279410038923e-05;, score=(train=1.000, test=0.083) total time= 8.7min\n"
     ]
    },
    {
     "name": "stderr",
     "output_type": "stream",
     "text": [
      "/opt/conda/lib/python3.7/site-packages/sklearn/svm/_base.py:1208: ConvergenceWarning: Liblinear failed to converge, increase the number of iterations.\n",
      "  ConvergenceWarning,\n"
     ]
    },
    {
     "name": "stdout",
     "output_type": "stream",
     "text": [
      "[CV 4/5; 1/20] START C=1.0, dual=False, loss=hinge, penalty=l1, tol=1e-06.......\n",
      "[CV 4/5; 1/20] END C=1.0, dual=False, loss=hinge, penalty=l1, tol=1e-06;, score=(train=nan, test=nan) total time=   1.6s\n",
      "[CV 1/5; 3/20] START C=10000.0, dual=False, loss=hinge, penalty=l1, tol=1.778279410038923e-05\n",
      "[CV 1/5; 3/20] END C=10000.0, dual=False, loss=hinge, penalty=l1, tol=1.778279410038923e-05;, score=(train=nan, test=nan) total time=   1.7s\n",
      "[CV 1/5; 4/20] START C=100.0, dual=False, loss=hinge, penalty=l1, tol=1.778279410038923e-05\n",
      "[CV 1/5; 4/20] END C=100.0, dual=False, loss=hinge, penalty=l1, tol=1.778279410038923e-05;, score=(train=nan, test=nan) total time=   1.2s\n",
      "[CV 1/5; 5/20] START C=10000.0, dual=False, loss=squared_hinge, penalty=l2, tol=0.005623413251903491\n",
      "[CV 1/5; 5/20] END C=10000.0, dual=False, loss=squared_hinge, penalty=l2, tol=0.005623413251903491;, score=(train=1.000, test=0.091) total time= 1.7min\n",
      "[CV 3/5; 9/20] START C=0.01, dual=False, loss=squared_hinge, penalty=l2, tol=0.1\n",
      "[CV 3/5; 9/20] END C=0.01, dual=False, loss=squared_hinge, penalty=l2, tol=0.1;, score=(train=0.851, test=0.035) total time= 1.1min\n",
      "[CV 3/5; 14/20] START C=10000.0, dual=False, loss=squared_hinge, penalty=l1, tol=0.1\n",
      "[CV 3/5; 14/20] END C=10000.0, dual=False, loss=squared_hinge, penalty=l1, tol=0.1;, score=(train=1.000, test=0.108) total time=  10.9s\n",
      "[CV 2/5; 15/20] START C=1.0, dual=False, loss=squared_hinge, penalty=l2, tol=1.778279410038923e-05\n",
      "[CV 2/5; 15/20] END C=1.0, dual=False, loss=squared_hinge, penalty=l2, tol=1.778279410038923e-05;, score=(train=1.000, test=0.122) total time=22.1min\n",
      "[CV 3/5; 1/20] START C=1.0, dual=False, loss=hinge, penalty=l1, tol=1e-06.......\n",
      "[CV 3/5; 1/20] END C=1.0, dual=False, loss=hinge, penalty=l1, tol=1e-06;, score=(train=nan, test=nan) total time=   1.7s\n",
      "[CV 2/5; 3/20] START C=10000.0, dual=False, loss=hinge, penalty=l1, tol=1.778279410038923e-05\n",
      "[CV 2/5; 3/20] END C=10000.0, dual=False, loss=hinge, penalty=l1, tol=1.778279410038923e-05;, score=(train=nan, test=nan) total time=   1.8s\n",
      "[CV 2/5; 4/20] START C=100.0, dual=False, loss=hinge, penalty=l1, tol=1.778279410038923e-05\n",
      "[CV 2/5; 4/20] END C=100.0, dual=False, loss=hinge, penalty=l1, tol=1.778279410038923e-05;, score=(train=nan, test=nan) total time=   1.3s\n",
      "[CV 2/5; 5/20] START C=10000.0, dual=False, loss=squared_hinge, penalty=l2, tol=0.005623413251903491\n",
      "[CV 2/5; 5/20] END C=10000.0, dual=False, loss=squared_hinge, penalty=l2, tol=0.005623413251903491;, score=(train=1.000, test=0.136) total time= 1.8min\n",
      "[CV 5/5; 9/20] START C=0.01, dual=False, loss=squared_hinge, penalty=l2, tol=0.1\n",
      "[CV 5/5; 9/20] END C=0.01, dual=False, loss=squared_hinge, penalty=l2, tol=0.1;, score=(train=0.796, test=0.018) total time=  59.2s\n",
      "[CV 2/5; 14/20] START C=10000.0, dual=False, loss=squared_hinge, penalty=l1, tol=0.1\n",
      "[CV 2/5; 14/20] END C=10000.0, dual=False, loss=squared_hinge, penalty=l1, tol=0.1;, score=(train=1.000, test=0.103) total time=  13.7s\n",
      "[CV 4/5; 15/20] START C=1.0, dual=False, loss=squared_hinge, penalty=l2, tol=1.778279410038923e-05\n",
      "[CV 4/5; 15/20] END C=1.0, dual=False, loss=squared_hinge, penalty=l2, tol=1.778279410038923e-05;, score=(train=1.000, test=0.146) total time=23.9min\n"
     ]
    },
    {
     "name": "stderr",
     "output_type": "stream",
     "text": [
      "/opt/conda/lib/python3.7/site-packages/sklearn/model_selection/_validation.py:372: FitFailedWarning: \n",
      "55 fits failed out of a total of 100.\n",
      "The score on these train-test partitions for these parameters will be set to nan.\n",
      "If these failures are not expected, you can try to debug them by setting error_score='raise'.\n",
      "\n",
      "Below are more details about the failures:\n",
      "--------------------------------------------------------------------------------\n",
      "35 fits failed with the following error:\n",
      "Traceback (most recent call last):\n",
      "  File \"/opt/conda/lib/python3.7/site-packages/sklearn/model_selection/_validation.py\", line 680, in _fit_and_score\n",
      "    estimator.fit(X_train, y_train, **fit_params)\n",
      "  File \"/opt/conda/lib/python3.7/site-packages/sklearn/svm/_classes.py\", line 272, in fit\n",
      "    sample_weight=sample_weight,\n",
      "  File \"/opt/conda/lib/python3.7/site-packages/sklearn/svm/_base.py\", line 1185, in _fit_liblinear\n",
      "    solver_type = _get_liblinear_solver_type(multi_class, penalty, loss, dual)\n",
      "  File \"/opt/conda/lib/python3.7/site-packages/sklearn/svm/_base.py\", line 1026, in _get_liblinear_solver_type\n",
      "    % (error_string, penalty, loss, dual)\n",
      "ValueError: Unsupported set of arguments: The combination of penalty='l1' and loss='hinge' is not supported, Parameters: penalty='l1', loss='hinge', dual=False\n",
      "\n",
      "--------------------------------------------------------------------------------\n",
      "20 fits failed with the following error:\n",
      "Traceback (most recent call last):\n",
      "  File \"/opt/conda/lib/python3.7/site-packages/sklearn/model_selection/_validation.py\", line 680, in _fit_and_score\n",
      "    estimator.fit(X_train, y_train, **fit_params)\n",
      "  File \"/opt/conda/lib/python3.7/site-packages/sklearn/svm/_classes.py\", line 272, in fit\n",
      "    sample_weight=sample_weight,\n",
      "  File \"/opt/conda/lib/python3.7/site-packages/sklearn/svm/_base.py\", line 1185, in _fit_liblinear\n",
      "    solver_type = _get_liblinear_solver_type(multi_class, penalty, loss, dual)\n",
      "  File \"/opt/conda/lib/python3.7/site-packages/sklearn/svm/_base.py\", line 1026, in _get_liblinear_solver_type\n",
      "    % (error_string, penalty, loss, dual)\n",
      "ValueError: Unsupported set of arguments: The combination of penalty='l2' and loss='hinge' are not supported when dual=False, Parameters: penalty='l2', loss='hinge', dual=False\n",
      "\n",
      "  warnings.warn(some_fits_failed_message, FitFailedWarning)\n",
      "/opt/conda/lib/python3.7/site-packages/sklearn/model_selection/_search.py:972: UserWarning: One or more of the test scores are non-finite: [       nan 0.05217972        nan        nan 0.11913317        nan\n",
      "        nan        nan 0.02868063        nan 0.         0.08703927\n",
      "        nan 0.10218228 0.11366117        nan 0.12359287        nan\n",
      " 0.11091807        nan]\n",
      "  category=UserWarning,\n",
      "/opt/conda/lib/python3.7/site-packages/sklearn/model_selection/_search.py:972: UserWarning: One or more of the train scores are non-finite: [       nan 0.95571343        nan        nan 1.                nan\n",
      "        nan        nan 0.66765631        nan 0.         0.97709563\n",
      "        nan 1.         1.                nan 1.                nan\n",
      " 1.                nan]\n",
      "  category=UserWarning,\n"
     ]
    },
    {
     "name": "stdout",
     "output_type": "stream",
     "text": [
      "[CV 4/5; 2/20] START C=0.01, dual=False, loss=squared_hinge, penalty=l2, tol=1e-06\n",
      "[CV 4/5; 2/20] END C=0.01, dual=False, loss=squared_hinge, penalty=l2, tol=1e-06;, score=(train=0.959, test=0.064) total time= 2.7min\n",
      "[CV 1/5; 13/20] START C=100.0, dual=False, loss=hinge, penalty=l1, tol=0.005623413251903491\n",
      "[CV 1/5; 13/20] END C=100.0, dual=False, loss=hinge, penalty=l1, tol=0.005623413251903491;, score=(train=nan, test=nan) total time=   1.2s\n",
      "[CV 2/5; 13/20] START C=100.0, dual=False, loss=hinge, penalty=l1, tol=0.005623413251903491\n",
      "[CV 2/5; 13/20] END C=100.0, dual=False, loss=hinge, penalty=l1, tol=0.005623413251903491;, score=(train=nan, test=nan) total time=   1.2s\n",
      "[CV 3/5; 13/20] START C=100.0, dual=False, loss=hinge, penalty=l1, tol=0.005623413251903491\n",
      "[CV 3/5; 13/20] END C=100.0, dual=False, loss=hinge, penalty=l1, tol=0.005623413251903491;, score=(train=nan, test=nan) total time=   1.1s\n",
      "[CV 4/5; 13/20] START C=100.0, dual=False, loss=hinge, penalty=l1, tol=0.005623413251903491\n",
      "[CV 4/5; 13/20] END C=100.0, dual=False, loss=hinge, penalty=l1, tol=0.005623413251903491;, score=(train=nan, test=nan) total time=   1.1s\n",
      "[CV 5/5; 13/20] START C=100.0, dual=False, loss=hinge, penalty=l1, tol=0.005623413251903491\n",
      "[CV 5/5; 13/20] END C=100.0, dual=False, loss=hinge, penalty=l1, tol=0.005623413251903491;, score=(train=nan, test=nan) total time=   1.1s\n",
      "[CV 1/5; 14/20] START C=10000.0, dual=False, loss=squared_hinge, penalty=l1, tol=0.1\n",
      "[CV 1/5; 14/20] END C=10000.0, dual=False, loss=squared_hinge, penalty=l1, tol=0.1;, score=(train=1.000, test=0.126) total time=  12.6s\n",
      "[CV 1/5; 15/20] START C=1.0, dual=False, loss=squared_hinge, penalty=l2, tol=1.778279410038923e-05\n",
      "[CV 1/5; 15/20] END C=1.0, dual=False, loss=squared_hinge, penalty=l2, tol=1.778279410038923e-05;, score=(train=1.000, test=0.113) total time=29.6min\n"
     ]
    },
    {
     "data": {
      "text/plain": [
       "RandomizedSearchCV(cv=StratifiedKFold(n_splits=5, random_state=None, shuffle=False),\n",
       "                   estimator=LinearSVC(), n_iter=20, n_jobs=10,\n",
       "                   param_distributions={'C': array([1.e-04, 1.e-02, 1.e+00, 1.e+02, 1.e+04]),\n",
       "                                        'dual': [False],\n",
       "                                        'loss': ['hinge', 'squared_hinge'],\n",
       "                                        'penalty': ['l1', 'l2'],\n",
       "                                        'tol': array([1.00000000e-06, 1.77827941e-05, 3.16227766e-04, 5.62341325e-03,\n",
       "       1.00000000e-01])},\n",
       "                   return_train_score=True, scoring='f1', verbose=20)"
      ]
     },
     "execution_count": 20,
     "metadata": {},
     "output_type": "execute_result"
    },
    {
     "name": "stdout",
     "output_type": "stream",
     "text": [
      "[CV 5/5; 1/20] START C=1.0, dual=False, loss=hinge, penalty=l1, tol=1e-06.......\n",
      "[CV 5/5; 1/20] END C=1.0, dual=False, loss=hinge, penalty=l1, tol=1e-06;, score=(train=nan, test=nan) total time=   1.7s\n",
      "[CV 3/5; 3/20] START C=10000.0, dual=False, loss=hinge, penalty=l1, tol=1.778279410038923e-05\n",
      "[CV 3/5; 3/20] END C=10000.0, dual=False, loss=hinge, penalty=l1, tol=1.778279410038923e-05;, score=(train=nan, test=nan) total time=   1.7s\n",
      "[CV 3/5; 4/20] START C=100.0, dual=False, loss=hinge, penalty=l1, tol=1.778279410038923e-05\n",
      "[CV 3/5; 4/20] END C=100.0, dual=False, loss=hinge, penalty=l1, tol=1.778279410038923e-05;, score=(train=nan, test=nan) total time=   1.3s\n",
      "[CV 3/5; 5/20] START C=10000.0, dual=False, loss=squared_hinge, penalty=l2, tol=0.005623413251903491\n",
      "[CV 3/5; 5/20] END C=10000.0, dual=False, loss=squared_hinge, penalty=l2, tol=0.005623413251903491;, score=(train=1.000, test=0.139) total time= 1.8min\n",
      "[CV 4/5; 9/20] START C=0.01, dual=False, loss=squared_hinge, penalty=l2, tol=0.1\n",
      "[CV 4/5; 9/20] END C=0.01, dual=False, loss=squared_hinge, penalty=l2, tol=0.1;, score=(train=0.876, test=0.035) total time= 1.1min\n",
      "[CV 5/5; 14/20] START C=10000.0, dual=False, loss=squared_hinge, penalty=l1, tol=0.1\n",
      "[CV 5/5; 14/20] END C=10000.0, dual=False, loss=squared_hinge, penalty=l1, tol=0.1;, score=(train=1.000, test=0.062) total time=  11.1s\n",
      "[CV 5/5; 15/20] START C=1.0, dual=False, loss=squared_hinge, penalty=l2, tol=1.778279410038923e-05\n",
      "[CV 5/5; 15/20] END C=1.0, dual=False, loss=squared_hinge, penalty=l2, tol=1.778279410038923e-05;, score=(train=1.000, test=0.060) total time=32.6min\n",
      "[CV 2/5; 1/20] START C=1.0, dual=False, loss=hinge, penalty=l1, tol=1e-06.......\n",
      "[CV 2/5; 1/20] END C=1.0, dual=False, loss=hinge, penalty=l1, tol=1e-06;, score=(train=nan, test=nan) total time=   1.7s\n",
      "[CV 4/5; 3/20] START C=10000.0, dual=False, loss=hinge, penalty=l1, tol=1.778279410038923e-05\n",
      "[CV 4/5; 3/20] END C=10000.0, dual=False, loss=hinge, penalty=l1, tol=1.778279410038923e-05;, score=(train=nan, test=nan) total time=   1.7s\n",
      "[CV 4/5; 4/20] START C=100.0, dual=False, loss=hinge, penalty=l1, tol=1.778279410038923e-05\n",
      "[CV 4/5; 4/20] END C=100.0, dual=False, loss=hinge, penalty=l1, tol=1.778279410038923e-05;, score=(train=nan, test=nan) total time=   1.3s\n",
      "[CV 4/5; 5/20] START C=10000.0, dual=False, loss=squared_hinge, penalty=l2, tol=0.005623413251903491\n",
      "[CV 4/5; 5/20] END C=10000.0, dual=False, loss=squared_hinge, penalty=l2, tol=0.005623413251903491;, score=(train=1.000, test=0.147) total time= 1.5min\n",
      "[CV 3/5; 6/20] START C=100.0, dual=False, loss=hinge, penalty=l2, tol=0.005623413251903491\n",
      "[CV 3/5; 6/20] END C=100.0, dual=False, loss=hinge, penalty=l2, tol=0.005623413251903491;, score=(train=nan, test=nan) total time=   1.2s\n",
      "[CV 5/5; 6/20] START C=100.0, dual=False, loss=hinge, penalty=l2, tol=0.005623413251903491\n",
      "[CV 5/5; 6/20] END C=100.0, dual=False, loss=hinge, penalty=l2, tol=0.005623413251903491;, score=(train=nan, test=nan) total time=   1.2s\n",
      "[CV 2/5; 7/20] START C=10000.0, dual=False, loss=hinge, penalty=l2, tol=1e-06...\n",
      "[CV 2/5; 7/20] END C=10000.0, dual=False, loss=hinge, penalty=l2, tol=1e-06;, score=(train=nan, test=nan) total time=   1.3s\n",
      "[CV 4/5; 7/20] START C=10000.0, dual=False, loss=hinge, penalty=l2, tol=1e-06...\n",
      "[CV 4/5; 7/20] END C=10000.0, dual=False, loss=hinge, penalty=l2, tol=1e-06;, score=(train=nan, test=nan) total time=   1.2s\n",
      "[CV 1/5; 8/20] START C=0.01, dual=False, loss=hinge, penalty=l2, tol=0.00031622776601683794\n",
      "[CV 1/5; 8/20] END C=0.01, dual=False, loss=hinge, penalty=l2, tol=0.00031622776601683794;, score=(train=nan, test=nan) total time=   1.0s\n",
      "[CV 3/5; 8/20] START C=0.01, dual=False, loss=hinge, penalty=l2, tol=0.00031622776601683794\n",
      "[CV 3/5; 8/20] END C=0.01, dual=False, loss=hinge, penalty=l2, tol=0.00031622776601683794;, score=(train=nan, test=nan) total time=   1.0s\n",
      "[CV 5/5; 8/20] START C=0.01, dual=False, loss=hinge, penalty=l2, tol=0.00031622776601683794\n",
      "[CV 5/5; 8/20] END C=0.01, dual=False, loss=hinge, penalty=l2, tol=0.00031622776601683794;, score=(train=nan, test=nan) total time=   1.1s\n",
      "[CV 2/5; 9/20] START C=0.01, dual=False, loss=squared_hinge, penalty=l2, tol=0.1\n",
      "[CV 2/5; 9/20] END C=0.01, dual=False, loss=squared_hinge, penalty=l2, tol=0.1;, score=(train=0.815, test=0.055) total time= 1.2min\n",
      "[CV 4/5; 14/20] START C=10000.0, dual=False, loss=squared_hinge, penalty=l1, tol=0.1\n",
      "[CV 4/5; 14/20] END C=10000.0, dual=False, loss=squared_hinge, penalty=l1, tol=0.1;, score=(train=1.000, test=0.113) total time=  10.7s\n",
      "[CV 3/5; 15/20] START C=1.0, dual=False, loss=squared_hinge, penalty=l2, tol=1.778279410038923e-05\n",
      "[CV 3/5; 15/20] END C=1.0, dual=False, loss=squared_hinge, penalty=l2, tol=1.778279410038923e-05;, score=(train=1.000, test=0.128) total time=34.2min\n"
     ]
    }
   ],
   "source": [
    "grid_search = RandomizedSearchCV(\n",
    "    svm_classifier, \n",
    "    param_distributions=param_dist, \n",
    "    cv=StratifiedKFold(5),\n",
    "    scoring='f1',\n",
    "    n_jobs=10,\n",
    "    verbose=20,\n",
    "    n_iter=100,\n",
    "    return_train_score=True,\n",
    ")\n",
    "\n",
    "grid_search.fit(X_train, y_train)"
   ]
  },
  {
   "cell_type": "code",
   "execution_count": null,
   "id": "f3840386-c763-4963-b71a-56a2f53891f2",
   "metadata": {},
   "outputs": [],
   "source": [
    "model_name = 'linearsvc'\n",
    "\n",
    "# convert the results to a pandas DataFrame\n",
    "cv_results = pd.DataFrame(grid_search.cv_results_)\n",
    "\n",
    "# save the results to a CSV file\n",
    "cv_results.to_csv(f'results/{model_name}_crossvalidation_results.csv', index=False)"
   ]
  },
  {
   "cell_type": "code",
   "execution_count": 21,
   "id": "45d6bf94",
   "metadata": {},
   "outputs": [
    {
     "name": "stdout",
     "output_type": "stream",
     "text": [
      "Best Parameters: {'tol': 1.778279410038923e-05, 'penalty': 'l2', 'loss': 'squared_hinge', 'dual': False, 'C': 10000.0}\n",
      "Best Score: 0.12359286574112013\n"
     ]
    }
   ],
   "source": [
    "# print the best parameters and score\n",
    "print(\"Best Parameters:\", grid_search.best_params_)\n",
    "print(\"Best Score:\", grid_search.best_score_)"
   ]
  },
  {
   "cell_type": "code",
   "execution_count": 23,
   "id": "8470ea13-12c3-406a-8d6b-5e4c28dfaedf",
   "metadata": {},
   "outputs": [
    {
     "data": {
      "image/png": "[encoded data removed]",
      "text/plain": [
       "<Figure size 640x480 with 1 Axes>"
      ]
     },
     "metadata": {},
     "output_type": "display_data"
    },
    {
     "data": {
      "image/png": "[encoded data removed]",
      "text/plain": [
       "<Figure size 640x480 with 1 Axes>"
      ]
     },
     "metadata": {},
     "output_type": "display_data"
    },
    {
     "data": {
      "image/png": "[encoded data removed]",
      "text/plain": [
       "<Figure size 640x480 with 1 Axes>"
      ]
     },
     "metadata": {},
     "output_type": "display_data"
    },
    {
     "data": {
      "image/png": "[encoded data removed]",
      "text/plain": [
       "<Figure size 640x480 with 1 Axes>"
      ]
     },
     "metadata": {},
     "output_type": "display_data"
    },
    {
     "data": {
      "image/png": "[encoded data removed]",
      "text/plain": [
       "<Figure size 640x480 with 1 Axes>"
      ]
     },
     "metadata": {},
     "output_type": "display_data"
    }
   ],
   "source": [
    "params = grid_search.cv_results_['params']\n",
    "scores = grid_search.cv_results_['mean_test_score']\n",
    "\n",
    "\n",
    "import seaborn as sns\n",
    "for param_name in params[0].keys():\n",
    "    # Extract the scores and hyperparameter values for the current parameter\n",
    "    \n",
    "    values = [pdict[param_name] for pdict in params]\n",
    "    \n",
    "    # Create a boxplot\n",
    "    plt.figure()\n",
    "    sns.boxplot(x=values, y=scores)\n",
    "    plt.xlabel(param_name)\n",
    "    plt.ylabel('f1_score')\n",
    "    plt.show()"
   ]
  },
  {
   "cell_type": "markdown",
   "id": "46d9468c-ad72-46e3-8c3f-8020b7028596",
   "metadata": {},
   "source": [
    "### Scoring"
   ]
  },
  {
   "cell_type": "code",
   "execution_count": 24,
   "id": "103d040f-129b-4fc9-b0b4-815af3b2e236",
   "metadata": {},
   "outputs": [],
   "source": [
    "# grid_search.best_params_\n",
    "hyperparam = {'tol': 1.778279410038923e-05, 'penalty': 'l2', 'loss': 'squared_hinge', 'dual': False, 'C': 10000.0}"
   ]
  },
  {
   "cell_type": "code",
   "execution_count": 25,
   "id": "64c54f82-09c0-4848-a5ac-57b632499660",
   "metadata": {},
   "outputs": [],
   "source": [
    "tuned_clf = LinearSVC(\n",
    "    **hyperparam\n",
    ")"
   ]
  },
  {
   "cell_type": "code",
   "execution_count": 26,
   "id": "68d3cdca-5584-4955-b8a5-bc026a7a4501",
   "metadata": {},
   "outputs": [
    {
     "data": {
      "text/plain": [
       "LinearSVC(C=10000.0, dual=False, tol=1.778279410038923e-05)"
      ]
     },
     "execution_count": 26,
     "metadata": {},
     "output_type": "execute_result"
    }
   ],
   "source": [
    "tuned_clf.fit(X_train, y_train)"
   ]
  },
  {
   "cell_type": "code",
   "execution_count": 22,
   "id": "6352eb38-8885-4b17-a8fc-e1de69a630cf",
   "metadata": {},
   "outputs": [
    {
     "name": "stdout",
     "output_type": "stream",
     "text": [
      "Train ROC_AUC score: 0.988\n",
      "Test ROC_AUC score: 0.874\n"
     ]
    }
   ],
   "source": [
    "train_roc = tuned_clf.score(X_train, y_train)\n",
    "print(f\"Train acc score: {train_roc:.3f}\")\n",
    "\n",
    "# Evaluate the test accuracy\n",
    "test_roc = tuned_clf.score(X_test, y_test)\n",
    "print(f\"Test acc score: {test_roc:.3f}\")"
   ]
  },
  {
   "cell_type": "code",
   "execution_count": 27,
   "id": "9a23251e-7d2f-4fee-8672-1a0463c895d5",
   "metadata": {},
   "outputs": [
    {
     "data": {
      "image/png": "[encoded data removed]",
      "text/plain": [
       "<Figure size 640x480 with 2 Axes>"
      ]
     },
     "metadata": {},
     "output_type": "display_data"
    }
   ],
   "source": [
    "y_pred_train = tuned_clf.predict(X_train)\n",
    "y_pred_test = tuned_clf.predict(X_test)\n"
   ]
  },
  {
   "cell_type": "code",
   "execution_count": 28,
   "id": "145d7499-7277-4cfd-affb-e667fa35eb61",
   "metadata": {},
   "outputs": [
    {
     "name": "stdout",
     "output_type": "stream",
     "text": [
      "Train precision score: 1.000\n",
      "Test precision score: 0.159\n",
      "Train recall score: 1.000\n",
      "Test recall score: 0.109\n"
     ]
    }
   ],
   "source": [
    "from sklearn.metrics import precision_score, recall_score\n",
    "\n",
    "train_roc = precision_score(y_train, y_pred_train)\n",
    "print(f\"Train precision score: {train_roc:.3f}\")\n",
    "\n",
    "# Evaluate the test accuracy\n",
    "test_roc = precision_score(y_test, y_pred_test)\n",
    "print(f\"Test precision score: {test_roc:.3f}\")\n",
    "\n"
   ]
  },
  {
   "cell_type": "code",
   "execution_count": null,
   "id": "c6cb8220-9318-4883-b5b5-ea38dfbf4462",
   "metadata": {},
   "outputs": [],
   "source": [
    "train_roc = recall_score(y_train, y_pred_train)\n",
    "print(f\"Train recall score: {train_roc:.3f}\")\n",
    "\n",
    "# Evaluate the test accuracy\n",
    "test_roc = recall_score(y_test, y_pred_test)\n",
    "print(f\"Test recall score: {test_roc:.3f}\")"
   ]
  },
  {
   "cell_type": "code",
   "execution_count": 29,
   "id": "c562abc6-cc18-4eb6-8b99-bfb213c463fd",
   "metadata": {},
   "outputs": [
    {
     "name": "stdout",
     "output_type": "stream",
     "text": [
      "Train ROC_AUC score: 1.000\n",
      "Test ROC_AUC score: 0.520\n"
     ]
    }
   ],
   "source": [
    "train_roc = roc_auc_score(y_train, y_pred_train)\n",
    "print(f\"Train ROC_AUC score: {train_roc:.3f}\")\n",
    "\n",
    "# Evaluate the test accuracy\n",
    "test_roc = roc_auc_score(y_test, y_pred_test)\n",
    "print(f\"Test ROC_AUC score: {test_roc:.3f}\")"
   ]
  },
  {
   "cell_type": "code",
   "execution_count": 30,
   "id": "d46fb829",
   "metadata": {},
   "outputs": [
    {
     "name": "stdout",
     "output_type": "stream",
     "text": [
      "Train f1 score: 1.000\n",
      "Test f1 score: 0.129\n"
     ]
    }
   ],
   "source": [
    "train_roc = f1_score(y_train, y_pred_train)\n",
    "print(f\"Train f1 score: {train_roc:.3f}\")\n",
    "\n",
    "# Evaluate the test accuracy\n",
    "test_roc = f1_score(y_test, y_pred_test)\n",
    "print(f\"Test f1 score: {test_roc:.3f}\")"
   ]
  },
  {
   "cell_type": "code",
   "execution_count": null,
   "id": "8d12b2b1-34eb-4602-b7a9-64bc8ee5a42e",
   "metadata": {},
   "outputs": [],
   "source": [
    "cm = confusion_matrix(y_test, y_pred_test)\n",
    "\n",
    "disp = ConfusionMatrixDisplay(\n",
    "    confusion_matrix=cm,\n",
    "    display_labels=tuned_clf.classes_\n",
    ")\n",
    "disp.plot()\n",
    "plt.show()"
   ]
  },
  {
   "cell_type": "code",
   "execution_count": null,
   "id": "0bf44366-df26-490d-8aba-842c1d445ef7",
   "metadata": {},
   "outputs": [],
   "source": [
    "print(classification_report(y_train, y_pred_train))"
   ]
  },
  {
   "cell_type": "code",
   "execution_count": null,
   "id": "e808c275-1fbe-456d-bbcd-0d1f92078b08",
   "metadata": {},
   "outputs": [],
   "source": [
    "print(classification_report(y_test, y_pred_test))"
   ]
  },
  {
   "cell_type": "code",
   "execution_count": null,
   "id": "14210418-7ebb-42f2-9356-ac0951845ebb",
   "metadata": {},
   "outputs": [],
   "source": []
  }
 ],
 "metadata": {
  "kernelspec": {
   "display_name": "TensorFlow 2 (Local)",
   "language": "python",
   "name": "local-tf2"
  },
  "language_info": {
   "codemirror_mode": {
    "name": "ipython",
    "version": 3
   },
   "file_extension": ".py",
   "mimetype": "text/x-python",
   "name": "python",
   "nbconvert_exporter": "python",
   "pygments_lexer": "ipython3",
   "version": "3.7.12"
  }
 },
 "nbformat": 4,
 "nbformat_minor": 5
}
