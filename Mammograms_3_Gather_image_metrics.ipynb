{
 "cells": [
  {
   "cell_type": "markdown",
   "id": "6e2d075b",
   "metadata": {},
   "source": [
    "# Gather image metrics from metadata of images"
   ]
  },
  {
   "cell_type": "markdown",
   "id": "653f202c",
   "metadata": {},
   "source": [
    "## Create a dataframe with information about a subset of images\n",
    "## Of Interest are:\n",
    "- Samples per Pixel \n",
    "- Rows\n",
    "- Columns\n",
    "- Pixel Intensity Relationship\n",
    "\n",
    "## I assume we want images with similar metrics to put them in an algorithm.\n",
    "## If not, we can normalize using skimage.transform.resize. We would need to decide what to resize to"
   ]
  },
  {
   "cell_type": "code",
   "execution_count": 1,
   "id": "e940cdff",
   "metadata": {},
   "outputs": [],
   "source": [
    "# Import the libraries we'll use below.\n",
    "import os\n",
    "import time\n",
    "import numpy as np\n",
    "from matplotlib import pyplot as plt\n",
    "import pandas as pd\n",
    "import seaborn as sns  # for nicer plots\n",
    "sns.set(style=\"darkgrid\")  # default style\n",
    "\n",
    "import tensorflow as tf\n",
    "from tensorflow import keras\n",
    "from keras import metrics\n",
    "tf.get_logger().setLevel('INFO')\n",
    "\n",
    "import pydicom\n",
    "\n",
    "from collections import deque"
   ]
  },
  {
   "cell_type": "code",
   "execution_count": 2,
   "id": "5a688653",
   "metadata": {},
   "outputs": [
    {
     "name": "stdout",
     "output_type": "stream",
     "text": [
      "Processed 200 DICOM files...\n",
      "Processed 400 DICOM files...\n",
      "Processed 600 DICOM files...\n",
      "Processed 800 DICOM files...\n",
      "Processed 1000 DICOM files...\n",
      "Processed 1200 DICOM files...\n",
      "Processed 1400 DICOM files...\n",
      "Processed 1600 DICOM files...\n",
      "Processed 1800 DICOM files...\n",
      "Processed 2000 DICOM files...\n",
      "Processed 2200 DICOM files...\n",
      "Processed 2400 DICOM files...\n",
      "Processed 2600 DICOM files...\n",
      "Processed 2800 DICOM files...\n",
      "Processed 3000 DICOM files...\n",
      "Processed 3200 DICOM files...\n",
      "Processed 3400 DICOM files...\n",
      "Processed 3600 DICOM files...\n",
      "Processed 3800 DICOM files...\n",
      "Processed 4000 DICOM files...\n",
      "Processed 4200 DICOM files...\n",
      "Processed 4400 DICOM files...\n",
      "Processed 4600 DICOM files...\n",
      "Processed 4800 DICOM files...\n",
      "Processed 5000 DICOM files...\n",
      "Processed 5000 DICOM files in 476.40 seconds\n"
     ]
    }
   ],
   "source": [
    "# Make a dataframe of a subset of files that includes image metrics\n",
    "\n",
    "# Create a deque to store the data\n",
    "dicom_data = deque()\n",
    "\n",
    "# Set the directory where your DICOM files are located\n",
    "dicom_directory = r\"F:\\rsna-breast-cancer-detection\\train_images\"\n",
    "\n",
    "# Set a counter for the number of DICOM files found\n",
    "count = 0\n",
    "\n",
    "# Start the timer\n",
    "# We are doing a subset of file. Useful to have a timer to get an idea how long would take for all files\n",
    "start_time = time.time()\n",
    "\n",
    "# Recursively search for DICOM files in all subdirectories\n",
    "for root, dirs, files in os.walk(dicom_directory):\n",
    "    for filename in files:\n",
    "        # Check if the file is a DICOM file\n",
    "        if filename.endswith(\".dcm\"):\n",
    "            # Use PyDicom to read the file\n",
    "            ds = pydicom.dcmread(os.path.join(root, filename))\n",
    "            # Extract the file name and image metrics\n",
    "            file_name = filename\n",
    "            samp_per_pix = ds.SamplesPerPixel\n",
    "            n_rows_image = ds.Rows\n",
    "            n_cols_image = ds.Columns\n",
    "            # Add the data to the list\n",
    "            dicom_data.append([file_name, samp_per_pix, n_rows_image, n_cols_image])\n",
    "            # Increment the counter\n",
    "            count += 1\n",
    "            if count % 200 == 0:\n",
    "                print(f\"Processed {count} DICOM files...\")\n",
    "            # Check if the count has reached 5000 and exit the loop if it has\n",
    "            if count == 5000:\n",
    "                break\n",
    "    # Check if the count has reached 5000 and exit the loop if it has\n",
    "    if count >= 5000:\n",
    "        break\n",
    "\n",
    "# Stop the timer\n",
    "end_time = time.time()\n",
    "elapsed_time = end_time - start_time\n",
    "print(f\"Processed 5000 DICOM files in {elapsed_time:.2f} seconds\")\n",
    "        \n",
    "# Create a Pandas DataFrame from the list\n",
    "df = pd.DataFrame(dicom_data, columns=['file_name', 'samp_per_pix', 'n_rows_image', 'n_cols_image'])"
   ]
  },
  {
   "cell_type": "code",
   "execution_count": 3,
   "id": "c0ae5c91",
   "metadata": {},
   "outputs": [
    {
     "data": {
      "text/html": [
       "<div>\n",
       "<style scoped>\n",
       "    .dataframe tbody tr th:only-of-type {\n",
       "        vertical-align: middle;\n",
       "    }\n",
       "\n",
       "    .dataframe tbody tr th {\n",
       "        vertical-align: top;\n",
       "    }\n",
       "\n",
       "    .dataframe thead th {\n",
       "        text-align: right;\n",
       "    }\n",
       "</style>\n",
       "<table border=\"1\" class=\"dataframe\">\n",
       "  <thead>\n",
       "    <tr style=\"text-align: right;\">\n",
       "      <th></th>\n",
       "      <th>file_name</th>\n",
       "      <th>samp_per_pix</th>\n",
       "      <th>n_rows_image</th>\n",
       "      <th>n_cols_image</th>\n",
       "    </tr>\n",
       "  </thead>\n",
       "  <tbody>\n",
       "    <tr>\n",
       "      <th>0</th>\n",
       "      <td>1459541791.dcm</td>\n",
       "      <td>1</td>\n",
       "      <td>5355</td>\n",
       "      <td>4915</td>\n",
       "    </tr>\n",
       "    <tr>\n",
       "      <th>1</th>\n",
       "      <td>1864590858.dcm</td>\n",
       "      <td>1</td>\n",
       "      <td>5355</td>\n",
       "      <td>4915</td>\n",
       "    </tr>\n",
       "    <tr>\n",
       "      <th>2</th>\n",
       "      <td>1874946579.dcm</td>\n",
       "      <td>1</td>\n",
       "      <td>5355</td>\n",
       "      <td>4915</td>\n",
       "    </tr>\n",
       "    <tr>\n",
       "      <th>3</th>\n",
       "      <td>462822612.dcm</td>\n",
       "      <td>1</td>\n",
       "      <td>5355</td>\n",
       "      <td>4915</td>\n",
       "    </tr>\n",
       "    <tr>\n",
       "      <th>4</th>\n",
       "      <td>1031443799.dcm</td>\n",
       "      <td>1</td>\n",
       "      <td>2776</td>\n",
       "      <td>2082</td>\n",
       "    </tr>\n",
       "  </tbody>\n",
       "</table>\n",
       "</div>"
      ],
      "text/plain": [
       "        file_name  samp_per_pix  n_rows_image  n_cols_image\n",
       "0  1459541791.dcm             1          5355          4915\n",
       "1  1864590858.dcm             1          5355          4915\n",
       "2  1874946579.dcm             1          5355          4915\n",
       "3   462822612.dcm             1          5355          4915\n",
       "4  1031443799.dcm             1          2776          2082"
      ]
     },
     "execution_count": 3,
     "metadata": {},
     "output_type": "execute_result"
    }
   ],
   "source": [
    "df.head()"
   ]
  },
  {
   "cell_type": "code",
   "execution_count": 4,
   "id": "9447f5c5",
   "metadata": {},
   "outputs": [],
   "source": [
    "# Output dataframe to file for future use\n",
    "output_file = \"ImageMetrics_Subset.csv\"\n",
    "df.to_csv(output_file, index=False)"
   ]
  },
  {
   "cell_type": "code",
   "execution_count": 6,
   "id": "5de37a92",
   "metadata": {},
   "outputs": [],
   "source": [
    "# upload dataframe\n",
    "df = pd.read_csv(r\"C:\\Users\\mandy\\Documents\\MIDS\\W207\\W207MammogramProject\\ImageMetrics_Subset.csv\")"
   ]
  },
  {
   "cell_type": "code",
   "execution_count": 12,
   "id": "eca46d7f",
   "metadata": {},
   "outputs": [
    {
     "name": "stdout",
     "output_type": "stream",
     "text": [
      "1    5000\n",
      "Name: samp_per_pix, dtype: int64 \n",
      "\n",
      "4096    2249\n",
      "5355     849\n",
      "3328     763\n",
      "2776     718\n",
      "2294     179\n",
      "3062     141\n",
      "4740      54\n",
      "5928      40\n",
      "2850       5\n",
      "1236       2\n",
      "Name: n_rows_image, dtype: int64 \n",
      "\n",
      "3328    2249\n",
      "4915     849\n",
      "2560     763\n",
      "2082     718\n",
      "1914     179\n",
      "2394     146\n",
      "3540      54\n",
      "4728      40\n",
      "1022       2\n",
      "Name: n_cols_image, dtype: int64\n"
     ]
    }
   ],
   "source": [
    "# Get summary of value counts for each metric\n",
    "#samples per pixel\n",
    "print( df['samp_per_pix'].value_counts(),'\\n')\n",
    "print( df['n_rows_image'].value_counts(),'\\n')\n",
    "print( df['n_cols_image'].value_counts())"
   ]
  },
  {
   "cell_type": "code",
   "execution_count": null,
   "id": "40660b75",
   "metadata": {},
   "outputs": [],
   "source": []
  }
 ],
 "metadata": {
  "kernelspec": {
   "display_name": "Python 3 (ipykernel)",
   "language": "python",
   "name": "python3"
  },
  "language_info": {
   "codemirror_mode": {
    "name": "ipython",
    "version": 3
   },
   "file_extension": ".py",
   "mimetype": "text/x-python",
   "name": "python",
   "nbconvert_exporter": "python",
   "pygments_lexer": "ipython3",
   "version": "3.8.11"
  }
 },
 "nbformat": 4,
 "nbformat_minor": 5
}
